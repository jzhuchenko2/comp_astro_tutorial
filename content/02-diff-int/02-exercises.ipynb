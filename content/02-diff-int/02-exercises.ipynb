{
 "cells": [
  {
   "cell_type": "markdown",
   "metadata": {},
   "source": [
    "# Exercises"
   ]
  },
  {
   "cell_type": "markdown",
   "metadata": {},
   "source": [
    "<div class=\"alert alert-block alert-info\">\n",
    "\n",
    "**1. Second derivative**\n",
    "\n",
    "We can compute a second derivative in the same fashion as we did for the first derivative&mdash;starting with the Taylor expansion about $x_i$ and solving for the second derivative approximation at $i$.\n",
    "    \n",
    "Work out the Taylor expansion and compute the second derivative of $f(x) = \\sin(x)$ on a grid of 10 points from $[0, \\pi]$ at the point `x[3]`.\n",
    "    \n",
    "</div>"
   ]
  },
  {
   "cell_type": "code",
   "execution_count": null,
   "metadata": {},
   "outputs": [],
   "source": []
  },
  {
   "cell_type": "markdown",
   "metadata": {},
   "source": [
    "<div class=\"alert alert-block alert-info\">\n",
    "\n",
    "**2. Integrating to infinity**\n",
    "\n",
    "If our integration limits extend to infinity, we cannot divide the infinite domain into slabs and compute the area under them directly.  Instead we transform the integral.  Consider the gamma function:\n",
    "\n",
    "$$\n",
    "\\Gamma(a) = \\int_0^\\infty x^{a-1} e^{-x} dx\n",
    "$$\n",
    "\n",
    "The integrand has a maximum at $x = a-1$.\n",
    "    \n",
    "To evaluate this numerically, consider a variable transformation of the form:\n",
    "\n",
    "$$\n",
    "z = \\frac{x}{c + x}\n",
    "$$\n",
    "\n",
    "with $c = a - 1$, corresponding to the maximum of the integrand.\n",
    "\n",
    "With this change of variables, we map $x \\in [0, \\infty)$ to $z \\in [0, 1]$.\n",
    "\n",
    "Reexpress the integral in terms of $z$ and do the numerical integration.  Compare to the true value of $\\Gamma(a)$ for a few values of $a$.\n",
    "    \n",
    "</div>"
   ]
  },
  {
   "cell_type": "code",
   "execution_count": null,
   "metadata": {},
   "outputs": [],
   "source": []
  }
 ],
 "metadata": {
  "kernelspec": {
   "display_name": "Python 3",
   "language": "python",
   "name": "python3"
  },
  "language_info": {
   "codemirror_mode": {
    "name": "ipython",
    "version": 3
   },
   "file_extension": ".py",
   "mimetype": "text/x-python",
   "name": "python",
   "nbconvert_exporter": "python",
   "pygments_lexer": "ipython3",
   "version": "3.8.7"
  }
 },
 "nbformat": 4,
 "nbformat_minor": 4
}
