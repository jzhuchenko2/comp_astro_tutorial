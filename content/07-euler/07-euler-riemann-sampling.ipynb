{
 "cells": [
  {
   "cell_type": "markdown",
   "metadata": {
    "slideshow": {
     "slide_type": "slide"
    }
   },
   "source": [
    "# Sampling the Riemann solution"
   ]
  },
  {
   "cell_type": "markdown",
   "metadata": {
    "slideshow": {
     "slide_type": "slide"
    }
   },
   "source": [
    "Once we have the star state, we need to know which state is on the interface of our cells&mdash%that is the state that we will use to evaluate the fluxes through the interface.\n",
    "\n",
    "To determine that state we need to know how fast each of the three waves are moving (and in which direction) and then we simply look for which state is left behind on the interface by the waves moving away from it.\n",
    "\n",
    "![Riemann solution structure](riemann-waves.png)\n",
    "\n",
    "We also know the following about the wave structure:\n",
    "\n",
    "* The middle wave is always a contact discontinuity.  Pressure and velocity are constant across it\n",
    "\n",
    "* The left and right waves are either a shock or rarefaction\n",
    "\n",
    "  * Rarefaction:\n",
    "  \n",
    "    * Entropy is constant across the wave\n",
    "    \n",
    "    * Riemann invariants tell us how to connect the solution across the wave to the star region\n",
    "    \n",
    "  * Shock:\n",
    "  \n",
    "    * Must be dissipative&mdash;entropy is not conserved\n",
    "    \n",
    "    * Jump conditions tell us how to connect to the star state across the shock"
   ]
  },
  {
   "cell_type": "markdown",
   "metadata": {
    "slideshow": {
     "slide_type": "slide"
    }
   },
   "source": [
    "Consider the following 4 cases:\n",
    "\n",
    "![Riemann state](riemann_state.png)"
   ]
  },
  {
   "cell_type": "markdown",
   "metadata": {},
   "source": [
    "Cases (a) and (d) represent supersonic flow to the left or right&mdash;all 3 waves are on one side of the interface.\n",
    "\n",
    "* For case (a), all 3 waves are to the left of the interface, so state $R$ is on the interface.\n",
    "\n",
    "* For case (d) is similar, all 3 waves are to the right of the interface, so state $L$ is on the interface.\n",
    "\n",
    "In cases (b) and (c), one the \"$+$\" and \"$-$\" waves are on either side of the interface and the only difference is the center (\"$0$\") wave, or contact discontinuity.  So we would determine which of the star states is on the interface based on the sign of the contact discontinuity's speed.  \n",
    "\n",
    "* For case (b), the contact is moving to the left so $R_\\star$ state is on the interface\n",
    "\n",
    "* For case (c), the contact is moving to the right, so the $L_\\star$ state is on the interface."
   ]
  },
  {
   "cell_type": "markdown",
   "metadata": {},
   "source": [
    "## Wave speeds\n",
    "\n",
    "### Shock case\n",
    "\n",
    "For a shock, the speed of the shock comes from the Rankine-Hugoniot conditions.\n",
    "\n",
    "For the left wave, the shock speed is:\n",
    "\n",
    "$$\n",
    "S = u_L - c_L \\sqrt{\\frac{\\gamma + 1}{2\\gamma} \\left (\\frac{p_\\star}{p_L} \\right ) + \\frac{\\gamma -1}{2\\gamma}}\n",
    "$$\n",
    "\n",
    "For the right wave, it is:\n",
    "\n",
    "$$\n",
    "S = u_R + c_R \\sqrt{\\frac{\\gamma + 1}{2\\gamma} \\left (\\frac{p_\\star}{p_R} \\right ) + \\frac{\\gamma -1}{2\\gamma}}\n",
    "$$\n",
    "\n",
    "### Contact discontinuity\n",
    "\n",
    "A contact discontinuity propagates in the star region, and the velocity there is $u_\\star$ and is constant in that region, so the contact just propagates at this speed:\n",
    "\n",
    "$$S_0 = u_\\star$$\n",
    "\n",
    "### Rarefaction\n",
    "\n",
    "A rarefaction is subsonic, but it is spread out (it is not a discontinuity).  We call the leading part the \"head\" and the trailing part the \"tail\".  The head and tail move at different speeds, just $u \\pm c$ corresponding to the region they abut.\n",
    "\n",
    "For a left rarefaction:\n",
    "\n",
    "$$S_\\mathrm{head} = u_L - c_L$$\n",
    "$$S_\\mathrm{tail} = u_\\star - c_\\star$$\n",
    "\n",
    "For a right rarefaction:\n",
    "\n",
    "$$S_\\mathrm{head} = u_R + c_R$$\n",
    "$$S_\\mathrm{tail} = u_\\star + c_\\star$$\n"
   ]
  },
  {
   "cell_type": "code",
   "execution_count": null,
   "metadata": {},
   "outputs": [],
   "source": []
  }
 ],
 "metadata": {
  "kernelspec": {
   "display_name": "Python 3",
   "language": "python",
   "name": "python3"
  },
  "language_info": {
   "codemirror_mode": {
    "name": "ipython",
    "version": 3
   },
   "file_extension": ".py",
   "mimetype": "text/x-python",
   "name": "python",
   "nbconvert_exporter": "python",
   "pygments_lexer": "ipython3",
   "version": "3.8.7"
  }
 },
 "nbformat": 4,
 "nbformat_minor": 4
}
