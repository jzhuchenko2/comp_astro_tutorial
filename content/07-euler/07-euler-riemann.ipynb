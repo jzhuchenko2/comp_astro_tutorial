{
 "cells": [
  {
   "cell_type": "code",
   "execution_count": 1,
   "metadata": {},
   "outputs": [],
   "source": [
    "import matplotlib.pyplot as plt\n",
    "import numpy as np\n",
    "import scipy.optimize as optimize"
   ]
  },
  {
   "cell_type": "markdown",
   "metadata": {
    "slideshow": {
     "slide_type": "slide"
    }
   },
   "source": [
    "# Euler Riemann problem"
   ]
  },
  {
   "cell_type": "markdown",
   "metadata": {
    "slideshow": {
     "slide_type": "slide"
    }
   },
   "source": [
    "To compute the fluxes through the interface, we will need to solve the Riemann\n",
    "problem for the Euler equations.  We will formulate it such that we have\n",
    "left and right primitive variable states and we want to find the unique state on the interface:\n",
    "\n",
    "$${\\bf q}_{i+1/2} = \\mathcal{R}({\\bf q}_{i+1/2,L}, {\\bf q}_{i+1/2,R})$$\n",
    "\n",
    "Information about the jump across this interface will be carried away from the interface by the 3 hydrodynamic waves ($u$ and $u\\pm c$).  We can define 4 regions separated by the three waves, which we'll call $L$, $L_\\star$, $R_\\star$, and $R$.\n",
    "\n",
    "![Riemann solution structure](riemann-waves.png)\n",
    "\n",
    "$L$ and $R$ are just our original states&mdash;since no waves have reached them yet, the state is unchanged.  The star states are between the left and right state.  We know from the eigenvectors that all 3 primitive variables, $(\\rho, u, p)$ jump across the left and right state.  But from the center eigenvector, we know only the density jumps.  That means in the star region, the only unknowns are:\n",
    "\n",
    "$$u_\\star, p_\\star, \\rho_{\\star,L}, \\rho_{\\star,R}$$"
   ]
  },
  {
   "cell_type": "markdown",
   "metadata": {
    "slideshow": {
     "slide_type": "slide"
    }
   },
   "source": [
    "## Finding the star state\n",
    "\n",
    "Our first goal is to find the star state.  To do this,\n",
    "we need to know how much each variable changes across each of the three waves.  To complicate matters, the left and right waves can be either shocks or rarefactions.  \n",
    "<div class=\"alert alert-info\">\n",
    "\n",
    "**Note:** We will assume a gamma-law gas for the rest of this notebook.  Keep\n",
    "    in mind that many astrophysical environments need a more general gas, and\n",
    "    while the expressions are different, the basic ideas will carry over to\n",
    "    the general gas case.\n",
    "</div>\n",
    "\n",
    "For a gamma-law gas, we can write down analytic expressions for the change in the primitive variables across both a rarefaction and shock.  We can then solve these to find the state inbetween the left and right waver&mdash;the star state."
   ]
  },
  {
   "cell_type": "markdown",
   "metadata": {},
   "source": [
    "### Shock jump conditions\n",
    "\n",
    "For the case where the left or right wave is a shock, we use the Rankine-Hugoniot jump conditions to connect the states across the wave.\n",
    "\n",
    "We can write the jump conditions in the frame of the shock as (for the left wave):\n",
    "\n",
    "\\begin{align*}\n",
    "\\rho_L \\hat{u}_L &= \\rho_\\star \\hat{u}_\\star \\\\\n",
    "\\rho_L \\hat{u}_L^2 + p_L &= \\rho_\\star {\\hat{u}_\\star}^2 + p_\\star \\\\\n",
    "\\rho_L e_L \\hat{u}_L + p_L \\hat{u}_L + \\frac{1}{2} \\rho_L \\hat{u}_L^3 &=\n",
    "       \\rho_\\star e_\\star \\hat{u}_\\star + p_\\star \\hat{u}_\\star + \\frac{1}{2}\\rho_\\star {\\hat{u}_\\star}^3\n",
    "\\end{align*}\n",
    "\n",
    "where $\\hat{u} = u - S$, and $S$ is the shock speed.\n",
    "\n",
    "With a lot of algebra, you can find the relation of $u_\\star$ to $u_L$ as:\n",
    "\n",
    "$$u_\\star = u_L + \\frac{2 c_L}{\\sqrt{2 \\gamma(\\gamma-1)}} \\frac{1 - \\frac{p_\\star}{p_L}}{\\sqrt{1 + \\frac{\\gamma + 1}{\\gamma -1} \\frac{p_\\star}{p_L}}}$$\n",
    "\n",
    "and similarly for a shock across the right wave:\n",
    "\n",
    "$$u_\\star = u_R - \\frac{2 c_R}{\\sqrt{2 \\gamma(\\gamma-1)}} \\frac{1 - \\frac{p_\\star}{p_R}}{\\sqrt{1 + \\frac{\\gamma + 1}{\\gamma -1} \\frac{p_\\star}{p_R}}}$$\n"
   ]
  },
  {
   "cell_type": "markdown",
   "metadata": {},
   "source": [
    "### Rarefaction solution\n",
    "\n",
    "To understand a rarefaction, let's replace the pressure equation in our system with an entropy equation.  Entropy evolves according to:\n",
    "\n",
    "$$\\frac{Ds}{Dt} = 0$$\n",
    "\n",
    "but now we need to replace the pressure gradient in the momentum equation:\n",
    "\n",
    "$$\\frac{\\partial p(\\rho, s)}{\\partial x} = \n",
    "  \\left . \\frac{\\partial p}{\\partial s} \\right |_\\rho \\frac{\\partial s}{\\partial x} +\n",
    "  \\left . \\frac{\\partial p}{\\partial \\rho} \\right |_s \\frac{\\partial \\rho}{\\partial x}\n",
    "=\n",
    "  \\left . \\frac{\\partial p}{\\partial s} \\right |_\\rho \\frac{\\partial s}{\\partial x} +\n",
    "  \\frac{p\\Gamma_1}{\\rho} \\frac{\\partial \\rho}{\\partial x}\n",
    "$$\n",
    "\n",
    "and our system becomes:\n",
    "\n",
    "$$\n",
    "\\left ( \\begin{array}{c} \\rho \\\\ u \\\\ s \\end{array} \\right )_t +\n",
    "     \\left ( \\begin{array}{ccc} u & \\rho & 0 \\\\\n",
    "                                c^2/\\rho & u & \\frac{p_s}{\\rho}\\\\\n",
    "                                0 & 0 & u \\end{array} \\right )\n",
    "\\left ( \\begin{array}{c} \\rho \\\\ u \\\\ s \\end{array} \\right )_x\n",
    "$$\n",
    "\n",
    "with $p_s = \\partial p / \\partial s |_\\rho$.\n",
    "This has the same eigenvalues as our primitive variable system, but now the right eigenvectors are:\n",
    "\n",
    "$$\n",
    "{\\bf r}^{(-)} = \\left (\\begin{array}{c} 1 \\\\ -c/\\rho \\\\ 0 \\end{array} \\right )\n",
    "\\qquad\n",
    "{\\bf r}^{(0)} = \\left (\\begin{array}{c} 1 \\\\ 0 \\\\ -c^2 / p_s \\end{array} \\right )\n",
    "\\qquad\n",
    "{\\bf r}^{(+)} = \\left (\\begin{array}{c} 1 \\\\ c/\\rho \\\\ 0 \\end{array} \\right )\n",
    "$$\n",
    "\n",
    "We see that entropy is constant across a rarefaction.  We can use this to find the solution linking\n",
    "the states across a rarefaction.\n",
    "Note: we can only use this system when describing rarefactions.  Shocks are dissipative, so entropy will increase across them.\n",
    "\n",
    "We'll work back with the primitive variables now.\n",
    "Across the left wave ('$-$' ), the characteristic variable $w^{(+)}$ is constant, which is defined as:\n",
    "\n",
    "$${\\bf l}^{(+)} \\cdot d{\\bf q} = 0$$\n",
    "\n",
    "Finding the left eigenvalue and doing the dot product gives:\n",
    "\n",
    "$$du + \\frac{dp}{\\rho c} = 0$$\n",
    "\n",
    "across the left wave.  The general solution to this is:\n",
    "\n",
    "$$u = - \\int \\frac{dp}{\\rho c}$$\n",
    "\n",
    "For a gamma-law equation of state, constant entropy means:\n",
    "\n",
    "$$P = K \\rho^\\gamma$$\n",
    "\n",
    "and we can do the integral and we find:\n",
    "\n",
    "$$u + \\frac{2c}{\\gamma - 1} = \\mbox{constant}$$\n",
    "\n",
    "Similarly across the right wave we find:\n",
    "\n",
    "$$u - \\frac{2c}{\\gamma - 1} = \\mbox{constant}$$\n",
    "\n",
    "These are called the *Riemann invariants*.\n",
    "\n",
    "We can use these to link the states across the rarefaction, and we find:\n",
    "\n",
    "$$u_\\star = u_L + \\frac{2 c_L}{\\gamma - 1} \\left [ 1 - \\left ( \\frac{p_\\star}{p_L} \\right )^{(\\gamma-1)/2\\gamma} \\right ]$$\n",
    "\n",
    "for the left rarefaction, and \n",
    "\n",
    "$$u_\\star = u_R - \\frac{2 c_R}{\\gamma - 1} \\left [ 1 - \\left ( \\frac{p_\\star}{p_R} \\right )^{(\\gamma-1)/2\\gamma} \\right ]$$\n",
    "\n",
    "for the right rarefaction."
   ]
  },
  {
   "cell_type": "markdown",
   "metadata": {
    "slideshow": {
     "slide_type": "slide"
    }
   },
   "source": [
    "To describe the Riemann problem, we'll create a `State` object that holds the left or right state"
   ]
  },
  {
   "cell_type": "code",
   "execution_count": 2,
   "metadata": {},
   "outputs": [],
   "source": [
    "class State:\n",
    "    \"\"\" a simple object to hold a primitive variable state \"\"\"\n",
    "\n",
    "    def __init__(self, p=1.0, u=0.0, rho=1.0):\n",
    "        self.p = p\n",
    "        self.u = u\n",
    "        self.rho = rho\n",
    "\n",
    "    def __str__(self):\n",
    "        return f\"rho: {self.rho}; u: {self.u}; p: {self.p}\""
   ]
  },
  {
   "cell_type": "markdown",
   "metadata": {},
   "source": [
    "Now we will define a class that find the star state.  This needs to find the $p_\\star$ such that:\n",
    "\n",
    "$$u_{\\star,L}(p_\\star) = u_{\\star,R}(p_\\star)$$\n",
    "\n",
    "If $p_\\star > p_s$, for $s \\in {L, R}$, then we are a shock (compression), otherwise we are a rarefaction.  So our functions are:\n",
    "\n",
    "$$\n",
    "u_{\\star,L}(p_\\star) = u_L + \\left \\{ \\begin{array}{cc} \n",
    "\\frac{2 c_L}{\\sqrt{2 \\gamma (\\gamma -1)}} \\frac{1 - {p_\\star}/{p_L}}{\\sqrt{1 + \\frac{\\gamma+1}{\\gamma-1} \\frac{p_\\star}{p_L}} } & p_\\star > p_L \\\\[4 mm]\n",
    "\\frac{2 c_L}{\\gamma -1} \\left [ 1 - \\left ( {p_\\star}/{p_L} \\right )^{(\\gamma-1)/(2\\gamma)} \\right ]\n",
    " & p_\\star \\le p_L \\end{array} \\right .\n",
    " $$\n",
    " \n",
    "and\n",
    "\n",
    "$$\n",
    "u_{\\star,R}(p_\\star) = u_R - \\left \\{ \\begin{array}{cc} \n",
    "\\frac{2 c_R}{\\sqrt{2 \\gamma (\\gamma -1)}} \\frac{1 - {p_\\star}/{p_R}}{\\sqrt{1 + \\frac{\\gamma+1}{\\gamma-1} \\frac{p_\\star}{p_R}} } & p_\\star > p_R \\\\[4 mm]\n",
    "\\frac{2 c_R}{\\gamma -1} \\left [ 1 - \\left ( {p_\\star}/{p_R} \\right )^{(\\gamma-1)/(2\\gamma)} \\right ]\n",
    " & p_\\star \\le p_R \\end{array} \\right .\n",
    "$$\n",
    "\n",
    "We solve this by picking a guess for $p_\\star$ and then root finding on the constraint that the velocity in the star region is the same when we come from the left as when we come from the right."
   ]
  },
  {
   "cell_type": "code",
   "execution_count": 8,
   "metadata": {},
   "outputs": [],
   "source": [
    "class RiemannProblem:\n",
    "    \"\"\" a class to define a Riemann problem.  It takes a left\n",
    "        and right state.  Note: we assume a constant gamma \"\"\"\n",
    "\n",
    "    def __init__(self, left_state, right_state, gamma=1.4):\n",
    "        self.left = left_state\n",
    "        self.right = right_state\n",
    "        self.gamma = gamma\n",
    "\n",
    "        self.ustar = None\n",
    "        self.pstar = None\n",
    "\n",
    "    def __str__(self):\n",
    "        return f\"pstar = {self.pstar}, ustar = {self.ustar}\"\n",
    "    \n",
    "    def u_hugoniot(self, p, side):\n",
    "        \"\"\"define the Hugoniot curve, u(p).\"\"\"\n",
    "\n",
    "        if side == \"left\":\n",
    "            state = self.left\n",
    "            s = 1.0\n",
    "        elif side == \"right\":\n",
    "            state = self.right\n",
    "            s = -1.0\n",
    "\n",
    "        c = np.sqrt(self.gamma*state.p/state.rho)\n",
    "\n",
    "        if p < state.p:\n",
    "            # rarefaction\n",
    "            u = state.u + s*(2.0*c/(self.gamma-1.0))* \\\n",
    "                (1.0 - (p/state.p)**((self.gamma-1.0)/(2.0*self.gamma)))\n",
    "        else:\n",
    "            # shock\n",
    "            beta = (self.gamma+1.0)/(self.gamma-1.0)\n",
    "            u = state.u + s*(2.0*c/np.sqrt(2.0*self.gamma*(self.gamma-1.0)))* \\\n",
    "                (1.0 - p/state.p)/np.sqrt(1.0 + beta*p/state.p)\n",
    "\n",
    "        return u\n",
    "\n",
    "    def find_star_state(self, p_min=0.001, p_max=1000.0):\n",
    "        \"\"\" root find the Hugoniot curve to find ustar, pstar \"\"\"\n",
    "\n",
    "        # we need to root-find on\n",
    "        self.pstar = optimize.brentq(\n",
    "            lambda p: self.u_hugoniot(p, \"left\") - self.u_hugoniot(p, \"right\"),\n",
    "            p_min, p_max)\n",
    "        self.ustar = self.u_hugoniot(self.pstar, \"left\")"
   ]
  },
  {
   "cell_type": "markdown",
   "metadata": {},
   "source": [
    "Now, let's visualize the solution.  This function will plot the Hugoniot curves (allowed values of $u$ and $p$ that pass through our state) for both states.  Their intersection is the solution to the Riemann problem&mdash;the star state."
   ]
  },
  {
   "cell_type": "code",
   "execution_count": 6,
   "metadata": {},
   "outputs": [],
   "source": [
    "def plot_hugoniot(riemann_problem, p_min = 0.0, p_max=1.5, N=500):\n",
    "    \"\"\" plot the Hugoniot curves \"\"\"\n",
    "\n",
    "    fig = plt.figure()\n",
    "    ax = fig.add_subplot(111)\n",
    "    \n",
    "    p = np.linspace(p_min, p_max, num=N)\n",
    "    u_left = np.zeros_like(p)\n",
    "    u_right = np.zeros_like(p)\n",
    "\n",
    "    for n in range(N):\n",
    "        u_left[n] = riemann_problem.u_hugoniot(p[n], \"left\")\n",
    "\n",
    "    # shock for p > p_s; rarefaction otherwise\n",
    "    ish = np.where(p > riemann_problem.left.p)\n",
    "    ir = np.where(p < riemann_problem.left.p)\n",
    "\n",
    "    ax.plot(p[ish], u_left[ish], c=\"C0\", ls=\"-\", lw=2)\n",
    "    ax.plot(p[ir], u_left[ir], c=\"C0\", ls=\":\", lw=2)\n",
    "    ax.scatter([riemann_problem.left.p], [riemann_problem.left.u],\n",
    "               marker=\"x\", c=\"C0\", s=40)\n",
    "\n",
    "    du = 0.025*(max(np.max(u_left), np.max(u_right)) -\n",
    "                min(np.min(u_left), np.min(u_right)))\n",
    "\n",
    "    ax.text(riemann_problem.left.p, riemann_problem.left.u+du, \"left\",\n",
    "            horizontalalignment=\"center\", color=\"C0\")\n",
    "\n",
    "\n",
    "    for n in range(N):\n",
    "        u_right[n] = riemann_problem.u_hugoniot(p[n], \"right\")\n",
    "\n",
    "    ish = np.where(p > riemann_problem.right.p)\n",
    "    ir = np.where(p < riemann_problem.right.p)\n",
    "\n",
    "    ax.plot(p[ish], u_right[ish], c=\"C1\", ls=\"-\", lw=2)\n",
    "    ax.plot(p[ir], u_right[ir], c=\"C1\", ls=\":\", lw=2)\n",
    "    ax.scatter([riemann_problem.right.p], [riemann_problem.right.u],\n",
    "               marker=\"x\", c=\"C1\", s=40)\n",
    "\n",
    "    ax.text(riemann_problem.right.p, riemann_problem.right.u+du, \"right\",\n",
    "            horizontalalignment=\"center\", color=\"C1\")\n",
    "\n",
    "    ax.set_xlim(p_min, p_max)\n",
    "\n",
    "    ax.set_xlabel(r\"$p$\", fontsize=\"large\")\n",
    "    ax.set_ylabel(r\"$u$\", fontsize=\"large\")\n",
    "    \n",
    "    return fig"
   ]
  },
  {
   "cell_type": "markdown",
   "metadata": {},
   "source": [
    "Let's look at the solution for the same initial conditions we saw earlier"
   ]
  },
  {
   "cell_type": "code",
   "execution_count": 9,
   "metadata": {},
   "outputs": [
    {
     "name": "stdout",
     "output_type": "stream",
     "text": [
      "pstar = 0.30313017805064685, ustar = 0.9274526200489498\n"
     ]
    },
    {
     "data": {
      "image/png": "[encoded data removed]",
      "text/plain": [
       "<Figure size 432x288 with 1 Axes>"
      ]
     },
     "metadata": {
      "needs_background": "light"
     },
     "output_type": "display_data"
    }
   ],
   "source": [
    "left = State(p=1.0, u=0.0, rho=1.0)\n",
    "right = State(p=0.1, u=0.0, rho=0.125)\n",
    "\n",
    "rp = RiemannProblem(left, right)\n",
    "rp.find_star_state()\n",
    "\n",
    "fig = plot_hugoniot(rp)\n",
    "print(rp)"
   ]
  },
  {
   "cell_type": "markdown",
   "metadata": {},
   "source": [
    "In this figure, a shock is shown as a solid line and a rarefaction is shown as a dotted line.  The solution is where the curves intersect, and we see that the a shock connects the right state to the star state and a rarefaction connects the left state to the star state."
   ]
  },
  {
   "cell_type": "code",
   "execution_count": 19,
   "metadata": {},
   "outputs": [
    {
     "name": "stdout",
     "output_type": "stream",
     "text": [
      "pstar = 5.2191112238136865, ustar = 1.6596103391841412\n"
     ]
    },
    {
     "data": {
      "image/png": "[encoded data removed]",
      "text/plain": [
       "<Figure size 432x288 with 1 Axes>"
      ]
     },
     "metadata": {
      "needs_background": "light"
     },
     "output_type": "display_data"
    }
   ],
   "source": [
    "left = State(p=10.0, u=0.0, rho=1.0)\n",
    "right = State(p=1.0, u=0.0, rho=1.0)\n",
    "\n",
    "rp = RiemannProblem(left, right)\n",
    "rp.find_star_state()\n",
    "\n",
    "fig = plot_hugoniot(rp, p_max=10)\n",
    "print(rp)"
   ]
  },
  {
   "cell_type": "code",
   "execution_count": null,
   "metadata": {},
   "outputs": [],
   "source": []
  }
 ],
 "metadata": {
  "kernelspec": {
   "display_name": "Python 3",
   "language": "python",
   "name": "python3"
  },
  "language_info": {
   "codemirror_mode": {
    "name": "ipython",
    "version": 3
   },
   "file_extension": ".py",
   "mimetype": "text/x-python",
   "name": "python",
   "nbconvert_exporter": "python",
   "pygments_lexer": "ipython3",
   "version": "3.9.5"
  }
 },
 "nbformat": 4,
 "nbformat_minor": 4
}
