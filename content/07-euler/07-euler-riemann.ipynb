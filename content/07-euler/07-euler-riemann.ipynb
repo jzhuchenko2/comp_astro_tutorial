{
 "cells": [
  {
   "cell_type": "markdown",
   "metadata": {
    "slideshow": {
     "slide_type": "slide"
    }
   },
   "source": [
    "# Euler Riemann problem"
   ]
  },
  {
   "cell_type": "markdown",
   "metadata": {
    "slideshow": {
     "slide_type": "slide"
    }
   },
   "source": [
    "To compute the fluxes through the interface, we will need to solve the Riemann\n",
    "problem for the Euler equations.  We will formulate it such that we have\n",
    "left and right primitive variable states and we want to find the unique state on the interface:\n",
    "\n",
    "$${\\bf q}_{i+1/2} = \\mathcal{R}({\\bf q}_{i+1/2,L}, {\\bf q}_{i+1/2,R})$$\n",
    "\n",
    "Information about the jump across this interface will be carried away from the interface by the 3 hydrodynamic waves ($u$ and $u\\pm c$).  We can define 4 regions separated by the three waves, which we'll call $L$, $L_\\star$, $R_\\star$, and $R$.\n",
    "\n",
    "![Riemann solution structure](riemann-waves.png)\n",
    "\n",
    "$L$ and $R$ are just our original states&mdash;since no waves have reached them yet, the state is unchanged.  The star states are between the left and right state.  We know from the eigenvectors that all 3 primitive variables, $(\\rho, u, p)$ jump across the left and right state.  But from the center eigenvector, we know only the density jumps.  That means in the star region, the only unknowns are:\n",
    "\n",
    "$$u_\\star, p_\\star, \\rho_{\\star,L}, \\rho_{\\star,R}$$"
   ]
  },
  {
   "cell_type": "markdown",
   "metadata": {
    "slideshow": {
     "slide_type": "slide"
    }
   },
   "source": [
    "## Finding the star state\n",
    "\n",
    "To solve the Riemann problem, we need to know how much each variable changes across each of the three waves.  To complicate matters, the left and right waves can be either shocks or rarefactions.  \n",
    "\n",
    "<div class=\"alert alert-info\">\n",
    "\n",
    "**Note:** We will assume a gamma-law gas for the rest of this notebook.  Keep\n",
    "    in mind that many astrophysical environments need a more general gas, and\n",
    "    while the expressions are different, the basic ideas will carry over to\n",
    "    the general gas case.\n",
    "</div>\n",
    "\n",
    "For a gamma-law gas, we can write down analytic expressions for the change in the primitive variables across both a rarefaction and shock.  We can then solve these to find the state inbetween the left and right waves (the star state) and then compute the wave speeds."
   ]
  },
  {
   "cell_type": "markdown",
   "metadata": {
    "slideshow": {
     "slide_type": "slide"
    }
   },
   "source": [
    "We'll use an exact Riemann solver to find the solution on the interface.  There a lot of algebra involved in finding the expressions for the jumps across the waves and the wave speeds, which we'll skip (by see my notes).  Instead we'll just use this solver to give us the state."
   ]
  },
  {
   "cell_type": "markdown",
   "metadata": {},
   "source": [
    "One we have the interface state, we can compute the fluxes using this state."
   ]
  },
  {
   "cell_type": "markdown",
   "metadata": {
    "slideshow": {
     "slide_type": "slide"
    }
   },
   "source": [
    "To describe the Riemann problem, we'll create a `State` object that holds the left or right state"
   ]
  },
  {
   "cell_type": "code",
   "execution_count": 3,
   "metadata": {},
   "outputs": [],
   "source": [
    "class State:\n",
    "    \"\"\" a simple object to hold a primitive variable state \"\"\"\n",
    "\n",
    "    def __init__(self, p=1.0, u=0.0, rho=1.0):\n",
    "        self.p = p\n",
    "        self.u = u\n",
    "        self.rho = rho\n",
    "\n",
    "    def __str__(self):\n",
    "        return f\"rho: {self.rho}; u: {self.u}; p: {self.p}\""
   ]
  },
  {
   "cell_type": "markdown",
   "metadata": {},
   "source": [
    "Now we will define a class that find the star state.  This "
   ]
  },
  {
   "cell_type": "code",
   "execution_count": 4,
   "metadata": {},
   "outputs": [],
   "source": [
    "class RiemannProblem:\n",
    "    \"\"\" a class to define a Riemann problem.  It takes a left\n",
    "        and right state.  Note: we assume a constant gamma \"\"\"\n",
    "\n",
    "    def __init__(self, left_state, right_state, gamma=1.4):\n",
    "        self.left = left_state\n",
    "        self.right = right_state\n",
    "        self.gamma = gamma\n",
    "\n",
    "        self.ustar = None\n",
    "        self.pstar = None\n",
    "\n",
    "    def u_hugoniot(self, p, side):\n",
    "        \"\"\"define the Hugoniot curve, u(p).\"\"\"\n",
    "\n",
    "        if side == \"left\":\n",
    "            state = self.left\n",
    "            s = 1.0\n",
    "        elif side == \"right\":\n",
    "            state = self.right\n",
    "            s = -1.0\n",
    "\n",
    "        c = np.sqrt(self.gamma*state.p/state.rho)\n",
    "\n",
    "        if p < state.p:\n",
    "            # rarefaction\n",
    "            u = state.u + s*(2.0*c/(self.gamma-1.0))* \\\n",
    "                (1.0 - (p/state.p)**((self.gamma-1.0)/(2.0*self.gamma)))\n",
    "        else:\n",
    "            # shock\n",
    "            beta = (self.gamma+1.0)/(self.gamma-1.0)\n",
    "            u = state.u + s*(2.0*c/np.sqrt(2.0*self.gamma*(self.gamma-1.0)))* \\\n",
    "                (1.0 - p/state.p)/np.sqrt(1.0 + beta*p/state.p)\n",
    "\n",
    "        return u\n",
    "\n",
    "    def find_star_state(self, p_min=0.001, p_max=1000.0):\n",
    "        \"\"\" root find the Hugoniot curve to find ustar, pstar \"\"\"\n",
    "\n",
    "        # we need to root-find on\n",
    "        self.pstar = optimize.brentq(\n",
    "            lambda p: self.u_hugoniot(p, \"left\") - self.u_hugoniot(p, \"right\"),\n",
    "            p_min, p_max)\n",
    "        self.ustar = self.u_hugoniot(self.pstar, \"left\")"
   ]
  },
  {
   "cell_type": "markdown",
   "metadata": {},
   "source": [
    "## Sampling the solution"
   ]
  },
  {
   "cell_type": "markdown",
   "metadata": {
    "slideshow": {
     "slide_type": "slide"
    }
   },
   "source": [
    "Finally, we can find the solution on the interface by determining which region we are in.\n",
    "![Riemann state](riemann_state.png)"
   ]
  }
 ],
 "metadata": {
  "kernelspec": {
   "display_name": "Python 3",
   "language": "python",
   "name": "python3"
  },
  "language_info": {
   "codemirror_mode": {
    "name": "ipython",
    "version": 3
   },
   "file_extension": ".py",
   "mimetype": "text/x-python",
   "name": "python",
   "nbconvert_exporter": "python",
   "pygments_lexer": "ipython3",
   "version": "3.8.7"
  }
 },
 "nbformat": 4,
 "nbformat_minor": 4
}
