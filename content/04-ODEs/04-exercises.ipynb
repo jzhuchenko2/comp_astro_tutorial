{
 "cells": [
  {
   "cell_type": "markdown",
   "metadata": {},
   "source": [
    "# Exercises"
   ]
  },
  {
   "cell_type": "markdown",
   "metadata": {},
   "source": [
    "<div class=\"alert alert-block alert-info\">\n",
    "\n",
    "**1. Euler-Cromer**\n",
    "\n",
    "A simple change to the first-order Euler method is to update the position first and then use the new position to evalue the acceleration before updating the velocity.  In this sense, we are treating the velocity update implicitly.\n",
    "    \n",
    "</div>"
   ]
  },
  {
   "cell_type": "code",
   "execution_count": null,
   "metadata": {},
   "outputs": [],
   "source": []
  },
  {
   "cell_type": "markdown",
   "metadata": {},
   "source": [
    "<div class=\"alert alert-block alert-info\">\n",
    "\n",
    "**2. Chaos**\n",
    "\n",
    "The equations of motion for a double pendulum consisting of two equal length rigid rods are:\n",
    "    \n",
    "\\begin{eqnarray}\n",
    "    \\dot{\\theta}_1 &=& \\frac{6}{I} \\frac{2 {p_\\theta}_1 - 3 \\cos(\\theta_1 - \\theta_2) {p_\\theta}_2}{16 - 9 \\cos^2 (\\theta_1 - \\theta_2)} \\\\\n",
    "    \\dot{\\theta}_2 &=& \\frac{6}{I} \\frac{2 {p_\\theta}_2 - 3 \\cos(\\theta_1 - \\theta_2) {p_\\theta}_1}{16 - 9 \\cos^2 (\\theta_1 - \\theta_2)} \\\\\n",
    "    {\\dot{p}_\\theta}_1 &=& -\\frac{1}{2} I \\left (\\dot{\\theta}_1\\dot{\\theta}_2 \\sin(\\theta_1 - \\theta_2) + 3 \\frac{g}{l} \\sin \\theta_1 \\right ) \\\\\n",
    "    {\\dot{p}_\\theta}_2 &=& -\\frac{1}{2} I \\left (-\\dot{\\theta}_1\\dot{\\theta}_2 \\sin(\\theta_1 - \\theta_2) +  \\frac{g}{l} \\sin \\theta_2 \\right )\n",
    "\\end{eqnarray}\n",
    "\n",
    "where $I = m l^2$ is the moment of inertia, $\\theta_1$ and $\\theta_2$ are\n",
    "the angles of the two rods with respect to the vertical and ${p_\\theta}_1$\n",
    "    and ${p_\\theta}_2$ are generalized momenta.  See the [wikipedia page on double pendulum](https://en.wikipedia.org/wiki/Double_pendulum) for a derivation.\n",
    "\n",
    "Write a routine to integrate this system using RK4, given initial angles\n",
    "$\\theta_1$ and $\\theta_2$ (take the initial momenta to be 0).\n",
    "    \n",
    "    \n",
    "A double pendulum system is nonlinear and can exhibit chaotic behavior&mdash;the solution at some time in the future depends sensitively on the initial conditions.  Make a plot of the solution you get ($\\theta_1$ and $\\theta_2$ vs. time) with two very closely spaced sets of initial conditions.  What happens to the evolution?\n",
    "    \n",
    "\n",
    "    \n",
    "    \n",
    "</div>"
   ]
  },
  {
   "cell_type": "code",
   "execution_count": null,
   "metadata": {},
   "outputs": [],
   "source": []
  }
 ],
 "metadata": {
  "kernelspec": {
   "display_name": "Python 3",
   "language": "python",
   "name": "python3"
  },
  "language_info": {
   "codemirror_mode": {
    "name": "ipython",
    "version": 3
   },
   "file_extension": ".py",
   "mimetype": "text/x-python",
   "name": "python",
   "nbconvert_exporter": "python",
   "pygments_lexer": "ipython3",
   "version": "3.8.7"
  }
 },
 "nbformat": 4,
 "nbformat_minor": 4
}
