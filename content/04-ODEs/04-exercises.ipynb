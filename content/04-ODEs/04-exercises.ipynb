{
 "cells": [
  {
   "cell_type": "code",
   "execution_count": 4,
   "metadata": {},
   "outputs": [],
   "source": [
    "import numpy as np\n",
    "import matplotlib.pyplot as plt"
   ]
  },
  {
   "cell_type": "markdown",
   "metadata": {},
   "source": [
    "# Exercises"
   ]
  },
  {
   "cell_type": "markdown",
   "metadata": {},
   "source": [
    "<div class=\"alert alert-block alert-info\">\n",
    "\n",
    "**1. Euler-Cromer**\n",
    "\n",
    "A simple change to the first-order Euler method is to update the velocity first and then use the new velocity to evaluate the position:\n",
    "\n",
    "$${\\bf v}^{n+1} = {\\bf v}^n + \\tau \\, {\\bf a}({\\bf r}^{n})$$\n",
    "\n",
    "$${\\bf r}^{n+1} = {\\bf r}^n + \\tau \\, {\\bf v}^{n+1}$$\n",
    "\n",
    "    \n",
    "This is called the *Euler-Cromer* method. \n",
    "In this sense, we are treating the position update implicitly.\n",
    "\n",
    "Integrate the orbit problem with Euler-Cromer and compare to the standard Euler method.  Why do you think the solutions look so different if they are both first-order?\n",
    "</div>"
   ]
  },
  {
   "cell_type": "markdown",
   "metadata": {},
   "source": [
    "To make things simpler, we split the RHS routine into 2, one producing the update to position and one for velocity."
   ]
  },
  {
   "cell_type": "code",
   "execution_count": 5,
   "metadata": {},
   "outputs": [],
   "source": [
    "G = 4*np.pi**2\n",
    "M_sun = 1.0\n",
    "\n",
    "def rhs_r(t, Y):\n",
    "    \n",
    "    # unpack just to make things easier to read\n",
    "    x, y, vx, vy = Y\n",
    "    \n",
    "    xdot = vx\n",
    "    ydot = vy\n",
    "\n",
    "    return np.array([xdot, ydot])\n",
    "\n",
    "def rhs_v(t, Y):\n",
    "\n",
    "    # unpack just to make things easier to read\n",
    "    x, y, vx, vy = Y\n",
    "\n",
    "    r = np.sqrt(x * x + y * y)\n",
    "    \n",
    "    vxdot = -G * M_sun * x / r**3\n",
    "    vydot = -G * M_sun * y / r**3\n",
    "    \n",
    "    return np.array([vxdot, vydot])"
   ]
  },
  {
   "cell_type": "code",
   "execution_count": 6,
   "metadata": {},
   "outputs": [],
   "source": [
    "class OrbitHistory:\n",
    "    \"\"\"store the time history of the orbit solution\"\"\"\n",
    "    \n",
    "    def __init__(self):\n",
    "        self.t = []\n",
    "        self.x = []\n",
    "        self.y = []\n",
    "        self.vx = []\n",
    "        self.vy = []\n",
    "        \n",
    "    def store_current_solution(self, t, Y):\n",
    "        self.t.append(t)\n",
    "        self.x.append(Y[0])\n",
    "        self.y.append(Y[1])\n",
    "        self.vx.append(Y[2])\n",
    "        self.vy.append(Y[3])\n",
    "        \n",
    "    def plot(self, ax=None, label=None):\n",
    "        \"\"\"make a plot of the solution.  If ax is None we setup a figure\n",
    "        and make the entire plot returning the figure object, otherwise, we\n",
    "        just append the plot to a current axis\"\"\"\n",
    "\n",
    "        fig = None\n",
    "        \n",
    "        if ax is None:\n",
    "            fig = plt.figure()\n",
    "            ax = fig.add_subplot(111)\n",
    "\n",
    "            # draw the Sun\n",
    "            ax.scatter([0], [0], marker=(20,1), color=\"y\", s=250)\n",
    "\n",
    "        # draw the orbit\n",
    "        ax.plot(self.x, self.y, label=label)\n",
    "\n",
    "        if fig is not None:\n",
    "            ax.set_aspect(\"equal\")\n",
    "            ax.set_xlabel(\"x [AU]\")\n",
    "            ax.set_ylabel(\"y [AU]\")\n",
    "            \n",
    "            return fig, ax"
   ]
  },
  {
   "cell_type": "code",
   "execution_count": 7,
   "metadata": {},
   "outputs": [],
   "source": [
    "def initial_conditions():\n",
    "    x0 = 0\n",
    "    y0 = 1\n",
    "    vx0 = -np.sqrt(G*M_sun/y0)\n",
    "    vy0 = 0\n",
    "\n",
    "    return np.array([x0, y0, vx0, vy0])"
   ]
  },
  {
   "cell_type": "code",
   "execution_count": 8,
   "metadata": {},
   "outputs": [],
   "source": [
    "def euler_orbit(Y0, tau, T):\n",
    "    \n",
    "    # we'll return an orbit history object\n",
    "    o = OrbitHistory()\n",
    "    \n",
    "    # storage for the new solution\n",
    "    Y = Y0.copy()\n",
    "    \n",
    "    # initialize time\n",
    "    t = 0\n",
    "    \n",
    "    # store the initial conditions\n",
    "    o.store_current_solution(t, Y0)\n",
    "    \n",
    "    # main timestep loop\n",
    "    while t < T:\n",
    "        \n",
    "        # make sure that the last step does not take us past T\n",
    "        if t + tau > T:\n",
    "            tau = T - t\n",
    "\n",
    "        # get the RHS\n",
    "        Rdot = rhs_r(t, Y)\n",
    "        Vdot = rhs_v(t, Y)\n",
    "        \n",
    "        Y[0] += tau * Rdot[0]\n",
    "        Y[1] += tau * Rdot[1]\n",
    "\n",
    "        Y[2] += tau * Vdot[0]\n",
    "        Y[3] += tau * Vdot[1]\n",
    "\n",
    "        t += tau\n",
    "        \n",
    "        # store the state\n",
    "        o.store_current_solution(t, Y)\n",
    "        \n",
    "    return o\n",
    "        "
   ]
  },
  {
   "cell_type": "code",
   "execution_count": 9,
   "metadata": {},
   "outputs": [
    {
     "data": {
      "text/plain": [
       "(<Figure size 432x288 with 1 Axes>,\n",
       " <AxesSubplot:xlabel='x [AU]', ylabel='y [AU]'>)"
      ]
     },
     "execution_count": 9,
     "metadata": {},
     "output_type": "execute_result"
    },
    {
     "data": {
      "image/png": "[encoded data removed]",
      "text/plain": [
       "<Figure size 432x288 with 1 Axes>"
      ]
     },
     "metadata": {
      "needs_background": "light"
     },
     "output_type": "display_data"
    }
   ],
   "source": [
    "Y0 = initial_conditions()\n",
    "tau = 1.0/12.0\n",
    "\n",
    "orbit = euler_orbit(Y0, tau, 1)\n",
    "\n",
    "orbit.plot()"
   ]
  },
  {
   "cell_type": "code",
   "execution_count": 11,
   "metadata": {},
   "outputs": [],
   "source": [
    "def euler_cromer_orbit(Y0, tau, T):\n",
    "    \n",
    "    # we'll return an orbit history object\n",
    "    o = OrbitHistory()\n",
    "    \n",
    "    # storage for the new solution\n",
    "    Y = Y0.copy()\n",
    "    \n",
    "    # initialize time\n",
    "    t = 0\n",
    "    \n",
    "    # store the initial conditions\n",
    "    o.store_current_solution(t, Y0)\n",
    "    \n",
    "    # main timestep loop\n",
    "    while t < T:\n",
    "        \n",
    "        # make sure that the last step does not take us past T\n",
    "        if t + tau > T:\n",
    "            tau = T - t\n",
    "\n",
    "        # get the RHS\n",
    "        Vdot = rhs_v(t, Y)\n",
    "                \n",
    "        Y[2] += tau * Vdot[0]\n",
    "        Y[3] += tau * Vdot[1]\n",
    "        \n",
    "        Rdot = rhs_r(t, Y)\n",
    "        \n",
    "        Y[0] += tau * Rdot[0]\n",
    "        Y[1] += tau * Rdot[1]\n",
    "\n",
    "        t += tau\n",
    "        \n",
    "        # store the state\n",
    "        o.store_current_solution(t, Y)\n",
    "        \n",
    "    return o\n",
    "        "
   ]
  },
  {
   "cell_type": "code",
   "execution_count": 12,
   "metadata": {},
   "outputs": [
    {
     "data": {
      "text/plain": [
       "(<Figure size 432x288 with 1 Axes>,\n",
       " <AxesSubplot:xlabel='x [AU]', ylabel='y [AU]'>)"
      ]
     },
     "execution_count": 12,
     "metadata": {},
     "output_type": "execute_result"
    },
    {
     "data": {
      "image/png": "[encoded data removed]",
      "text/plain": [
       "<Figure size 432x288 with 1 Axes>"
      ]
     },
     "metadata": {
      "needs_background": "light"
     },
     "output_type": "display_data"
    }
   ],
   "source": [
    "tau = 1.0/12.0\n",
    "\n",
    "orbit = euler_cromer_orbit(Y0, tau, 1)\n",
    "orbit.plot()"
   ]
  },
  {
   "cell_type": "markdown",
   "metadata": {},
   "source": [
    "What's going on here?  Clearly the orbit looks a lot better for Euler-Cromer than just Euler.  \n",
    "\n",
    "The reason is that Euler-Cromer actually conserves a discrete form of angular momentum, while standard Euler does not.  Euler-Cromer is an example of a [symplectic integrator](https://en.wikipedia.org/wiki/Symplectic_integrator)."
   ]
  },
  {
   "cell_type": "markdown",
   "metadata": {},
   "source": [
    "<div class=\"alert alert-block alert-info\">\n",
    "\n",
    "**2. Energy conservation**\n",
    "\n",
    "We can define the total energy / mass of our orbit system as:\n",
    "    \n",
    "$$\\mathcal{E} = \\frac{1}{2} |{\\bf v}|^2 - \\frac{GM_\\star}{r}$$\n",
    "    \n",
    "since the mass of our planet does not change, this is conserved.  Plot $\\mathcal{E}$ vs. time for the orbit for the different methods we looked at (including Euler-Cromer, from above).  How well do they conserve energy?\n",
    "    \n",
    "</div>"
   ]
  },
  {
   "cell_type": "code",
   "execution_count": null,
   "metadata": {},
   "outputs": [],
   "source": []
  },
  {
   "cell_type": "markdown",
   "metadata": {},
   "source": [
    "<div class=\"alert alert-block alert-info\">\n",
    "\n",
    "**3. Chaos**\n",
    "\n",
    "The equations of motion for a double pendulum consisting of two equal length rigid rods are:\n",
    "    \n",
    "$$\\dot{\\theta}_1 = \\frac{6}{I} \\frac{2 {p_\\theta}_1 - 3 \\cos(\\theta_1 - \\theta_2) {p_\\theta}_2}{16 - 9 \\cos^2 (\\theta_1 - \\theta_2)}$$\n",
    "    \n",
    "$$\\dot{\\theta}_2 = \\frac{6}{I} \\frac{2 {p_\\theta}_2 - 3 \\cos(\\theta_1 - \\theta_2) {p_\\theta}_1}{16 - 9 \\cos^2 (\\theta_1 - \\theta_2)}$$\n",
    "    \n",
    "$${\\dot{p}_\\theta}_1 = -\\frac{1}{2} I \\left (\\dot{\\theta}_1\\dot{\\theta}_2 \\sin(\\theta_1 - \\theta_2) + 3 \\frac{g}{l} \\sin \\theta_1 \\right )$$\n",
    "    \n",
    "$${\\dot{p}_\\theta}_2 = -\\frac{1}{2} I \\left (-\\dot{\\theta}_1\\dot{\\theta}_2 \\sin(\\theta_1 - \\theta_2) +  \\frac{g}{l} \\sin \\theta_2 \\right )$$\n",
    "    \n",
    "\n",
    "where $I = m l^2$ is the moment of inertia, $\\theta_1$ and $\\theta_2$ are\n",
    "the angles of the two rods with respect to the vertical and ${p_\\theta}_1$\n",
    "    and ${p_\\theta}_2$ are generalized momenta.  See the [wikipedia page on double pendulum](https://en.wikipedia.org/wiki/Double_pendulum) for a derivation.\n",
    "\n",
    "Write a routine to integrate this system using RK4, given initial angles\n",
    "$\\theta_1$ and $\\theta_2$ (take the initial momenta to be 0).\n",
    "    \n",
    "    \n",
    "A double pendulum system is nonlinear and can exhibit chaotic behavior&mdash;the solution at some time in the future depends sensitively on the initial conditions.  Make a plot of the solution you get ($\\theta_1$ and $\\theta_2$ vs. time) with two very closely spaced sets of initial conditions.  What happens to the evolution?\n",
    "    \n",
    "\n",
    "    \n",
    "    \n",
    "</div>"
   ]
  },
  {
   "cell_type": "code",
   "execution_count": null,
   "metadata": {},
   "outputs": [],
   "source": []
  }
 ],
 "metadata": {
  "kernelspec": {
   "display_name": "Python 3",
   "language": "python",
   "name": "python3"
  },
  "language_info": {
   "codemirror_mode": {
    "name": "ipython",
    "version": 3
   },
   "file_extension": ".py",
   "mimetype": "text/x-python",
   "name": "python",
   "nbconvert_exporter": "python",
   "pygments_lexer": "ipython3",
   "version": "3.9.1"
  }
 },
 "nbformat": 4,
 "nbformat_minor": 4
}
