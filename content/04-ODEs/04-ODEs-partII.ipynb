{
 "cells": [
  {
   "cell_type": "code",
   "execution_count": 6,
   "metadata": {
    "tags": [
     "hide-cell"
    ]
   },
   "outputs": [],
   "source": [
    "import numpy as np\n",
    "import matplotlib.pyplot as plt\n",
    "import matplotlib as mpl\n",
    "mpl.rcParams['figure.dpi'] = 100\n",
    "mpl.rcParams['figure.figsize'] = (10, 8)"
   ]
  },
  {
   "cell_type": "markdown",
   "metadata": {},
   "source": [
    "# Higher-order Accurate ODE Integration"
   ]
  },
  {
   "cell_type": "markdown",
   "metadata": {},
   "source": [
    "We'll continue to work on the orbit problem, so let's define our RHS."
   ]
  },
  {
   "cell_type": "code",
   "execution_count": 7,
   "metadata": {
    "tags": [
     "hide-cell"
    ]
   },
   "outputs": [],
   "source": [
    "G = 4*np.pi**2\n",
    "M_sun = 1.0\n",
    "\n",
    "def rhs(t, Y):\n",
    "    \n",
    "    # unpack just to make things easier to read\n",
    "    x, y, vx, vy = Y\n",
    "    \n",
    "    xdot = vx\n",
    "    ydot = vy\n",
    "    \n",
    "    r = np.sqrt(x * x + y * y)\n",
    "    \n",
    "    vxdot = -G * M_sun * x / r**3\n",
    "    vydot = -G * M_sun * y / r**3\n",
    "    \n",
    "    return np.array([xdot, ydot, vxdot, vydot])"
   ]
  },
  {
   "cell_type": "markdown",
   "metadata": {},
   "source": [
    "We'll also define our `OrbitHistory` class again, this time adding a method to return the error we explored previously."
   ]
  },
  {
   "cell_type": "code",
   "execution_count": 16,
   "metadata": {
    "tags": [
     "hide-cell"
    ]
   },
   "outputs": [],
   "source": [
    "class OrbitHistory:\n",
    "    \"\"\"store the time history of the orbit solution\"\"\"\n",
    "    \n",
    "    def __init__(self):\n",
    "        self.t = []\n",
    "        self.x = []\n",
    "        self.y = []\n",
    "        self.vx = []\n",
    "        self.vy = []\n",
    "        \n",
    "    def store_current_solution(self, t, Y):\n",
    "        self.t.append(t)\n",
    "        self.x.append(Y[0])\n",
    "        self.y.append(Y[1])\n",
    "        self.vx.append(Y[2])\n",
    "        self.vy.append(Y[3])\n",
    "        \n",
    "    def error_radius(self):\n",
    "        \"\"\"return the difference in the distance from the Sun\"\"\"\n",
    "        R_orig = np.sqrt(self.x[0]**2 + self.y[0]**2)\n",
    "        R_new = np.sqrt(self.x[-1]**2 + self.y[-1]**2)\n",
    "        return np.abs(R_new - R_orig)        \n",
    "\n",
    "    def error_position(self):\n",
    "        \"\"\"return the difference in the distance from the Sun\"\"\"\n",
    "        dx = self.x[0] - self.x[-1]\n",
    "        dy = self.y[0] - self.y[-1]\n",
    "        return np.sqrt(dx**2 + dy**2)\n"
   ]
  },
  {
   "cell_type": "markdown",
   "metadata": {},
   "source": [
    "## 2nd-order Runge Kutta / Midpoint method\n",
    "\n",
    "The Euler method was based on a first-order difference approximation to the derivative.  But we know that a centered-derivative is second order accurate, so we can try to update our system in the form:\n",
    "\n",
    "$$\\frac{{\\bf r}^{n+1} - {\\bf r}^n}{\\tau} = {\\bf v}^{n+1/2} + \\mathcal{O}(\\tau^2)$$\n",
    "\n",
    "$$\\frac{{\\bf v}^{n+1} - {\\bf v}^n}{\\tau} = {\\bf a}^{n+1/2} + \\mathcal{O}(\\tau^2)$$\n",
    "\n",
    "Then the updates are:\n",
    "\n",
    "$${\\bf r}^{n+1} = {\\bf r}^n + \\tau \\, {\\bf v}^{n+1/2} + \\mathcal{O}(\\tau^3)$$\n",
    "\n",
    "$${\\bf v}^{n+1} = {\\bf v}^n + \\tau \\, {\\bf a}^{n+1/2} + \\mathcal{O}(\\tau^3)$$\n",
    "\n",
    "This is locally third-order accurate (but globally second-order accurate), but we don't know how to compute the state at the half-time."
   ]
  },
  {
   "cell_type": "markdown",
   "metadata": {},
   "source": [
    "To find the $n+1/2$ state, we first use Euler's method to predict the state at the midpoint in time.  We then use this provisional state to evaluate the accelerations at the midpoint and use those to update the state fully through $\\tau$.  \n",
    "\n",
    "The two step process appears as:\n",
    "\n",
    "$${\\bf r}^\\star = {\\bf r}^n + (\\tau / 2) {\\bf v}^n$$\n",
    "\n",
    "$${\\bf v}^\\star = {\\bf v}^n + (\\tau / 2) {\\bf a}^n$$\n",
    "\n",
    "then we use this for the full update:\n",
    "\n",
    "$${\\bf r}^{n+1} = {\\bf r}^n + \\tau \\,  {\\bf v}^\\star$$\n",
    "\n",
    "$${\\bf v}^{n+1} = {\\bf v}^n + \\tau \\, {\\bf a}({\\bf r}^\\star)$$"
   ]
  },
  {
   "cell_type": "markdown",
   "metadata": {},
   "source": [
    "Graphically this looks like the following:\n",
    "\n",
    "First we take a half step and we evaluate the slope at the midpoint:\n",
    "\n",
    "![RK2 half step](rk2_halfEuler.png)\n",
    "\n",
    "Then we go back to $t^n$ but follow the slope we found above all the way to $t^{n+1}$:\n",
    "\n",
    "![RK2 final](rk2_final.png)\n",
    "\n",
    "Notice how the final step (the red line) is parallel to the slope we computed at $t^{n+1/2}$.  Also note that the solution at $t^{n+1}$ is much closer to the analytic solution than in the figure from Euler's method."
   ]
  },
  {
   "cell_type": "markdown",
   "metadata": {},
   "source": [
    "Let's see how this method does with the orbit problem."
   ]
  },
  {
   "cell_type": "code",
   "execution_count": 9,
   "metadata": {},
   "outputs": [],
   "source": [
    "def euler_rk2(Y0, tau, T):\n",
    "\n",
    "    # we'll return an orbit history object\n",
    "    o = OrbitHistory()\n",
    "    \n",
    "    # storage for the new solution\n",
    "    Y = Y0.copy()\n",
    "    \n",
    "    # initialize time\n",
    "    t = 0\n",
    "    \n",
    "    # store the initial conditions\n",
    "    o.store_current_solution(t, Y0)\n",
    "    \n",
    "    # main timestep loop\n",
    "    while t < T:\n",
    "        \n",
    "        # make sure that the last step does not take us past T\n",
    "        if t + tau > T:\n",
    "            tau = T - t\n",
    "\n",
    "        # get the RHS\n",
    "        Ydot = rhs(t, Y)\n",
    "    \n",
    "        # predict the state at the midpoint\n",
    "        Ytmp = Y + 0.5 * tau * Ydot\n",
    "        \n",
    "        # evaluate the RHS at the midpoint\n",
    "        Ydot = rhs(t + 0.5*tau, Ytmp)\n",
    "        \n",
    "        # do the final update\n",
    "        Y += tau * Ydot\n",
    "        t += tau\n",
    "        \n",
    "        # store the state\n",
    "        o.store_current_solution(t, Y)\n",
    "        \n",
    "    return o\n",
    " "
   ]
  },
  {
   "cell_type": "markdown",
   "metadata": {},
   "source": [
    "Setup our initial conditions as before with Earth on the +y axis and a counterclockwise circular velocity."
   ]
  },
  {
   "cell_type": "code",
   "execution_count": 10,
   "metadata": {},
   "outputs": [],
   "source": [
    "T = 1\n",
    "x0 = 0\n",
    "y0 = 1\n",
    "vx0 = -np.sqrt(G*M_sun/y0)\n",
    "vy0 = 0\n",
    "\n",
    "Y0 = np.array([x0, y0, vx0, vy0])\n",
    "\n",
    "tau = 1.0/12.0\n",
    "\n",
    "orbit = euler_rk2(Y0, tau, 1)"
   ]
  },
  {
   "cell_type": "markdown",
   "metadata": {},
   "source": [
    "Let's plot our orbit"
   ]
  },
  {
   "cell_type": "code",
   "execution_count": 1,
   "metadata": {},
   "outputs": [
    {
     "ename": "NameError",
     "evalue": "name 'plt' is not defined",
     "output_type": "error",
     "traceback": [
      "\u001b[0;31m---------------------------------------------------------------------------\u001b[0m",
      "\u001b[0;31mNameError\u001b[0m                                 Traceback (most recent call last)",
      "\u001b[0;32m<ipython-input-1-d7b0db7d8e4b>\u001b[0m in \u001b[0;36m<module>\u001b[0;34m\u001b[0m\n\u001b[0;32m----> 1\u001b[0;31m \u001b[0mfig\u001b[0m \u001b[0;34m=\u001b[0m \u001b[0mplt\u001b[0m\u001b[0;34m.\u001b[0m\u001b[0mfigure\u001b[0m\u001b[0;34m(\u001b[0m\u001b[0;34m)\u001b[0m\u001b[0;34m\u001b[0m\u001b[0;34m\u001b[0m\u001b[0m\n\u001b[0m\u001b[1;32m      2\u001b[0m \u001b[0max\u001b[0m \u001b[0;34m=\u001b[0m \u001b[0mfig\u001b[0m\u001b[0;34m.\u001b[0m\u001b[0madd_subplot\u001b[0m\u001b[0;34m(\u001b[0m\u001b[0;36m111\u001b[0m\u001b[0;34m)\u001b[0m\u001b[0;34m\u001b[0m\u001b[0;34m\u001b[0m\u001b[0m\n\u001b[1;32m      3\u001b[0m \u001b[0;34m\u001b[0m\u001b[0m\n\u001b[1;32m      4\u001b[0m \u001b[0;31m# draw the Sun\u001b[0m\u001b[0;34m\u001b[0m\u001b[0;34m\u001b[0m\u001b[0;34m\u001b[0m\u001b[0m\n\u001b[1;32m      5\u001b[0m \u001b[0max\u001b[0m\u001b[0;34m.\u001b[0m\u001b[0mscatter\u001b[0m\u001b[0;34m(\u001b[0m\u001b[0;34m[\u001b[0m\u001b[0;36m0\u001b[0m\u001b[0;34m]\u001b[0m\u001b[0;34m,\u001b[0m \u001b[0;34m[\u001b[0m\u001b[0;36m0\u001b[0m\u001b[0;34m]\u001b[0m\u001b[0;34m,\u001b[0m \u001b[0mmarker\u001b[0m\u001b[0;34m=\u001b[0m\u001b[0;34m(\u001b[0m\u001b[0;36m20\u001b[0m\u001b[0;34m,\u001b[0m\u001b[0;36m1\u001b[0m\u001b[0;34m)\u001b[0m\u001b[0;34m,\u001b[0m \u001b[0mcolor\u001b[0m\u001b[0;34m=\u001b[0m\u001b[0;34m\"y\"\u001b[0m\u001b[0;34m,\u001b[0m \u001b[0ms\u001b[0m\u001b[0;34m=\u001b[0m\u001b[0;36m250\u001b[0m\u001b[0;34m)\u001b[0m\u001b[0;34m\u001b[0m\u001b[0;34m\u001b[0m\u001b[0m\n",
      "\u001b[0;31mNameError\u001b[0m: name 'plt' is not defined"
     ]
    }
   ],
   "source": [
    "fig = plt.figure()\n",
    "ax = fig.add_subplot(111)\n",
    "\n",
    "# draw the Sun\n",
    "ax.scatter([0], [0], marker=(20,1), color=\"y\", s=250)\n",
    "\n",
    "# draw the orbit\n",
    "ax.plot(orbit.x, orbit.y)\n",
    "\n",
    "ax.set_aspect(\"equal\")\n",
    "ax.set_xlabel(\"x [AU]\")\n",
    "ax.set_ylabel(\"y [AU]\")"
   ]
  },
  {
   "cell_type": "markdown",
   "metadata": {},
   "source": [
    "This is substantially better than the first-order Euler method.  Now let's look at a range of timesteps."
   ]
  },
  {
   "cell_type": "code",
   "execution_count": 18,
   "metadata": {},
   "outputs": [
    {
     "data": {
      "text/plain": [
       "Text(0, 0.5, 'y [AU]')"
      ]
     },
     "execution_count": 18,
     "metadata": {},
     "output_type": "execute_result"
    },
    {
     "data": {
      "image/png": "[encoded data removed]",
      "text/plain": [
       "<Figure size 1000x800 with 1 Axes>"
      ]
     },
     "metadata": {
      "needs_background": "light"
     },
     "output_type": "display_data"
    }
   ],
   "source": [
    "fig = plt.figure()\n",
    "ax = fig.add_subplot(111)\n",
    "\n",
    "# draw the Sun\n",
    "ax.scatter([0], [0], marker=(20,1), color=\"y\", s=250)\n",
    "\n",
    "taus = [0.1, 0.05, 0.025]\n",
    "\n",
    "for tau in taus:\n",
    "    orbit = euler_rk2(Y0, tau, 1)\n",
    "    \n",
    "    ax.plot(orbit.x, orbit.y, label=rf\"$\\tau = {tau:6.4f}$\")\n",
    "\n",
    "ax.set_aspect(\"equal\")\n",
    "ax.legend()\n",
    "ax.set_xlabel(\"x [AU]\")\n",
    "ax.set_ylabel(\"y [AU]\")"
   ]
  },
  {
   "cell_type": "markdown",
   "metadata": {},
   "source": [
    "and how does the error converge?"
   ]
  },
  {
   "cell_type": "code",
   "execution_count": 24,
   "metadata": {},
   "outputs": [
    {
     "name": "stdout",
     "output_type": "stream",
     "text": [
      "tau = 0.1, error = 0.011600055274576526 1.08559003010644\n",
      "tau = 0.05, error = 0.011122662272447181 0.35694171496532084\n",
      "tau = 0.025, error = 0.0024708535489856853 0.09666868480861457\n",
      "tau = 0.0125, error = 0.0003606860353677632 0.023906400259474197\n",
      "tau = 0.00625, error = 4.692610158629762e-05 0.0058463428972516706\n"
     ]
    }
   ],
   "source": [
    "for tau in [0.1, 0.05, 0.025, 0.0125, 0.00625]:\n",
    "    o = euler_rk2(Y0, tau, 1)\n",
    "    print(f\"tau = {tau}, error = {o.error_radius()} {o.error_position()}\")"
   ]
  },
  {
   "cell_type": "markdown",
   "metadata": {},
   "source": [
    "Notice that once we get past the first, very coarse $\\tau$, the errors seem to decrease by a factor of 4 when we halve the timestep&mdash;as we'd expect for a 2nd order accurate method. (Actually, it looks like the measure of radius converges better than position)."
   ]
  },
  {
   "cell_type": "markdown",
   "metadata": {},
   "source": [
    "## 4th-order Runge-Kutta"
   ]
  },
  {
   "cell_type": "markdown",
   "metadata": {},
   "source": [
    "Now we consider a 4th order accurate method&mdash;4th order Runge-Kutta (RK4).  For many problems, this method will work very well and as a result, RK4 is widely used.\n",
    "\n",
    "We'll consider a general system of first order differential equations:\n",
    "\n",
    "$$\\dot{\\bf y} = {\\bf f}({\\bf y})$$"
   ]
  },
  {
   "cell_type": "markdown",
   "metadata": {},
   "source": [
    "The advance begins by estimating the derivatives (righthand side or slope) at time $t^n$.  We'll call this ${\\bf k}_1$.\n",
    "\n",
    "![4th order Runge-Kutta k1](rk4_k1.png)\n",
    "\n",
    "We then follow the slope ${\\bf k}_1$ to the midpoint in time, $t^{n+1/2}$ and evaluate the slope there.  We call the new slope ${\\bf k}_2$.\n",
    "\n",
    "![4th order Runge-Kutta k2](rk4_k2.png)\n",
    "\n",
    "We then go back to the start, but this time follow the new slope,\n",
    "${\\bf k}_2$ to the midpoint in time, $t^{n+1/2}$.  We again evaluate the slope here, and call it ${\\bf k}_3$.\n",
    "\n",
    "![4th order Runge-Kutta k3](rk4_k3.png)\n",
    "\n",
    "Finally, we go back to the start and follow ${\\bf k}_3$ for the full\n",
    "timestep, to $t^{n+1}$ and evaluate the slope there, calling it ${\\bf k}_4$.\n",
    "\n",
    "![4th order Runge-Kutta k4](rk4_k4.png)\n",
    "\n",
    "We then get the updated solution using a linear combination of the 4 slopes:\n",
    "\n",
    "$${\\bf y}^{n+1} = {\\bf y}^n + \\frac{\\tau}{6} ({\\bf k}_1 + 2 {\\bf k}_2 + 2 {\\bf k}_3 + {\\bf k}_4)$$\n",
    "\n",
    "![4th order Runge-Kutta final](rk4_final.png)\n",
    "\n",
    "Note the similarity of RK4 to Simpson's rule for integration."
   ]
  },
  {
   "cell_type": "markdown",
   "metadata": {},
   "source": [
    "<div class=\"alert alert-block alert-info\">\n",
    "\n",
    "**Exercise:**\n",
    "    \n",
    "Implement RK4 as described above and use it to evolve the orbit problem and measure the convergence.\n",
    "\n",
    "</div>"
   ]
  },
  {
   "cell_type": "markdown",
   "metadata": {},
   "source": [
    "## Timestepping"
   ]
  },
  {
   "cell_type": "markdown",
   "metadata": {},
   "source": [
    "In the above examples, we always kept the timestep $\\tau$ fixed, but in general, finding the solution to a system of ODEs might have portions in time where the solution is changing rapidly and a smaller $\\tau$ would be needed.  Likewise, is the solution is changing slowly, we can use a larger timestep.\n",
    "\n",
    "Most ODE libraries use some form of local error estimation to measure how the large the error is in the solution and adjust the timestep (up or down) to achieve a desired accuracy.\n",
    "\n",
    "To see why this might be needed, consider an elliptical orbit.\n",
    "\n",
    "![elliptical orbit](ellipse_initial_cond.png)\n",
    "\n",
    "The initial conditions for a planet at perihelion (on the +y axis) are:\n",
    "\n",
    "$$x = 0$$\n",
    "\n",
    "$$y = a (1 - e)$$\n",
    "\n",
    "$$v_x = -\\sqrt{\\frac{GM_\\star}{a} \\frac{1+e}{1-e}}$$\n",
    "\n",
    "$$v_y = 0$$\n",
    "\n",
    "where $a$ is the length of the semi-major axis and $0 \\le e < 1$ is the eccentricity.  For an eccentric orbit, the velocity changes throughout the orbit, so when the planet is at perihelion, the solution is changing rapidly."
   ]
  },
  {
   "cell_type": "markdown",
   "metadata": {},
   "source": [
    "<div class=\"alert alert-block alert-info\">\n",
    "\n",
    "**Exercise:**\n",
    "    \n",
    "Integrate an orbit with a large eccentricity (like $e = 0.8$).  Pick a timestep such that visually the orbit looks okay.  Now make a plot of the total energy per unit mass, $\\mathcal{E}$ vs time:\n",
    "\n",
    "$$\\mathcal{E} = \\frac{1}{2} |{\\bf v}|^2 - \\frac{GM_\\star}{r}$$\n",
    "\n",
    "At what point in the orbit is the energy conservation the worst?    \n",
    "</div>"
   ]
  },
  {
   "cell_type": "code",
   "execution_count": null,
   "metadata": {},
   "outputs": [],
   "source": []
  }
 ],
 "metadata": {
  "kernelspec": {
   "display_name": "Python 3",
   "language": "python",
   "name": "python3"
  },
  "language_info": {
   "codemirror_mode": {
    "name": "ipython",
    "version": 3
   },
   "file_extension": ".py",
   "mimetype": "text/x-python",
   "name": "python",
   "nbconvert_exporter": "python",
   "pygments_lexer": "ipython3",
   "version": "3.8.7"
  }
 },
 "nbformat": 4,
 "nbformat_minor": 4
}
