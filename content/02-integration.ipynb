{
 "cells": [
  {
   "cell_type": "code",
   "execution_count": 1,
   "metadata": {},
   "outputs": [],
   "source": [
    "import numpy as np"
   ]
  },
  {
   "cell_type": "markdown",
   "metadata": {},
   "source": [
    "# Integration\n",
    "\n",
    "As with derivatives, there are two cases where we need to do integrals:\n",
    "\n",
    "1. We are given a function $f(x)$ and are free to evaluate it wherever we wish to compute the integral in a domain $[a,b]$.\n",
    "\n",
    "2. We are given $N$ points (possibly equally spaced) in $[a,b]$ and want to use them to construct the integral over the domain.\n",
    "\n",
    "We'll assume here that the discrete data we have is at equally spaced points, and we will treat cases 1 and 2 with the same methods.  However, note that in general, if you have the freedom to evaluate $f(x)$ at any $x$ (case 1), then you can usually get a far better estimate of the integral by carefully selecting the points to evaluate at, compared to using the same number of equally spaced points (see for instance [Gaussian quadrature](https://en.wikipedia.org/wiki/Gaussian_quadrature))."
   ]
  },
  {
   "cell_type": "markdown",
   "metadata": {},
   "source": [
    "In calculus, you saw a definition of a definite integral that looked something like:\n",
    "\n",
    "$$\n",
    "\\int_a^b f(x) dx = \\lim_{\\Delta x \\rightarrow 0} \\sum_{i = 1}^N f(x_i) \\Delta x\n",
    "$$\n",
    "\n",
    "where $N$ is defined such that $N = (b - a) / \\Delta x$.  Also recall that this definition is directly related to the interpretation of an integral representing the area under a curve.\n",
    "\n",
    "For numerical integration, we will replace the continuous integral with a sum over a finite number of points (we will not take the limit, since we can't sum over an infinite number of points on a computer in a finite amount of time).\n",
    "\n",
    "Any expression for an integral of the form:\n",
    "\n",
    "$$\n",
    "\\int_a^b f(x) dx = \\sum_{i=1}^{N} w_i f(x_i)\n",
    "$$\n",
    "\n",
    "is called a *quadrature rule* in numerical analysis.  Here $w_i$ are the weights multiplying the function values.  Different quadrature rules will have different weights and have differing accuracy and convergence properties."
   ]
  },
  {
   "cell_type": "markdown",
   "metadata": {},
   "source": [
    "## Rectangle rule\n",
    "\n",
    "The simplest method of doing a numerical integral is to divide $[a, b]$ into $N$ slabs and use a single value of $f(x)$ as the function value in each slab.  In this case, we are approximating the integral as a sum of rectangles, giving rise to the *rectangle rule* for numerical integration.\n",
    "\n",
    "\n",
    "Visually, this looks like:\n",
    "\n",
    "![rectangle rule](rectangle.png)"
   ]
  },
  {
   "cell_type": "markdown",
   "metadata": {},
   "source": [
    "## Trapezoid rule\n",
    "\n",
    "The rectangle rule did not account for any variation of $f(x)$ in each slab.  But we can do better simply by evaluating $f(x)$ at the endpoints of each slab and connecting them via a straight line.  Now we have a series of trapezoids instead of rectangles, giving rise to the *trapezoid rule*.\n",
    "\n",
    "Visually, this looks like:\n",
    "\n",
    "![trapezoid rule](trapezoid.png)"
   ]
  },
  {
   "cell_type": "markdown",
   "metadata": {},
   "source": [
    "## Simpsons rule\n",
    "\n",
    "With the trapezoid, we represented that data as a line in each slab.  We can move up to a parabola, but now we need 3 points, so we will use two adjacent slabs.  We then compute the integral by summing up the area under the $N/2$ parabola.\n",
    "\n",
    "Visually, this looks like:\n",
    "\n",
    "![Simpsons rule](simpsons.png)"
   ]
  },
  {
   "cell_type": "code",
   "execution_count": null,
   "metadata": {},
   "outputs": [],
   "source": []
  }
 ],
 "metadata": {
  "kernelspec": {
   "display_name": "Python 3",
   "language": "python",
   "name": "python3"
  },
  "language_info": {
   "codemirror_mode": {
    "name": "ipython",
    "version": 3
   },
   "file_extension": ".py",
   "mimetype": "text/x-python",
   "name": "python",
   "nbconvert_exporter": "python",
   "pygments_lexer": "ipython3",
   "version": "3.8.7"
  }
 },
 "nbformat": 4,
 "nbformat_minor": 4
}
