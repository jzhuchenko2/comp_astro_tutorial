{
 "cells": [
  {
   "cell_type": "code",
   "execution_count": 19,
   "metadata": {},
   "outputs": [],
   "source": [
    "import numpy as np\n",
    "import matplotlib.pyplot as plt"
   ]
  },
  {
   "cell_type": "markdown",
   "metadata": {},
   "source": [
    "# Integration\n",
    "\n",
    "As with derivatives, there are two cases where we need to do integrals:\n",
    "\n",
    "1. We are given a function $f(x)$ and are free to evaluate it wherever we wish to compute the integral in a domain $[a,b]$.\n",
    "\n",
    "2. We are given $N$ points (possibly equally spaced) in $[a,b]$ and want to use them to construct the integral over the domain.\n",
    "\n",
    "We'll assume here that the discrete data we have is at equally spaced points, and we will treat cases 1 and 2 with the same methods.  However, note that in general, if you have the freedom to evaluate $f(x)$ at any $x$ (case 1), then you can usually get a far better estimate of the integral by carefully selecting the points to evaluate at, compared to using the same number of equally spaced points (see for instance [Gaussian quadrature](https://en.wikipedia.org/wiki/Gaussian_quadrature))."
   ]
  },
  {
   "cell_type": "markdown",
   "metadata": {},
   "source": [
    "In calculus, you saw a definition of a definite integral that looked something like:\n",
    "\n",
    "$$\n",
    "I \\equiv \\int_a^b f(x) dx = \\lim_{\\Delta x \\rightarrow 0} \\sum_{i = 1}^N f(x_i) \\Delta x\n",
    "$$\n",
    "\n",
    "where the number of intervals you divide $[a, b]$ into, $N$, is defined such that $N = (b - a) / \\Delta x$.  Also recall that this definition is directly related to the interpretation of an integral representing the area under a curve.\n",
    "\n",
    "For numerical integration, we will replace the continuous integral with a sum over a finite number of points (we will not take the limit, since we can't sum over an infinite number of points on a computer in a finite amount of time).\n",
    "\n",
    "Any expression for an integral of the form:\n",
    "\n",
    "$$\n",
    "I \\equiv \\int_a^b f(x) dx \\approx \\sum_{i=1}^{N} w_i f(x_i)\n",
    "$$\n",
    "\n",
    "is called a *quadrature rule* in numerical analysis.  Here $w_i$ are the weights multiplying the function values.  Different quadrature rules will have different weights and have differing accuracy and convergence properties."
   ]
  },
  {
   "cell_type": "markdown",
   "metadata": {},
   "source": [
    "## Simple numerical integration\n",
    "\n",
    "We'll first look at the case where we represent the data using a low order polynomial and approximate the integral under the function as the area under the polynomial.  With evenly spaced points, these are sometimes called [Newton-Cotes quadrature rules](https://en.wikipedia.org/wiki/Newton%E2%80%93Cotes_formulas)."
   ]
  },
  {
   "cell_type": "markdown",
   "metadata": {},
   "source": [
    "### Rectangle rule\n",
    "\n",
    "The simplest method of doing a numerical integral is to approximate the function as a constant.  This means we use a single value of $f(x)$ to compute the integral.  For instance, we use $f(a)$, the value of the function at the leftmost point of the integration range.  This is called the *rectangle rule*:\n",
    "\n",
    "$$\n",
    "I_r = f(a) (b - a)\n",
    "$$\n",
    "\n",
    "\n",
    "Visually, this looks like:\n",
    "\n",
    "![rectangle rule](rectangle_N1.png)"
   ]
  },
  {
   "cell_type": "markdown",
   "metadata": {},
   "source": [
    "## Trapezoid rule\n",
    "\n",
    "The rectangle rule did not account for any variation of $f(x)$ over the domain.  But we can do better simply by evaluating $f(x)$ at the endpoints of each domain and connecting them via a straight line&mdash;this is a linear interpolation.  Now we have a trapezoids, so the integral is just the area of the trapezoid, giving rise to the *trapezoid rule*.\n",
    "\n",
    "$$\n",
    "I_t = \\frac{b - a}{2} (f(a) + f(b))\n",
    "$$\n",
    "\n",
    "Visually, this looks like:\n",
    "\n",
    "![trapezoid rule](trapezoid_N1.png)"
   ]
  },
  {
   "cell_type": "markdown",
   "metadata": {},
   "source": [
    "## Simpson's rule\n",
    "\n",
    "With the trapezoid, we represented that data as a line in each slab.  We can move up to a parabola, but now we need 3 points, so we will use the midpoint of the domain as well.  We then compute the integral by integrating under the parabola.\n",
    "\n",
    "$$\n",
    "I_s = \\frac{b - a}{6} \\left [f(a) + 4 f\\left (\\frac{a+b}{2}\\right ) + f(b) \\right ]\n",
    "$$\n",
    "\n",
    "Visually, this looks like:\n",
    "\n",
    "![Simpsons rule](simpsons_N1.png)"
   ]
  },
  {
   "cell_type": "markdown",
   "metadata": {},
   "source": [
    "<div class=\"alert alert-block alert-info\">\n",
    "\n",
    "**Exercise:**\n",
    "    \n",
    "Consider the function\n",
    "    \n",
    "$$\n",
    "f(x) = 1 + \\frac{x}{4} \\sin(\\pi x)\n",
    "$$\n",
    " \n",
    "(this is the function that is drawn in the figures).\n",
    "Compute\n",
    "    \n",
    "$$\n",
    "I = \\int_{1/2}^{3/2} f(x) dx\n",
    "$$\n",
    "    \n",
    "using the rectange rule, trapezoid rule, and Simpson's rule.\n",
    "    \n",
    "Note: the analytic result is\n",
    "\n",
    "$$\n",
    "I = 1 - \\frac{1}{2\\pi^2} \\approx 0.949\n",
    "$$\n",
    "    \n",
    "</div>"
   ]
  },
  {
   "cell_type": "code",
   "execution_count": 10,
   "metadata": {},
   "outputs": [
    {
     "name": "stdout",
     "output_type": "stream",
     "text": [
      "1.125 0.875 0.9583333333333333 0.9493394081788311\n"
     ]
    }
   ],
   "source": [
    "def f(x):\n",
    "    return 1 + 0.25 * x * np.sin(np.pi * x)\n",
    "\n",
    "a = 0.5\n",
    "b = 1.5\n",
    "\n",
    "I_r = f(a) * (b - a)\n",
    "I_t = 0.5 * (f(a) + f(b)) * (b - a)\n",
    "I_s = (b - a) / 6.0 * (f(a) + 4 * f((a + b)/2) + f(b))\n",
    "\n",
    "I_a = 1 - 1/(2 * np.pi**2)\n",
    "\n",
    "print(I_r, I_t, I_s, I_a)"
   ]
  },
  {
   "cell_type": "markdown",
   "metadata": {},
   "source": [
    "Note: you can compare you answers to the figures.  You should see that for the rectangle rule you got the largest error and your value is larger than the true integral&mdash;just like the shaded rectangle is above the true function over almost all of the domain.  With the trapezoid rule, you should see that your approximation is smaller than the true integral&mdash;&again, just like how the shaded area is below the true function over most of the domain."
   ]
  },
  {
   "cell_type": "markdown",
   "metadata": {},
   "source": [
    " ## Composite integration\n",
    "\n",
    "It usually doesn't pay to go to higher-order polynomials (e.g., fitting a cubic to 4 points in the domain).  Instead, we can do composite integration by dividing our domain $[a, b]$ into slabs, and then using the above approximations.\n",
    "\n",
    "Here's an illustration of dividing the domain into 6 slabs:\n",
    "\n",
    "![compound integration examples with N=6](compound2.png)\n",
    "\n",
    "Imagine using $N$ slabs.\n",
    "For the rectangle and trapezoid rules, we would apply them N times (once per slab) and sum up the integrals in each slab.\n",
    "For the Simpson's rule, we would apply Simpson's rule over 2 slabs at a time and sum up the integrals over the $N/2$ pair of slabs (this assumes that $N$ is even).\n"
   ]
  },
  {
   "cell_type": "markdown",
   "metadata": {},
   "source": [
    "The composite rule for trapezoid integration is:\n",
    "\n",
    "$$\n",
    "\\int_a^b f(x) dx = \\frac{\\Delta x}{2} \\sum_{i=0}^{N-1} (f_i + f_{i+1}) + \\mathcal{O}(\\Delta x^2)\n",
    "$$\n",
    "\n",
    "and for Simpson's rule, it is:\n",
    "\n",
    "$$\n",
    "\\int_a^b f(x) dx = \\frac{\\Delta x}{3} \\sum_{i = 0}^{N/2-1} (f_{2i} + 4 f_{2i+1} + f_{2i+2}) + \\mathcal{O}(\\Delta x^4)\n",
    "$$"
   ]
  },
  {
   "cell_type": "markdown",
   "metadata": {},
   "source": [
    "<div class=\"alert alert-block alert-info\">\n",
    "\n",
    "**Exercise:**\n",
    "    \n",
    "For the function in the previous exercise, perform a composite integral using the trapezoid and Simpson's rule for $N = 2, 4, 8, 16, 32$.\n",
    "Compute the error with respect to the analytic solution and make a plot of the error vs. $N$ for both methods.  Do the errors follow the scaling shown in the expressions above?\n",
    "    \n",
    "</div>"
   ]
  },
  {
   "cell_type": "code",
   "execution_count": 30,
   "metadata": {},
   "outputs": [
    {
     "data": {
      "text/plain": [
       "Text(0, 0.5, 'error')"
      ]
     },
     "execution_count": 30,
     "metadata": {},
     "output_type": "execute_result"
    },
    {
     "data": {
      "image/png": "[encoded data removed]",
      "text/plain": [
       "<Figure size 432x288 with 1 Axes>"
      ]
     },
     "metadata": {
      "needs_background": "light"
     },
     "output_type": "display_data"
    }
   ],
   "source": [
    "def f(x):\n",
    "    return 1 + 0.25 * x * np.sin(np.pi * x)\n",
    "\n",
    "def I_t(x):\n",
    "    \"\"\"composite trapezoid rule\"\"\"\n",
    "    N = len(x)-1\n",
    "    I = 0.0\n",
    "    for n in range(N):\n",
    "        I += 0.5*(x[n+1] - x[n]) * (f(x[n]) + f(x[n+1]))\n",
    "    return I\n",
    "\n",
    "def I_s(x):\n",
    "    \"\"\"composite Simpsons rule\"\"\"\n",
    "    N = len(x)-1\n",
    "    I = 0.0\n",
    "    for n in range(0, N, 2):\n",
    "        dx = x[n+1] - x[n]\n",
    "        I += dx/3.0 * (f(x[n])+ 4 * f(x[n+1]) + f(x[n+2]))\n",
    "    return I\n",
    "\n",
    "a = 0.5\n",
    "b = 1.5\n",
    "\n",
    "# number of bins\n",
    "N = [2, 4, 8, 16, 32, 64, 128, 256, 512, 1024, 2048, 4096, 8192, 16384]\n",
    "\n",
    "# analytic solution\n",
    "I_a = 1 - 1/(2 * np.pi**2)\n",
    "\n",
    "err_trap = []\n",
    "err_simps = []\n",
    "\n",
    "for nbins in N:\n",
    "\n",
    "    # x values (including rightmost point)\n",
    "    x = np.linspace(a, b, nbins+1)\n",
    "\n",
    "    err_trap.append(np.abs(I_t(x) - I_a))\n",
    "    err_simps.append(np.abs(I_s(x) - I_a))\n",
    "    \n",
    "err_trap = np.asarray(err_trap)\n",
    "err_simps = np.asarray(err_simps)\n",
    "N = np.asarray(N)\n",
    "\n",
    "fig = plt.figure()\n",
    "ax = fig.add_subplot(111)\n",
    "\n",
    "ax.scatter(N, err_trap, label=\"trapezoid rule\")\n",
    "ax.scatter(N, err_simps, label=\"Simpson's rule\")\n",
    "\n",
    "# err = err_0 (N_0 / N) ** order\n",
    "fourth_order = err_simps[0] * (N[0]/N)**4\n",
    "second_order = err_trap[0] * (N[0]/N)**2\n",
    "\n",
    "ax.plot(N, second_order, label=\"2nd order\")\n",
    "ax.plot(N, fourth_order, label=\"4th order\")\n",
    "\n",
    "ax.set_xscale(\"log\")\n",
    "ax.set_yscale(\"log\")\n",
    "\n",
    "ax.legend()\n",
    "ax.set_xlabel(\"number of bins\")\n",
    "ax.set_ylabel(\"error\")"
   ]
  },
  {
   "cell_type": "code",
   "execution_count": null,
   "metadata": {},
   "outputs": [],
   "source": []
  }
 ],
 "metadata": {
  "kernelspec": {
   "display_name": "Python 3",
   "language": "python",
   "name": "python3"
  },
  "language_info": {
   "codemirror_mode": {
    "name": "ipython",
    "version": 3
   },
   "file_extension": ".py",
   "mimetype": "text/x-python",
   "name": "python",
   "nbconvert_exporter": "python",
   "pygments_lexer": "ipython3",
   "version": "3.9.1"
  }
 },
 "nbformat": 4,
 "nbformat_minor": 4
}
