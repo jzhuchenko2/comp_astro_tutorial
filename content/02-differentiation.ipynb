{
 "cells": [
  {
   "cell_type": "code",
   "execution_count": 1,
   "metadata": {},
   "outputs": [],
   "source": [
    "import numpy as np"
   ]
  },
  {
   "cell_type": "markdown",
   "metadata": {},
   "source": [
    "# Differentiation"
   ]
  },
  {
   "cell_type": "markdown",
   "metadata": {},
   "source": [
    "There are two situations where we can imagine needing to compute a derivative:\n",
    "\n",
    "1. We have an analytic function, $f(x)$, and we want to create a\n",
    "numerical approximation to its derivative\n",
    "\n",
    "2. We have a function $f(x)$ defined only at a finite set of (possibly regularly spaced) points, and we want to use that discrete data to estimate the derivative"
   ]
  },
  {
   "cell_type": "markdown",
   "metadata": {},
   "source": [
    "For the first case, it is usually best to take the analytic derivative.  In the previous notebook however, we did look at the effect of roundoff on computing a derivative.\n",
    "\n",
    "We'll focus on the second case here."
   ]
  },
  {
   "cell_type": "markdown",
   "metadata": {},
   "source": [
    "## First order approximations\n",
    "Consider a set of points labeled with an index $i$, with the physical spacing between them denoted $\\Delta x$.  We can use the result of the Taylor expansion we previously derived to write the derivative as:\n",
    "\n",
    "$$\\left . \\frac{d f}{dx} \\right |_i = \\frac{f_{i+1} - f_i}{\\Delta x} + \\mathcal{O}(\\Delta x)$$\n",
    "\n",
    "where $f_{i+1} = f(x_{i+1})$ is the data we have at the point $i+1$.  \n",
    "\n",
    "As $\\Delta x \\rightarrow 0$, this approaches the definition of the derivative from calculus.  However, we are not free to choose $\\Delta x$&mdash;it is a property of the discrete set of points we are given.\n",
    "\n",
    "Note: we could alternately have used the point to the right of $i$:\n",
    "\n",
    "$$\\left . \\frac{d f}{dx} \\right |_i = \\frac{f_{i} - f_{i-1}}{\\Delta x} + \\mathcal{O}(\\Delta x)$$\n"
   ]
  },
  {
   "cell_type": "markdown",
   "metadata": {},
   "source": [
    "## Second order approximation\n",
    "\n",
    "Looking at the Taylor expansion of $f_{i+1} = f(x_{i+1}) = f(x_i + \\Delta x)$, we see\n",
    "\n",
    "$$f_{i+1} = f_i + \\Delta x \\left .\\frac{df}{dx} \\right |_i + \\frac{1}{2} \\Delta x^2 \\left . \\frac{d^2f}{dx^2} \\right |_i + \\mathcal{O}(\\Delta x^3)$$\n",
    "\n",
    "likewise:\n",
    "\n",
    "$$f_{i-1} = f_i - \\Delta x \\left .\\frac{df}{dx} \\right |_i + \\frac{1}{2} \\Delta x^2 \\left . \\frac{d^2f}{dx^2} \\right |_i + \\mathcal{O}(\\Delta x^3)$$\n",
    "\n",
    "subtracting these two expressions give:\n",
    "\n",
    "$$f_{i+1} - f_{i-1} = 2 \\Delta x \\left . \\frac{df}{dx} \\right |_i + \\mathcal{O}(\\Delta x^3)$$\n",
    "\n",
    "or\n",
    "\n",
    "$$\\left . \\frac{df}{dx} \\right |_i = \\frac{f_{i+1} - f_{i-1}}{2 \\Delta x} +\\mathcal{O}(\\Delta x^2)$$\n",
    "\n",
    "This is called the *centered-difference* approximation to the first derivative.  It is second order accurate."
   ]
  },
  {
   "cell_type": "markdown",
   "metadata": {},
   "source": [
    "Graphically, these different approximations appear as:\n",
    "![](derivs.png)"
   ]
  },
  {
   "cell_type": "markdown",
   "metadata": {},
   "source": [
    "<div class=\"alert alert-block alert-info\">\n",
    "\n",
    "**Exercise:**\n",
    "\n",
    "Consider the function $f(x) = \\sin(x)$.  The code below defines 10 equally spaced points and defines $f(x)$ at each point. \n",
    "    \n",
    "Use this discrete data to estimate the derivative at `x[3]` and compute the error with respect to the analytic value.\n",
    "</div>"
   ]
  },
  {
   "cell_type": "code",
   "execution_count": 2,
   "metadata": {},
   "outputs": [],
   "source": [
    "x = np.linspace(0, np.pi, 10)\n",
    "f = np.sin(x)"
   ]
  },
  {
   "cell_type": "code",
   "execution_count": null,
   "metadata": {},
   "outputs": [],
   "source": []
  }
 ],
 "metadata": {
  "kernelspec": {
   "display_name": "Python 3",
   "language": "python",
   "name": "python3"
  },
  "language_info": {
   "codemirror_mode": {
    "name": "ipython",
    "version": 3
   },
   "file_extension": ".py",
   "mimetype": "text/x-python",
   "name": "python",
   "nbconvert_exporter": "python",
   "pygments_lexer": "ipython3",
   "version": "3.9.1"
  }
 },
 "nbformat": 4,
 "nbformat_minor": 4
}
