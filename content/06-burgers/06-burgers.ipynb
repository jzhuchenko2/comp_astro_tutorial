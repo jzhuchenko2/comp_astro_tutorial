{
 "cells": [
  {
   "cell_type": "code",
   "execution_count": 6,
   "metadata": {},
   "outputs": [],
   "source": [
    "import numpy as np\n",
    "import matplotlib.pyplot as plt"
   ]
  },
  {
   "cell_type": "markdown",
   "metadata": {},
   "source": [
    "# Burgers' equation"
   ]
  },
  {
   "cell_type": "markdown",
   "metadata": {},
   "source": [
    "The inviscid Burgers' equation is the simplest nonlinear wave equation, and serves as a great stepping stone toward doing full hydrodynamics.\n",
    "\n",
    "$$u_t + u u_x = 0$$\n",
    "\n",
    "This looks like the linear advection equation, except the quantity being advected is the velocity itself.  This means that $u$ is no longer a constant, but can vary in space and time.\n",
    "\n",
    "Written in conservative form, it appears as:\n",
    "\n",
    "$$u_t + \\left [ \\frac{1}{2} u^2 \\right ]_x = 0$$\n",
    "\n",
    "so the flux is $F(u) = \\frac{1}{2} u^2$.\n",
    "\n",
    "In the finite volume approach, we integrate over the volume of a cell to get the update:\n",
    "\n",
    "$$\\frac{\\partial \\langle u \\rangle_i}{\\partial t} = - \\frac{1}{\\Delta x} (F_{i+1/2} - F_{i-1/2})$$\n",
    "\n",
    "To second order accurate, as we saw previously, $\\langle u \\rangle_i \\approx u_i$, so we'll drop the $\\langle \\rangle$ here."
   ]
  },
  {
   "cell_type": "markdown",
   "metadata": {},
   "source": [
    "Our solution method is essentially the same, aside from the Riemann problem.  We still want to use the idea of upwinding, but now we have a problem&mdash;the nonlinear nature of the Burgers' equation means that information can \"pile up\" and we lose track of where the flow is coming from.  This gives rise to a nonlinear wave called a shock.\n",
    "\n",
    "For the linear advection equation, the solution was unchanged along the lines $x - ut = \\mbox{constant}$&mdash;we called these the *characteristic curves*.\n",
    "\n",
    "We can visualize the characteristics as show below:\n",
    "\n",
    "![advection equation characteristics](advection-characteristics.png)\n",
    "\n",
    "The top panel shows the initial $a(x, t=0)$, and the bottom shows the characteristic curves in the $x$-$t$ spacetime diagram.  We see that at any $t > 0$, we find the value of $a(x, t)$ by simply tracing backwards along the characteristic curve to the initial conditions.  Since $u$ is constant in the advection equation, the characteristic curves are parallel."
   ]
  },
  {
   "cell_type": "markdown",
   "metadata": {},
   "source": [
    "The characteristic curves are the curves on which the solution is constant.\n",
    "For Burgers' equation, the characteristic curves are given by $dx/dt = u$, but now $u$ varies in the domain.  To see this, look at the change of $u$ in a fluid element (the full, or Lagrangian time derivative):\n",
    "\n",
    "$$\\frac{du}{dt} = \\frac{\\partial u}{\\partial t} + \\frac{dx}{dt} \\frac{\\partial u}{\\partial x} =\n",
    "\\frac{\\partial u}{\\partial t} + u \\frac{\\partial u}{\\partial x} = 0$$\n",
    "\n",
    "We see that $du/dt = 0$ since it just gives us the Burgers equation.  So $u$ is constant along the curves $dx/dt = 0$, but now $u$ varies in the domain.  So if we look at the characteristic curves in the spacetime diagram, we get:\n",
    "\n",
    "![converging characteristics for the Burgers' equation](burgers-characteristics-shock.png)\n",
    "\n",
    "Now we see that, for these initial conditions, at some point in the future the characteristics intersect.  This means that there is not a unique curve that we can trace back along to find the value of $u(x,t)$.  The information about where the solution was coming from was lost.  This is the situation of a *shock*.  The correct solution here is to put a discontinuous jump between the left and right states where the characteristics intersect.  The speed of the shock can be found from the Rankine-Hugoniot conditions.\n",
    "\n",
    "It is also possible to get a *rarefaction* if the characteristics diverge:\n",
    "\n",
    "![diverging characteristics for the Burgers' equation](burgers-characteristics-rare.png)"
   ]
  },
  {
   "cell_type": "markdown",
   "metadata": {},
   "source": [
    "## Numerical solution\n",
    "\n",
    "We'll use the same finite-volume grid class, with one change&mdash;we'll allow for \"outflow\" boundary conditions.  These simply enforce a zero gradient in the ghost cells, so:\n",
    "\n",
    "$$u_{\\mathrm{lo}-1} = u_{\\mathrm{lo}}$$\n",
    "$$u_{\\mathrm{lo}-2} = u_{\\mathrm{lo}}$$\n",
    "\n",
    "and similar at the right boundary."
   ]
  },
  {
   "cell_type": "code",
   "execution_count": 7,
   "metadata": {
    "tags": [
     "hide-cell"
    ]
   },
   "outputs": [],
   "source": [
    "class FVGrid(object):\n",
    "\n",
    "    def __init__(self, nx, ng, bc=\"outflow\",\n",
    "                 xmin=0.0, xmax=1.0):\n",
    "\n",
    "        self.xmin = xmin\n",
    "        self.xmax = xmax\n",
    "        self.ng = ng\n",
    "        self.nx = nx\n",
    "\n",
    "        # python is zero-based.  Make easy intergers to know where the\n",
    "        # real data lives\n",
    "        self.ilo = ng\n",
    "        self.ihi = ng+nx-1\n",
    "\n",
    "        # physical coords -- cell-centered, left and right edges\n",
    "        self.dx = (xmax - xmin)/(nx)\n",
    "        self.x = xmin + (np.arange(nx+2*ng)-ng+0.5)*self.dx\n",
    "        self.xl = xmin + (np.arange(nx+2*ng)-ng)*self.dx\n",
    "        self.xr = xmin + (np.arange(nx+2*ng)-ng+1.0)*self.dx\n",
    "\n",
    "        # storage for the solution\n",
    "        self.u = self.scratch_array()\n",
    "        self.uinit = self.scratch_array()\n",
    "\n",
    "        self.bc = bc\n",
    "        \n",
    "    def scratch_array(self):\n",
    "        \"\"\" return a scratch array dimensioned for our grid \"\"\"\n",
    "        return np.zeros((self.nx+2*self.ng), dtype=np.float64)\n",
    "\n",
    "    def fill_BCs(self, atmp):\n",
    "        \"\"\" fill all ghostcells \"\"\"\n",
    " \n",
    "        if self.bc == \"periodic\":\n",
    "\n",
    "            # left boundary\n",
    "            atmp[0:self.ilo] = atmp[self.ihi-self.ng+1:self.ihi+1]\n",
    "\n",
    "            # right boundary\n",
    "            atmp[self.ihi+1:] = atmp[self.ilo:self.ilo+self.ng]\n",
    "\n",
    "        elif self.bc == \"outflow\":                                                                                                        \n",
    "\n",
    "            # left boundary\n",
    "            atmp[0:self.ilo] = atmp[self.ilo]\n",
    "\n",
    "            # right boundary\n",
    "            atmp[self.ihi+1:] = atmp[self.ihi]\n",
    "\n",
    "        else:\n",
    "            sys.exit(\"invalid BC\")\n",
    "\n",
    "    def norm(self, e):\n",
    "        \"\"\" return the norm of quantity e which lives on the grid \"\"\"\n",
    "        if not len(e) == (2*self.ng + self.nx):\n",
    "            return None\n",
    "\n",
    "        return np.sqrt(self.dx*np.sum(e[self.ilo:self.ihi+1]**2))\n",
    "    \n",
    "    def plot(self):\n",
    "        fig = plt.figure()\n",
    "        ax = fig.add_subplot(111)\n",
    "\n",
    "        ax.plot(self.x, self.uinit, label=\"initial conditions\")\n",
    "        ax.plot(self.x, self.u)\n",
    "        ax.legend()\n",
    "        return fig"
   ]
  },
  {
   "cell_type": "markdown",
   "metadata": {},
   "source": [
    "The Riemann problem is more complicated.  If there is compression $u_l > u_r$, then we have a shock, and we need to compute the shock speed and then upwind based on that.  For the Burgers' equation, the shock speed is obtained via the Rankine-Hugoniot jump conditions as:\n",
    "\n",
    "$$S = \\frac{1}{2} (u_{i+1/2,L} + u_{i+1/2,R})$$\n",
    "\n",
    "Then our Riemann problem is \n",
    "\n",
    "$$u_{i+1/2} = \\mathcal{R}(u_{i+1/2,L}, u_{i+1/2,R}) = \\left \\{ \\begin{array}{cc}\n",
    "         u_s & \\mbox{if}~ u_{i+1/2,L} > u_{i+1/2,R} \\\\\n",
    "         u_r & \\mbox{otherwise} \\end{array} \\right .\n",
    "$$\n",
    "\n",
    "where $u_s$ is the shock case:\n",
    "\n",
    "$$u_s = \\left \\{ \\begin{array}{cc}\n",
    "     u_{i+1/2,L} & \\mbox{if}~ S > 0 \\\\\n",
    "     u_{i+1/2,R} & \\mbox{if}~ S < 0 \\end{array} \\right .\n",
    "$$\n",
    "\n",
    "and $u_r$ is the rarefaction case:\n",
    "\n",
    "$$u_r = \\left \\{ \\begin{array}{cc}\n",
    "     u_{i+1/2,L} & \\mbox{if}~ u_{i+1/2,L} > 0 \\\\\n",
    "     u_{i+1/2,R} & \\mbox{if}~ u_{i+1/2,R} < 0 \\\\\n",
    "     0           & \\mbox{otherwise} \\end{array} \\right .\n",
    "$$\n",
    "\n"
   ]
  },
  {
   "cell_type": "markdown",
   "metadata": {},
   "source": [
    "One we have the interface state, $u_{i+1/2}$, we can compute the flux:\n",
    "\n",
    "$$F_{i+1/2} = \\frac{1}{2} u_{i+1/2}^2$$\n",
    "\n",
    "and then the divergence of the fluxes:\n",
    "\n",
    "$$-\\frac{1}{\\Delta x} (F_{i+1/2} - F_{i-1/2}) = -\\frac{1}{\\Delta x} \\left ( \\frac{1}{2} u_{i+1/2}^2 - \\frac{1}{2} u_{i-1/2}^2 \\right )$$"
   ]
  },
  {
   "cell_type": "code",
   "execution_count": 8,
   "metadata": {},
   "outputs": [],
   "source": [
    "def flux_update(gr, u):\n",
    "    \"\"\"compute -div{F} for linear advection\"\"\"\n",
    "\n",
    "    # slope -- we'll do the minmod limiter\n",
    "    \n",
    "    # dl = u_i - u_{i-1}\n",
    "    dl = gr.scratch_array()\n",
    "    dl[gr.ilo-1:gr.ihi+2] = u[gr.ilo-1:gr.ihi+2] - u[gr.ilo-2:gr.ihi+1]\n",
    "\n",
    "    # dr = u_{i+1} - u_i\n",
    "    dr = gr.scratch_array()\n",
    "    dr[gr.ilo-1:gr.ihi+2] = u[gr.ilo:gr.ihi+3] - u[gr.ilo-1:gr.ihi+2]\n",
    "    \n",
    "    d1 = np.where(np.fabs(dl) < np.fabs(dr), dl, dr)\n",
    "    du = np.where(dl*dr > 0.0, d1, 0.0)\n",
    "    \n",
    "    # compute the left and right interface states\n",
    "    # Note that there are 1 more interfaces than zones\n",
    "\n",
    "    ul = gr.scratch_array()\n",
    "    ur = gr.scratch_array()\n",
    "    \n",
    "    # u_{i-1/2,R} = u_i - 1/2 du_i\n",
    "    ur[gr.ilo:gr.ihi+2] = u[gr.ilo:gr.ihi+2] - 0.5 * du[gr.ilo:gr.ihi+2]\n",
    "\n",
    "    # u_{i-1/2,L} = u_{i-1} + 1/2 du_{i-1}\n",
    "    ul[gr.ilo:gr.ihi+2] = u[gr.ilo-1:gr.ihi+1] + 0.5 * du[gr.ilo-1:gr.ihi+1]\n",
    "    \n",
    "    # now do the Riemann problem\n",
    "    \n",
    "    S = 0.5 * (ul + ur)\n",
    "    ushock = np.where(S > 0.0, ul, ur)\n",
    "    ushock = np.where(S == 0.0, 0.0, ushock)\n",
    "    \n",
    "    # rarefaction solution\n",
    "    urare = np.where(ur <= 0.0, ur, 0.0)\n",
    "    urare = np.where(ul >= 0.0, ul, urare)\n",
    "    \n",
    "    # if we are compressive, then we are a shock\n",
    "    us = np.where(ul > ur, ushock, urare)\n",
    "    \n",
    "    flux_diff = gr.scratch_array()\n",
    "    flux_diff[gr.ilo:gr.ihi+1] = (0.5 * us[gr.ilo:gr.ihi+1]**2 -\n",
    "                                  0.5 * us[gr.ilo+1:gr.ihi+2]**2) / gr.dx\n",
    "\n",
    "    return flux_diff"
   ]
  },
  {
   "cell_type": "markdown",
   "metadata": {},
   "source": [
    "Now our main driver&mdash;the main difference here compared to linear advection is that we need to recompute dt each timestep, since $u$ changes in space and time."
   ]
  },
  {
   "cell_type": "code",
   "execution_count": 9,
   "metadata": {},
   "outputs": [],
   "source": [
    "def burgers_mol(nx, C, tmax, init_cond=None):\n",
    "\n",
    "    # create a grid\n",
    "    g = FVGrid(nx, ng=2)\n",
    "\n",
    "    # setup initial conditions\n",
    "    init_cond(g)\n",
    "\n",
    "    g.uinit[:] = g.u[:]\n",
    "    \n",
    "    t = 0.0\n",
    "    while t < tmax:\n",
    "\n",
    "        # compute the timestep\n",
    "        dt = C * g.dx / np.abs(g.u).max()\n",
    "\n",
    "        if t + dt > tmax:\n",
    "            dt = tmax - t\n",
    "\n",
    "        # second-order RK integration\n",
    "        g.fill_BCs(g.u)\n",
    "        k1 = flux_update(g, g.u)\n",
    "\n",
    "        utmp = g.scratch_array()\n",
    "        utmp[:] = g.u[:] + 0.5 * dt * k1[:]\n",
    "\n",
    "        g.fill_BCs(utmp)\n",
    "        k2 = flux_update(g, utmp)\n",
    "\n",
    "        g.u[:] += dt * k2[:]\n",
    "\n",
    "        t += dt\n",
    "\n",
    "    return g"
   ]
  },
  {
   "cell_type": "markdown",
   "metadata": {},
   "source": [
    "Let's test it out with a sine-like initial conditions.  Based on the characteristics shown above, this should result in a shock."
   ]
  },
  {
   "cell_type": "code",
   "execution_count": 10,
   "metadata": {},
   "outputs": [],
   "source": [
    "def sine(g):\n",
    "    g.u[:] = 1.0\n",
    "\n",
    "    index = np.logical_and(g.x >= 0.333,\n",
    "                           g.x <= 0.666)\n",
    "    g.u[index] += 0.5*np.sin(2.0*np.pi*(g.x[index]-0.333)/0.333)"
   ]
  },
  {
   "cell_type": "code",
   "execution_count": 18,
   "metadata": {},
   "outputs": [
    {
     "data": {
      "image/png": "[encoded data removed]",
      "text/plain": [
       "<Figure size 432x288 with 1 Axes>"
      ]
     },
     "metadata": {
      "needs_background": "light"
     },
     "output_type": "display_data"
    }
   ],
   "source": [
    "nx = 128\n",
    "C = 0.5\n",
    "tmax = 0.25\n",
    "\n",
    "g = burgers_mol(nx, C, tmax, init_cond=sine)\n",
    "fig = g.plot()"
   ]
  },
  {
   "cell_type": "markdown",
   "metadata": {},
   "source": [
    "Keep in mind that although our method ideally converges as second order in space and time, the slope limiter we use kicks in near discontinuities and reduces the converges locally to first order there."
   ]
  },
  {
   "cell_type": "markdown",
   "metadata": {},
   "source": [
    "<div class=\"alert alert-block alert-info\">\n",
    "\n",
    "**Exercise:**\n",
    "    \n",
    "Implement initial conditions that will give rise to a rarefaction and evolve Burgers' equation to see the evolution.\n",
    "    \n",
    "</div>"
   ]
  },
  {
   "cell_type": "code",
   "execution_count": null,
   "metadata": {},
   "outputs": [],
   "source": []
  }
 ],
 "metadata": {
  "kernelspec": {
   "display_name": "Python 3",
   "language": "python",
   "name": "python3"
  },
  "language_info": {
   "codemirror_mode": {
    "name": "ipython",
    "version": 3
   },
   "file_extension": ".py",
   "mimetype": "text/x-python",
   "name": "python",
   "nbconvert_exporter": "python",
   "pygments_lexer": "ipython3",
   "version": "3.8.7"
  }
 },
 "nbformat": 4,
 "nbformat_minor": 4
}
