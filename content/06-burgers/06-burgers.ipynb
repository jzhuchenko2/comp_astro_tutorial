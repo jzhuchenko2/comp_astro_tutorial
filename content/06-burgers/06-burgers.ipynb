{
 "cells": [
  {
   "cell_type": "code",
   "execution_count": 1,
   "metadata": {},
   "outputs": [],
   "source": [
    "import numpy as np\n",
    "import matplotlib.pyplot as plt"
   ]
  },
  {
   "cell_type": "markdown",
   "metadata": {},
   "source": [
    "# Burgers' equation"
   ]
  },
  {
   "cell_type": "markdown",
   "metadata": {},
   "source": [
    "The inviscid Burgers' equation is the simplest nonlinear wave equation, and serves as a great stepping stone toward doing full hydrodynamics.\n",
    "\n",
    "$$u_t + u u_x = 0$$\n",
    "\n",
    "This looks like the linear advection equation, except the quantity being advected is the velocity itself.  This means that $u$ is no longer a constant, but can vary in space and time.\n",
    "\n",
    "Written in conservative form, it appears as:\n",
    "\n",
    "$$u_t + \\left [ \\frac{1}{2} u^2 \\right ]_x = 0$$\n",
    "\n",
    "so the flux is $F(u) = \\frac{1}{2} u^2$.\n"
   ]
  },
  {
   "cell_type": "markdown",
   "metadata": {},
   "source": [
    "Our solution method is essentially the same, aside from the Riemann problem.  We still want to use the idea of upwinding, but now we have a problem&mdash;the nonlinear nature of the Burgers' equation means that information can \"pile up\" and we lose track of where the flow is coming from.  This gives rise to a nonlinear wave called a shock.\n",
    "\n",
    "For the linear advection equation, the solution was unchanged along the lines $x - ut = \\mbox{constant}$&mdash;we called these the *characteristic curves*.\n",
    "\n",
    "For Burgers' equation, the characteristic curves are given by $dx/dt = u$, but now $u$ varies in the domain."
   ]
  },
  {
   "cell_type": "markdown",
   "metadata": {},
   "source": [
    "We'll use the same finite-volume grid class"
   ]
  },
  {
   "cell_type": "code",
   "execution_count": 2,
   "metadata": {},
   "outputs": [],
   "source": [
    "class FVGrid(object):\n",
    "\n",
    "    def __init__(self, nx, ng, xmin=0.0, xmax=1.0):\n",
    "\n",
    "        self.xmin = xmin\n",
    "        self.xmax = xmax\n",
    "        self.ng = ng\n",
    "        self.nx = nx\n",
    "\n",
    "        # python is zero-based.  Make easy intergers to know where the\n",
    "        # real data lives\n",
    "        self.ilo = ng\n",
    "        self.ihi = ng+nx-1\n",
    "\n",
    "        # physical coords -- cell-centered, left and right edges\n",
    "        self.dx = (xmax - xmin)/(nx)\n",
    "        self.x = xmin + (np.arange(nx+2*ng)-ng+0.5)*self.dx\n",
    "        self.xl = xmin + (np.arange(nx+2*ng)-ng)*self.dx\n",
    "        self.xr = xmin + (np.arange(nx+2*ng)-ng+1.0)*self.dx\n",
    "\n",
    "        # storage for the solution\n",
    "        self.a = self.scratch_array()\n",
    "        self.ainit = self.scratch_array()\n",
    "\n",
    "    def period(self, u):\n",
    "        \"\"\" return the period for advection with velocity u \"\"\"\n",
    "        return (self.xmax - self.xmin) / np.abs(u)\n",
    "\n",
    "    def scratch_array(self):\n",
    "        \"\"\" return a scratch array dimensioned for our grid \"\"\"\n",
    "        return np.zeros((self.nx+2*self.ng), dtype=np.float64)\n",
    "\n",
    "    def fill_BCs(self, atmp):\n",
    "        \"\"\" fill all ghostcells with periodic boundary conditions \"\"\"\n",
    "\n",
    "        # left boundary\n",
    "        for n in range(self.ng):\n",
    "            atmp[self.ilo-1-n] = atmp[self.ihi-n]\n",
    "\n",
    "        # right boundary\n",
    "        for n in range(self.ng):\n",
    "            atmp[self.ihi+1+n] = atmp[self.ilo+n]\n",
    "\n",
    "    def norm(self, e):\n",
    "        \"\"\" return the norm of quantity e which lives on the grid \"\"\"\n",
    "        if not len(e) == (2*self.ng + self.nx):\n",
    "            return None\n",
    "\n",
    "        return np.sqrt(self.dx*np.sum(e[self.ilo:self.ihi+1]**2))\n",
    "    \n",
    "    def plot(self):\n",
    "        fig = plt.figure()\n",
    "        ax = fig.add_subplot(111)\n",
    "\n",
    "        ax.plot(self.x, self.ainit, label=\"initial conditions\")\n",
    "        ax.plot(self.x, self.a)\n",
    "        ax.legend()\n",
    "        return fig"
   ]
  },
  {
   "cell_type": "markdown",
   "metadata": {},
   "source": [
    "The Riemann problem is more complicated.  If there is compression $u_l > u_r$, then we have a shock, and we need to compute the shock speed and then upwind based on that.  For the Burgers' equation, the shock speed is obtained via the Rankine-Hugoniot jump conditions as:\n",
    "\n",
    "$$S = \\frac{1}{2} (u_{i+1/2,L} + u_{i+1/2,R})$$\n",
    "\n",
    "Then our Riemann problem is \n",
    "\n",
    "$$u_{i+1/2} = \\mathcal{R}(u_{i+1/2,L}, u_{i+1/2,R}) = \\left \\{ \\begin{array}{cc}\n",
    "         u_s & \\mbox{if}~ u_{i+1/2,L} > u_{i+1/2,R} \\\\\n",
    "         u_r & \\mbox{otherwise} \\end{array} \\right .\n",
    "$$\n",
    "\n",
    "where $u_s$ is the shock case:\n",
    "\n",
    "$$u_s = \\left \\{ \\begin{array}{cc}\n",
    "     u_{i+1/2,L} & \\mbox{if}~ S > 0 \\\\\n",
    "     u_{i+1/2,R} & \\mbox{if}~ S < 0 \\end{array} \\right .\n",
    "$$\n",
    "\n",
    "and $u_r$ is the rarefaction case:\n",
    "\n",
    "$$u_r = \\left \\{ \\begin{array}{cc}\n",
    "     u_{i+1/2,L} & \\mbox{if}~ u_{i+1/2,L} > 0 \\\\\n",
    "     u_{i+1/2,R} & \\mbox{if}~ u_{i+1/2,R} < 0 \\\\\n",
    "     0           & \\mbox{otherwise} \\end{array} \\right .\n",
    "$$\n",
    "\n"
   ]
  },
  {
   "cell_type": "markdown",
   "metadata": {},
   "source": [
    "<div class=\"alert alert-block alert-info\">\n",
    "\n",
    "**Exercise:**\n",
    "    \n",
    "Now let's see if we are really second-order accurate.  Compute the norm of the error after 1 period with and without the limiters for the smooth Gaussian problem.  Does it converge 2nd order?\n",
    "    \n",
    "</div>"
   ]
  },
  {
   "cell_type": "code",
   "execution_count": null,
   "metadata": {},
   "outputs": [],
   "source": []
  }
 ],
 "metadata": {
  "kernelspec": {
   "display_name": "Python 3",
   "language": "python",
   "name": "python3"
  },
  "language_info": {
   "codemirror_mode": {
    "name": "ipython",
    "version": 3
   },
   "file_extension": ".py",
   "mimetype": "text/x-python",
   "name": "python",
   "nbconvert_exporter": "python",
   "pygments_lexer": "ipython3",
   "version": "3.8.7"
  }
 },
 "nbformat": 4,
 "nbformat_minor": 4
}
