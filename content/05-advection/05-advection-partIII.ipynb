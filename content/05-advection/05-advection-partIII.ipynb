{
 "cells": [
  {
   "cell_type": "code",
   "execution_count": 2,
   "metadata": {},
   "outputs": [],
   "source": [
    "import numpy as np\n",
    "import matplotlib.pyplot as plt"
   ]
  },
  {
   "cell_type": "markdown",
   "metadata": {},
   "source": [
    "# Second-order advection"
   ]
  },
  {
   "cell_type": "markdown",
   "metadata": {},
   "source": [
    "To get a more accurate solution, we need to handle both the space and time discretizations in a higher order fashion.\n",
    "\n",
    "First, let's look again at the definition of the average:\n",
    "\n",
    "$$\\langle a \\rangle_i = \\frac{1}{\\Delta x} \\int_{x_{i-1/2}}^{x_{i+1/2}} a(x) dx$$\n",
    "\n",
    "let's substitute in a Taylor expansion about $x_i$:\n",
    "\n",
    "$$a(x) = a(x_i) + \\left . \\frac{\\partial a}{\\partial x} \\right |_i (x - x_i) + \\frac{1}{2} \\left . \\frac{\\partial^2 a}{\\partial x^2} \\right |_i (x - x_i)^2 + \\mathcal{O}(\\Delta x^3)$$\n",
    "\n",
    "inserting this into our integral, we have:\n",
    "\n",
    "$$\\langle a \\rangle_i = \\frac{1}{\\Delta x} \\int_{x_{i-1/2}}^{x_{i+1/2}} \n",
    "    \\left [a(x_i) + \\left . \\frac{\\partial a}{\\partial x} \\right |_i (x - x_i) + \\frac{1}{2} \\left . \\frac{\\partial^2 a}{\\partial x^2} \\right |_i (x - x_i)^2 + \\mathcal{O}(\\Delta x^3) \\right ] dx$$\n",
    "\n",
    "Look at the terms:\n",
    "\n",
    "* the first term is just a constant, so it's integral is just $a(x_i) \\Delta x$\n",
    "* the second term is odd over the interface $[x_{i-1/2},x_{i+1/2}]$, so it integrates to 0\n",
    "* the third term will integrate to something like $(\\Delta x)^3$ (before we divide by the $\\Delta x$ out front)\n",
    "\n",
    "This means that\n",
    "\n",
    "$$\\langle a \\rangle_i = a(x_i) + \\mathcal{O}(\\Delta x^2)$$\n",
    "\n",
    "So if we work to second-order in space, then we don't need to worry about the difference between the cell average and cell-center.  \n",
    "\n",
    "To make the notation easier, we'll drop the $\\langle \\rangle$ from now forward."
   ]
  },
  {
   "cell_type": "markdown",
   "metadata": {},
   "source": [
    "There are 2 broad ways that we can handle the time integration to get more accuracy:\n",
    "\n",
    "* Predict our interface states at the midpoint in time using a Taylor expansion (in both space and time).  This would result in a time-centered interface state.  This procedure is sometimes called *characteristic tracing*.  \n",
    "\n",
    "* Just construct high-order interface states in space, ignoring how they evolve in time, and use a high-order integrator (like Runge-Kutta) to handle the time integration.  This is called the *method-of-lines* approach.\n",
    "\n",
    "We'll focus on the second approach (method-of-lines).  For details on the first, see my notes: [Computational Hydrodynamics for Astrophysics](https://github.com/Open-Astrophysics-Bookshelf/numerical_exercises)"
   ]
  },
  {
   "cell_type": "code",
   "execution_count": null,
   "metadata": {},
   "outputs": [],
   "source": []
  }
 ],
 "metadata": {
  "kernelspec": {
   "display_name": "Python 3",
   "language": "python",
   "name": "python3"
  },
  "language_info": {
   "codemirror_mode": {
    "name": "ipython",
    "version": 3
   },
   "file_extension": ".py",
   "mimetype": "text/x-python",
   "name": "python",
   "nbconvert_exporter": "python",
   "pygments_lexer": "ipython3",
   "version": "3.8.7"
  }
 },
 "nbformat": 4,
 "nbformat_minor": 4
}
