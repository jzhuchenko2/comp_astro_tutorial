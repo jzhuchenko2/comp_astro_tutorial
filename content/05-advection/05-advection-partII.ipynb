{
 "cells": [
  {
   "cell_type": "code",
   "execution_count": 2,
   "metadata": {},
   "outputs": [],
   "source": [
    "import numpy as np\n",
    "import matplotlib.pyplot as plt"
   ]
  },
  {
   "cell_type": "markdown",
   "metadata": {},
   "source": [
    "# Finite-Volumes and High Order Methods"
   ]
  },
  {
   "cell_type": "markdown",
   "metadata": {},
   "source": [
    "Ultimately we are interested in conservation laws, so we want a method that respects conservation.  We'll look at this with advection first.\n",
    "\n",
    "Here we see 3 different types of grids:\n",
    "\n",
    "![discretization types](grids.png)\n",
    "\n",
    "The first 2 are *finite-difference* grids&mdash;the data is represented at a specific point in the domain.  The two differ in that the second case is a cell-centered finite-difference grid.  In this case, there is not a point on the physical boundaries, while with the first example (what we were using previously), there is a data point on each boundary.  For the cell-centered case, we typically talk about dividing the data into cells or zones and the data living at the center of the zone.\n",
    "\n",
    "The last example is a *finite-volume* grid.  Here, we don't think of the data living at a specific point, but instead we keep track of the total amount of a quantity (or its average) in a volume.  This is represented above as the shaded region inside our zone."
   ]
  },
  {
   "cell_type": "markdown",
   "metadata": {},
   "source": [
    "## Cell-averages\n",
    "\n",
    "Imagine we have a function $f(x)$ that we wish to represent on our grid, using a finite-volume discretization.\n",
    "\n",
    "![finite-volume grid](fv_grid.png)\n",
    "\n",
    "We can define the average of $f(x)$ in a zone that goes from $x_{i-1/2}$ to $x_{i+1/2}$ as:\n",
    "\n",
    "$$\\langle f\\rangle_i = \\frac{1}{\\Delta x} \\int_{x_{i-1/2}}^{x_{i+1/2}}f(x) dx$$\n",
    "\n",
    "We use the angle brackets to indicate that this is an average, and use an integer index, $i$, to indicate that this data lives in zone $i$."
   ]
  },
  {
   "cell_type": "markdown",
   "metadata": {},
   "source": [
    "Now consider our linear advection equation, written in conservative form:\n",
    "\n",
    "$$\\frac{\\partial a}{\\partial t} = -\\frac{\\partial f(a)}{\\partial x}$$\n",
    "\n",
    "where $f(a) = ua$ is the flux.\n",
    "\n",
    "Let's average (integrate) this equation over a zone (from $[x_{i-1/2}, x_{i+1/2}]$):\n",
    "\n",
    "$$\\frac{1}{\\Delta x} \\int_{x-1/2}^{x+1/2} \\frac{\\partial a}{\\partial t} dx = \n",
    "   -\\frac{1}{\\Delta x} \\int_{x-1/2}^{x+1/2} \\frac{\\partial f}{\\partial x} dx$$\n",
    "   \n",
    "we can recognize the left is the time-derivative of the average of $a$ and the right, via the divergence theorem is just the flux different through the boundary of the zone:\n",
    "\n",
    "$$\\frac{\\partial}{\\partial t} \\langle a\\rangle_i = -\\frac{1}{\\Delta x}\n",
    "   \\left [ f_{i+1/2} - f_{i-1/2} \\right ]$$"
   ]
  },
  {
   "cell_type": "markdown",
   "metadata": {},
   "source": [
    "## Reconstruction"
   ]
  },
  {
   "cell_type": "code",
   "execution_count": null,
   "metadata": {},
   "outputs": [],
   "source": []
  },
  {
   "cell_type": "markdown",
   "metadata": {},
   "source": [
    "## Riemann problem\n",
    "\n",
    "![advection Riemann problem](riemann.png)"
   ]
  },
  {
   "cell_type": "code",
   "execution_count": null,
   "metadata": {},
   "outputs": [],
   "source": []
  },
  {
   "cell_type": "markdown",
   "metadata": {},
   "source": [
    "## Second-order"
   ]
  },
  {
   "cell_type": "code",
   "execution_count": null,
   "metadata": {},
   "outputs": [],
   "source": []
  },
  {
   "cell_type": "code",
   "execution_count": null,
   "metadata": {},
   "outputs": [],
   "source": []
  }
 ],
 "metadata": {
  "kernelspec": {
   "display_name": "Python 3",
   "language": "python",
   "name": "python3"
  },
  "language_info": {
   "codemirror_mode": {
    "name": "ipython",
    "version": 3
   },
   "file_extension": ".py",
   "mimetype": "text/x-python",
   "name": "python",
   "nbconvert_exporter": "python",
   "pygments_lexer": "ipython3",
   "version": "3.8.7"
  }
 },
 "nbformat": 4,
 "nbformat_minor": 4
}
