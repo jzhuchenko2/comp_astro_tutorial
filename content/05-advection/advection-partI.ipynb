{
 "cells": [
  {
   "cell_type": "markdown",
   "metadata": {},
   "source": [
    "# Linear Advection"
   ]
  },
  {
   "cell_type": "markdown",
   "metadata": {},
   "source": [
    "The equations of hydrodynamics are a system of nonlinear partial differential equations that involve advection of mass, momentum, and energy.  To get a feel for the solution of these equations, we will start with the simple *linear advection equation*:\n",
    "\n",
    "$$a_t + u a_x = 0$$\n",
    "\n",
    "This requires initial conditions, $a(x, t=0)$, and a boundary condition.  The solution to this is easy to write down:\n",
    "\n",
    "$$a(x, t) = a(x - ut)$$\n",
    "\n",
    "any initial profile $a(\\xi)$ is simply advected to the right (for $u > 0$) at a velocity $u$."
   ]
  },
  {
   "cell_type": "markdown",
   "metadata": {},
   "source": [
    "## Representing Data"
   ]
  },
  {
   "cell_type": "markdown",
   "metadata": {},
   "source": [
    "## A First Attempt\n",
    "\n",
    "We might try to build on what we have already learned:\n",
    "\n",
    "  * a centered difference for $a_x$ is second-order accurate, so that should be desirable for discretizing\n",
    "    the spatial terms\n",
    "    \n",
    "  * we can do a simple explict Euler method to update the solution in time.\n",
    "  \n",
    "This would look like"
   ]
  },
  {
   "cell_type": "markdown",
   "metadata": {},
   "source": [
    "## Stability"
   ]
  },
  {
   "cell_type": "markdown",
   "metadata": {},
   "source": [
    "## Upwinding"
   ]
  },
  {
   "cell_type": "code",
   "execution_count": null,
   "metadata": {},
   "outputs": [],
   "source": []
  }
 ],
 "metadata": {
  "kernelspec": {
   "display_name": "Python 3",
   "language": "python",
   "name": "python3"
  },
  "language_info": {
   "codemirror_mode": {
    "name": "ipython",
    "version": 3
   },
   "file_extension": ".py",
   "mimetype": "text/x-python",
   "name": "python",
   "nbconvert_exporter": "python",
   "pygments_lexer": "ipython3",
   "version": "3.8.7"
  }
 },
 "nbformat": 4,
 "nbformat_minor": 4
}
