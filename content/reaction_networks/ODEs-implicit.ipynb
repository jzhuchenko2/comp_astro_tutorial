{
 "cells": [
  {
   "cell_type": "code",
   "execution_count": 1,
   "metadata": {
    "tags": [
     "hide-cell"
    ]
   },
   "outputs": [],
   "source": [
    "import numpy as np\n",
    "import matplotlib.pyplot as plt\n",
    "import matplotlib as mpl\n",
    "mpl.rcParams['figure.dpi'] = 100\n",
    "mpl.rcParams['figure.figsize'] = (10, 8)"
   ]
  },
  {
   "cell_type": "markdown",
   "metadata": {},
   "source": [
    "# Implicit Methods for ODEs"
   ]
  },
  {
   "cell_type": "markdown",
   "metadata": {},
   "source": [
    "## Model stiff problem\n",
    "\n",
    "Consider the ODE\n",
    "\n",
    "$$\\dot{y} = -10^3 (y - e^{-t}) - e^{-t}$$\n",
    "\n",
    "with $y(0) = 0$.  This has the exact solution:\n",
    "\n",
    "$$y(t) = e^{-t} - e^{-10^3 t}$$\n",
    "\n",
    "We see that there are 2 characteristic timescales in the solution: $\\tau_1 = 1$ and $\\tau_2 = 10^{-3}$.  This is a\n",
    "*stiff* ODE. \n"
   ]
  },
  {
   "cell_type": "markdown",
   "metadata": {},
   "source": [
    "Let's solve this using RK4"
   ]
  },
  {
   "cell_type": "markdown",
   "metadata": {},
   "source": [
    "## Implicit discretization"
   ]
  },
  {
   "cell_type": "markdown",
   "metadata": {},
   "source": [
    "Now let's try a simple first-order accurate implicit method\n",
    "\n",
    "$$y^{n+1} = y^n + \\tau \\dot{y}^{n+1}$$\n",
    "\n",
    "For our model problem, we can solve for the new state algebraically:\n",
    "\n",
    "$$y^{n+1} = \\frac{y^n + 10^3 \\tau e^{-t} - \\tau e^{-t}}\n",
    " {1 + 10^3 \\tau}$$\n",
    " \n",
    "Notice that the solution doesn't blow up as we take $\\tau \\rightarrow \\infty$."
   ]
  },
  {
   "cell_type": "code",
   "execution_count": null,
   "metadata": {},
   "outputs": [],
   "source": []
  }
 ],
 "metadata": {
  "kernelspec": {
   "display_name": "Python 3",
   "language": "python",
   "name": "python3"
  },
  "language_info": {
   "codemirror_mode": {
    "name": "ipython",
    "version": 3
   },
   "file_extension": ".py",
   "mimetype": "text/x-python",
   "name": "python",
   "nbconvert_exporter": "python",
   "pygments_lexer": "ipython3",
   "version": "3.9.5"
  }
 },
 "nbformat": 4,
 "nbformat_minor": 4
}
