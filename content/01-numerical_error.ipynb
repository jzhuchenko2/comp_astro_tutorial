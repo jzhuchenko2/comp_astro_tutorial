{
 "cells": [
  {
   "cell_type": "markdown",
   "metadata": {},
   "source": [
    "# Numerical Errors: Roundoff and Truncation\n",
    "\n",
    "We will consider 2 different types of errors:\n",
    "\n",
    "* **roundoff error**: an error arising from how numbers are represented on computers.\n",
    "* **truncation error**: an error that arises from approximations we make in turning math operations (like derivatives) into discrete operations that can be done on a computer."
   ]
  },
  {
   "cell_type": "code",
   "execution_count": 1,
   "metadata": {},
   "outputs": [],
   "source": [
    "import matplotlib.pyplot as plt\n",
    "import numpy as np"
   ]
  },
  {
   "cell_type": "markdown",
   "metadata": {},
   "source": [
    "## Roundoff Error\n",
    "\n",
    "Computers use finite amount of memory (64-bits for double precision) to store floating point numbers.  This means that we cannot represent the infinite set of numbers in the number line in a finite amount of memory.  So most numbers are approximate after a certain number of digits."
   ]
  },
  {
   "cell_type": "markdown",
   "metadata": {},
   "source": [
    "<div class=\"alert alert-block alert-info\">\n",
    "\n",
    "**Example:**\n",
    "\n",
    "As an example, the number `0.1` cannot be exactly represented in floating point\n",
    "</div>"
   ]
  },
  {
   "cell_type": "code",
   "execution_count": 2,
   "metadata": {},
   "outputs": [
    {
     "name": "stdout",
     "output_type": "stream",
     "text": [
      "        0.10000000000000000555\n"
     ]
    }
   ],
   "source": [
    "a = 0.1\n",
    "print(f\"{a:30.20}\")"
   ]
  },
  {
   "cell_type": "markdown",
   "metadata": {},
   "source": [
    "<div class=\"alert alert-block alert-info\">\n",
    "\n",
    "**Exercise:**\n",
    "    \n",
    "What is (approximately) the smallest number that can be added to `1` such that the result is still distinct from `1`\n",
    "    \n",
    "</div>"
   ]
  },
  {
   "cell_type": "code",
   "execution_count": null,
   "metadata": {},
   "outputs": [],
   "source": []
  },
  {
   "cell_type": "markdown",
   "metadata": {},
   "source": [
    "Math is not associative in floating point.  Consider \n",
    "\n",
    "$$(a + b) + c$$\n",
    "\n",
    "vs \n",
    "\n",
    "$$a + (b + c)$$\n",
    "\n",
    "with $a = 1.0$, $b = -1.0$, and $c = 2.e-15$.\n",
    "\n",
    "Do these two expressions agree?"
   ]
  },
  {
   "cell_type": "code",
   "execution_count": 12,
   "metadata": {},
   "outputs": [
    {
     "name": "stdout",
     "output_type": "stream",
     "text": [
      "2e-15\n",
      "1.9984014443252818e-15\n"
     ]
    }
   ],
   "source": [
    "a = 1.0\n",
    "b = -1.0\n",
    "c = 2.e-15\n",
    "\n",
    "print((a + b) + c)\n",
    "print(a + (b + c))"
   ]
  },
  {
   "cell_type": "markdown",
   "metadata": {},
   "source": [
    "### Reducing roundoff error"
   ]
  },
  {
   "cell_type": "markdown",
   "metadata": {},
   "source": [
    "Often we can reduce roundoff error by changing the order of operations or using algebraically equivalent expressions that have better roundoff properties.\n",
    "\n",
    "For example, subtracting two very large, nearly identical numbers can result in a loss of precision.  Consider:\n",
    "\n",
    "$$f = a^2 - b^2$$\n",
    "\n",
    "and the equivalent\n",
    "\n",
    "$$g = (a - b)(a + b)$$\n"
   ]
  },
  {
   "cell_type": "code",
   "execution_count": 11,
   "metadata": {},
   "outputs": [
    {
     "name": "stdout",
     "output_type": "stream",
     "text": [
      "-1.9999989439506414e+26 -2.0000000001e+26 5.280746792790519e-07\n"
     ]
    }
   ],
   "source": [
    "a = 1.e18\n",
    "b = 1.0000000001e18\n",
    "f = a**2 - b**2\n",
    "g = (a - b) * (a + b)\n",
    "print(f, g, abs((f-g)/g))"
   ]
  },
  {
   "cell_type": "markdown",
   "metadata": {},
   "source": [
    "as we make $a$ and $b$ closer together, the relative error in the calculation increases."
   ]
  },
  {
   "cell_type": "markdown",
   "metadata": {},
   "source": [
    "<div class=\"alert alert-block alert-info\">\n",
    "\n",
    "**Exercise:**\n",
    "\n",
    "Consider a quadratic equation: $ax^2 + bx + c$.  The two solutions are given by the familiar quadratic equation:\n",
    "\n",
    "$$x = \\frac{-b \\pm \\sqrt{b^2 - 4ac}}{2a}$$\n",
    "    \n",
    "Alternately, we could use the expression:\n",
    "\n",
    "$$x = \\frac{2c}{-b \\mp \\sqrt{b^2 - 4ac}}$$\n",
    "    \n",
    "For values $a = 0.001$, $b = 1000$, and $c = 0.001$, how do we use these expressions to get the most accurate answer?\n",
    "    \n",
    "(example from Newman)\n",
    "</div>"
   ]
  },
  {
   "cell_type": "code",
   "execution_count": null,
   "metadata": {},
   "outputs": [],
   "source": []
  },
  {
   "cell_type": "markdown",
   "metadata": {},
   "source": [
    "## Truncation Error\n",
    "\n",
    "Consider Taylor expanding a function $f(x)$:\n",
    "\n",
    "$$f(x + h) = f(x) + h f^\\prime(x) + \\frac{h^2}{2} f^{\\prime\\prime}(x) + \\ldots$$\n",
    "\n",
    "Rearranging this, we can solve for $f^\\prime(x)$:\n",
    "\n",
    "$$f^\\prime(x) = \\frac{f(x+h) - f(x)}{h} - \\frac{h}{2} f^{\\prime\\prime}(x) + \\ldots$$\n",
    "\n",
    "This looks like the definition of a derivative from calculus, but with extra terms that are proportional to $h$ or higher powers of $h$.\n",
    "\n",
    "We can write this as:\n",
    "\n",
    "$$f^\\prime(x) \\approx \\frac{f(x+h) - f(x)}{h} + \\mathcal{O}(h)$$\n",
    "\n",
    "where $O(h)$ here means that the error in this approximation for the derivative is proportion to $h$.  We say this is *first-order accurate*.  This is an example of truncation error -- the terms we are ignoring are an error in our approximation.\n"
   ]
  },
  {
   "cell_type": "markdown",
   "metadata": {},
   "source": [
    "<div class=\"alert alert-block alert-info\">\n",
    "\n",
    "**Exercise:** Relative importance of roundoff and truncation error\n",
    "    \n",
    "Consider a first-order approximation to the derivative:\n",
    "    \n",
    "$$D_h(x) = \\frac{f(x+h) - f(x)}{h}$$\n",
    "\n",
    "Consider $f(x) = \\sin(x)$.  Plot the error in the approximation, $D_h(x)$, vs. $h$.  Does it do what you expect?\n",
    "\n",
    "</div>"
   ]
  },
  {
   "cell_type": "code",
   "execution_count": null,
   "metadata": {},
   "outputs": [],
   "source": []
  },
  {
   "cell_type": "markdown",
   "metadata": {},
   "source": [
    "## Other Errors"
   ]
  },
  {
   "cell_type": "markdown",
   "metadata": {},
   "source": [
    "### Overflow\n",
    "\n",
    "The finite amount of memory used for storing numbers means that there is a maximum and minimum possible number representable as well.\n",
    "\n",
    "<img src=\"https://imgs.xkcd.com/comics/cant_sleep.png\">\n",
    "(credit: xkcd)"
   ]
  },
  {
   "cell_type": "markdown",
   "metadata": {},
   "source": [
    "### NaN and Inf\n",
    "\n",
    "These are defined \"numbers\" that represent floating point errors.  Consider:\n",
    "\n",
    "Some NaNs: $\\sqrt{-1}$, $0/0$, ...\n",
    "\n",
    "Some infs: $1/0$"
   ]
  },
  {
   "cell_type": "code",
   "execution_count": null,
   "metadata": {},
   "outputs": [],
   "source": []
  }
 ],
 "metadata": {
  "kernelspec": {
   "display_name": "Python 3",
   "language": "python",
   "name": "python3"
  },
  "language_info": {
   "codemirror_mode": {
    "name": "ipython",
    "version": 3
   },
   "file_extension": ".py",
   "mimetype": "text/x-python",
   "name": "python",
   "nbconvert_exporter": "python",
   "pygments_lexer": "ipython3",
   "version": "3.8.7"
  },
  "widgets": {
   "application/vnd.jupyter.widget-state+json": {
    "state": {},
    "version_major": 2,
    "version_minor": 0
   }
  }
 },
 "nbformat": 4,
 "nbformat_minor": 4
}
