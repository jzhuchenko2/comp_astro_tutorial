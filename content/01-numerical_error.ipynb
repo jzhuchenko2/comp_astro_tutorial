{
 "cells": [
  {
   "cell_type": "markdown",
   "metadata": {},
   "source": [
    "# Numerical Errors: Roundoff and Truncation\n",
    "\n",
    "We will consider 2 different types of errors:\n",
    "\n",
    "* **roundoff error**: an error arising from how numbers are represented on computers.\n",
    "* **truncation error**: an error that arises from approximations we make in turning math operations (like derivatives) into discrete operations that can be done on a computer."
   ]
  },
  {
   "cell_type": "code",
   "execution_count": 1,
   "metadata": {},
   "outputs": [],
   "source": [
    "import matplotlib.pyplot as plt\n",
    "import numpy as np"
   ]
  },
  {
   "cell_type": "markdown",
   "metadata": {},
   "source": [
    "## Roundoff Error\n",
    "\n",
    "Computers use finite amount of memory (64-bits for double precision) to store floating point numbers.  This means that we cannot represent the infinite set of numbers in the number line in a finite amount of memory.  So most numbers are approximate after a certain number of digits."
   ]
  },
  {
   "cell_type": "markdown",
   "metadata": {},
   "source": [
    "<div class=\"alert alert-block alert-info\">\n",
    "\n",
    "**Example:**\n",
    "\n",
    "As an example, the number `0.1` cannot be exactly represented in floating point\n",
    "</div>"
   ]
  },
  {
   "cell_type": "code",
   "execution_count": 2,
   "metadata": {},
   "outputs": [
    {
     "name": "stdout",
     "output_type": "stream",
     "text": [
      "        0.10000000000000000555\n"
     ]
    }
   ],
   "source": [
    "a = 0.1\n",
    "print(f\"{a:30.20}\")"
   ]
  },
  {
   "cell_type": "markdown",
   "metadata": {},
   "source": [
    "<div class=\"alert alert-block alert-info\">\n",
    "\n",
    "**Exercise:**\n",
    "    \n",
    "What is (approximately) the smallest number that can be added to `1` such that the result is still distinct from `1`\n",
    "    \n",
    "</div>"
   ]
  },
  {
   "cell_type": "code",
   "execution_count": 3,
   "metadata": {
    "tags": [
     "hide-cell"
    ]
   },
   "outputs": [
    {
     "name": "stdout",
     "output_type": "stream",
     "text": [
      "1.7763568394002506e-16\n"
     ]
    }
   ],
   "source": [
    "a = 1.0\n",
    "eps = 0.1\n",
    "while a + eps != a:\n",
    "    eps /= 2.0\n",
    "\n",
    "# note: eps is now the first value such that 1 + eps is not equal to 1\n",
    "# so 2*eps is the last value for which they were distinct\n",
    "print(2*eps)"
   ]
  },
  {
   "cell_type": "markdown",
   "metadata": {},
   "source": [
    "Math is not associative in floating point.  Consider \n",
    "\n",
    "$$(a + b) + c$$\n",
    "\n",
    "vs \n",
    "\n",
    "$$a + (b + c)$$\n",
    "\n",
    "with $a = 1.0$, $b = -1.0$, and $c = 2.e-15$.\n",
    "\n",
    "Do these two expressions agree?"
   ]
  },
  {
   "cell_type": "code",
   "execution_count": 4,
   "metadata": {},
   "outputs": [
    {
     "name": "stdout",
     "output_type": "stream",
     "text": [
      "2e-15\n",
      "1.9984014443252818e-15\n"
     ]
    }
   ],
   "source": [
    "a = 1.0\n",
    "b = -1.0\n",
    "c = 2.e-15\n",
    "\n",
    "print((a + b) + c)\n",
    "print(a + (b + c))"
   ]
  },
  {
   "cell_type": "markdown",
   "metadata": {},
   "source": [
    "### Reducing roundoff error"
   ]
  },
  {
   "cell_type": "markdown",
   "metadata": {},
   "source": [
    "Often we can reduce roundoff error by changing the order of operations or using algebraically equivalent expressions that have better roundoff properties.\n",
    "\n",
    "For example, subtracting two very large, nearly identical numbers can result in a loss of precision.  Consider:\n",
    "\n",
    "$$f = a^2 - b^2$$\n",
    "\n",
    "and the equivalent\n",
    "\n",
    "$$g = (a - b)(a + b)$$\n"
   ]
  },
  {
   "cell_type": "code",
   "execution_count": 5,
   "metadata": {},
   "outputs": [
    {
     "name": "stdout",
     "output_type": "stream",
     "text": [
      "-1.9999999769683095e+27 -2.000000001e+27 1.201584528005781e-08\n"
     ]
    }
   ],
   "source": [
    "# the closer together we make these numbers, the larger\n",
    "# the relative error\n",
    "a = 1.e18\n",
    "b = 1.000000001e18\n",
    "\n",
    "# compute the two algebraically equivalent expressions\n",
    "f = a**2 - b**2\n",
    "g = (a - b) * (a + b)\n",
    "\n",
    "# print both expressions and the relative error\n",
    "print(f, g, abs((f-g)/g))"
   ]
  },
  {
   "cell_type": "markdown",
   "metadata": {},
   "source": [
    "as we make $a$ and $b$ closer together, the relative error in the calculation increases."
   ]
  },
  {
   "cell_type": "markdown",
   "metadata": {},
   "source": [
    "<div class=\"alert alert-block alert-info\">\n",
    "\n",
    "**Exercise:**\n",
    "\n",
    "Consider a quadratic equation: $ax^2 + bx + c$.  The two solutions are given by the familiar quadratic equation:\n",
    "\n",
    "$$x = \\frac{-b \\pm \\sqrt{b^2 - 4ac}}{2a}$$\n",
    "    \n",
    "Alternately, we could use the expression:\n",
    "\n",
    "$$x = \\frac{2c}{-b \\mp \\sqrt{b^2 - 4ac}}$$\n",
    "    \n",
    "For values $a = 0.001$, $b = 1000$, and $c = 0.001$, how do we use these expressions to get the most accurate answer?\n",
    "    \n",
    "(example from Newman)\n",
    "</div>"
   ]
  },
  {
   "cell_type": "code",
   "execution_count": 6,
   "metadata": {
    "tags": [
     "hide-cell"
    ]
   },
   "outputs": [
    {
     "name": "stdout",
     "output_type": "stream",
     "text": [
      "999.999999998 1000.0\n",
      "-1.000000000001e-06 -999999.999999\n"
     ]
    }
   ],
   "source": [
    "a = 0.001\n",
    "b = 1000.0\n",
    "c = 0.001\n",
    "\n",
    "# the problem is the sqrt of the discriminant -- it is very\n",
    "# close to b, so if we subtract it and b, then we maximize\n",
    "# roundoff error\n",
    "print(np.sqrt(b**2 - 4*a*c), b)\n",
    "\n",
    "# we want to choose one solution from each expression --\n",
    "# the one where there is no cancellation of close numbers\n",
    "x1 = 2*c/(-b - np.sqrt(b**2 - 4*a*c))\n",
    "x2 = (-b - np.sqrt(b**2 - 4*a*c))/(2*a)\n",
    "print(x1, x2)"
   ]
  },
  {
   "cell_type": "markdown",
   "metadata": {},
   "source": [
    "## Truncation Error\n",
    "\n",
    "Consider Taylor expanding a function $f(x)$:\n",
    "\n",
    "$$f(x + h) = f(x) + h f^\\prime(x) + \\frac{h^2}{2} f^{\\prime\\prime}(x) + \\ldots$$\n",
    "\n",
    "Rearranging this, we can solve for $f^\\prime(x)$:\n",
    "\n",
    "$$f^\\prime(x) = \\frac{f(x+h) - f(x)}{h} - \\frac{h}{2} f^{\\prime\\prime}(x) + \\ldots$$\n",
    "\n",
    "This looks like the definition of a derivative from calculus, but with extra terms that are proportional to $h$ or higher powers of $h$.\n",
    "\n",
    "We can write this as:\n",
    "\n",
    "$$f^\\prime(x) \\approx \\frac{f(x+h) - f(x)}{h} + \\mathcal{O}(h)$$\n",
    "\n",
    "where $\\mathcal{O}(h)$ here means that the error in this approximation for the derivative is proportion to $h$.  We say this is *first-order accurate*.  This is an example of truncation error -- the terms we are ignoring are an error in our approximation.\n"
   ]
  },
  {
   "cell_type": "markdown",
   "metadata": {},
   "source": [
    "<div class=\"alert alert-block alert-info\">\n",
    "\n",
    "**Exercise:** Relative importance of roundoff and truncation error\n",
    "    \n",
    "Consider a first-order approximation to the derivative:\n",
    "    \n",
    "$$D_h(x) = \\frac{f(x+h) - f(x)}{h}$$\n",
    "\n",
    "Consider $f(x) = \\sin(x)$.  Plot the error in the approximation, $D_h(x)$, vs. $h$.  Does it do what you expect?\n",
    "\n",
    "</div>"
   ]
  },
  {
   "cell_type": "code",
   "execution_count": 7,
   "metadata": {
    "tags": [
     "hide-cell"
    ]
   },
   "outputs": [
    {
     "data": {
      "text/plain": [
       "[<matplotlib.lines.Line2D at 0x7fa344faf7f0>]"
      ]
     },
     "execution_count": 7,
     "metadata": {},
     "output_type": "execute_result"
    },
    {
     "data": {
      "image/png": "[encoded data removed]",
      "text/plain": [
       "<Figure size 432x288 with 1 Axes>"
      ]
     },
     "metadata": {
      "needs_background": "light"
     },
     "output_type": "display_data"
    }
   ],
   "source": [
    "def f(x):\n",
    "    \"\"\"our function to numerically differentiate\"\"\"\n",
    "    return np.sin(x)\n",
    "\n",
    "def Dh(x, h):\n",
    "    \"\"\"a discrete approximation to the derivative at x\"\"\"\n",
    "    return (f(x+h) - f(x))/h\n",
    "\n",
    "def fprime(x):\n",
    "    \"\"\"the analytic derivative of f\"\"\"\n",
    "    return np.cos(x)\n",
    "\n",
    "# generate a set of h's from 1.e-16 to 0.1\n",
    "hs = np.logspace(-16, -1, 1000)\n",
    "\n",
    "# we'll look at the error at pi/3\n",
    "x = np.pi/3.0\n",
    "\n",
    "# compute the numerical difference for all h's\n",
    "num_der = Dh(x, hs)\n",
    "\n",
    "# get the analytic derivative\n",
    "ans = fprime(x)\n",
    "\n",
    "# compute the relative error\n",
    "err = np.abs(num_der - ans)/ans\n",
    "\n",
    "# plot the error vs h\n",
    "fig = plt.figure()\n",
    "ax = fig.add_subplot(111)\n",
    "ax.loglog(hs, err)"
   ]
  },
  {
   "cell_type": "markdown",
   "metadata": {},
   "source": [
    "## Other Errors"
   ]
  },
  {
   "cell_type": "markdown",
   "metadata": {},
   "source": [
    "### Overflow\n",
    "\n",
    "The finite amount of memory used for storing numbers means that there is a maximum and minimum possible number representable as well.\n",
    "\n",
    "<img src=\"https://imgs.xkcd.com/comics/cant_sleep.png\">\n",
    "\n",
    "(credit: xkcd)"
   ]
  },
  {
   "cell_type": "markdown",
   "metadata": {},
   "source": [
    "### NaN and Inf\n",
    "\n",
    "These are defined \"numbers\" that represent floating point errors.  Consider:\n",
    "\n",
    "Some NaNs: $\\sqrt{-1}$, $0/0$, ...\n",
    "\n",
    "Some infs: $1/0$"
   ]
  },
  {
   "cell_type": "code",
   "execution_count": 10,
   "metadata": {},
   "outputs": [
    {
     "name": "stdout",
     "output_type": "stream",
     "text": [
      "inf\n"
     ]
    }
   ],
   "source": [
    "# the largest exponent we can store in double precision \n",
    "# floating point is 308.  What happens if we go beyond that?\n",
    "a = 1.e308\n",
    "print(a*10)"
   ]
  }
 ],
 "metadata": {
  "kernelspec": {
   "display_name": "Python 3",
   "language": "python",
   "name": "python3"
  },
  "language_info": {
   "codemirror_mode": {
    "name": "ipython",
    "version": 3
   },
   "file_extension": ".py",
   "mimetype": "text/x-python",
   "name": "python",
   "nbconvert_exporter": "python",
   "pygments_lexer": "ipython3",
   "version": "3.8.7"
  },
  "widgets": {
   "application/vnd.jupyter.widget-state+json": {
    "state": {},
    "version_major": 2,
    "version_minor": 0
   }
  }
 },
 "nbformat": 4,
 "nbformat_minor": 4
}
