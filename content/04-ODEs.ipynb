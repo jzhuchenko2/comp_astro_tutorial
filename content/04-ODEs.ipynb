{
 "cells": [
  {
   "cell_type": "code",
   "execution_count": 17,
   "metadata": {},
   "outputs": [],
   "source": [
    "import numpy as np\n",
    "import matplotlib.pyplot as plt"
   ]
  },
  {
   "cell_type": "markdown",
   "metadata": {},
   "source": [
    "# ODEs"
   ]
  },
  {
   "cell_type": "markdown",
   "metadata": {},
   "source": [
    "## Test case: orbits\n",
    "\n",
    "We'll use the case of the Earth orbiting the Sun as our test case (we'll assume that the mass of the Earth is insignificant compared to the mass of the Sun).\n",
    "\n",
    "This is a nice test case for integrating ODEs because we have a lot of intuition for the problem.  If we setup the orbit to be circular, we would expect the integration to keep Earth the same distance from the Sun as it evolves in its orbit.  If we see Earth spiraling inward or outward, then we know that our integration is not very accurate.\n",
    "\n",
    "Kepler's 3rd law (neglecting the orbiting object's mass) is:\n",
    "\n",
    "$$ 4\\pi^2 a^3 = G M_\\star P^2$$\n",
    "\n",
    "If we work in units of solar masses, astronomical units (AU), and years, then Kepler's third law is\n",
    "\n",
    "$$a^3 = P^2$$\n",
    "\n",
    "which implies that Newton's gravitational constant is $G = 4\\pi^2$\n",
    "\n",
    "We will put the Sun at the origin of coordinates.  Then our system of equations is\n",
    "\n",
    "\\begin{align}\n",
    "\\dot{\\bf r} &= {\\bf v} \\\\\n",
    "\\dot{\\bf v} &= -\\frac{GM_\\star {\\bf r}}{r^3}\n",
    "\\end{align}\n",
    "\n",
    "where ${\\bf x} = (x, y)$ and ${\\bf v} = (v_x, v_y)$ "
   ]
  },
  {
   "cell_type": "markdown",
   "metadata": {},
   "source": [
    "## Euler's method\n",
    "\n",
    "The simplest method to advance the solution starts with the first-order difference approximations we found for a derivative:\n",
    "\n",
    "$$\\frac{{\\bf r}^{n+1} - {\\bf r}^n}{\\tau} = {\\bf v}^n + \\mathcal{O}(\\tau)$$\n",
    "\n",
    "$$\\frac{{\\bf v}^{n+1} - {\\bf v}^n}{\\tau} = {\\bf a}({\\bf r}^n, {\\bf v}^n) + \\mathcal{O}(\\tau)$$\n",
    "\n",
    "Here, $\\tau$ is the timestep we take and we denote the time-level of the state using a subscript,\n",
    "so $t^n$ is the current time and $t^{n+1} = t^n + \\tau$.\n",
    "\n",
    "Expressing the new state in terms of the old:\n",
    "\n",
    "$${\\bf r}^{n+1} = {\\bf r}^n + \\tau \\,{\\bf v}^n + \\mathcal{O}(\\tau^2)$$\n",
    "\n",
    "$${\\bf v}^{n+1} = {\\bf v}^n + \\tau \\,{\\bf a}({\\bf r}^n, {\\bf v}^n) + \\mathcal{O}(\\tau^2)$$\n",
    "\n",
    "The local error is $O(\\tau^2)$, but to evolve to some time $T$, we will take a large number of steps, $N$, $N = T/tau$, so globally, after evolving to the final time, we will have an error that is $O(\\tau)$.  Therefore Euler's method is first-order accurate.\n",
    "\n",
    "Graphically, for the ODE $\\dot{y} = -y$, Euler's method looks like:\n",
    "\n",
    "![Euler's method](rk2_Euler.png)\n",
    "\n",
    "We find the slope at $t^n$ and follow it forward for the full $\\Delta t$ to $t^{n+1}$."
   ]
  },
  {
   "cell_type": "markdown",
   "metadata": {},
   "source": [
    "Now let's do our orbits.  We need a function that returns the righthand side of the ODEs, so we'll write that first.  It's customary to supply a single vector of inputs and get a single vector of their derivatives, so we'll define\n",
    "\n",
    "$$ Y = \\left ( \\begin{array}{c} x \\\\ y \\\\ v_x \\\\ v_y \\end{array} \\right )$$"
   ]
  },
  {
   "cell_type": "code",
   "execution_count": 9,
   "metadata": {},
   "outputs": [],
   "source": [
    "G = 4*np.pi**2\n",
    "M_sun = 1.0\n",
    "\n",
    "def rhs(t, Y):\n",
    "    \n",
    "    # unpack just to make things easier to read\n",
    "    x, y, vx, vy = Y\n",
    "    \n",
    "    xdot = vx\n",
    "    ydot = vy\n",
    "    \n",
    "    r = np.sqrt(x * x + y * y)\n",
    "    \n",
    "    vxdot = -G * M_sun * x / r**3\n",
    "    vydot = -G * M_sun * y / r**3\n",
    "    \n",
    "    return np.array([xdot, ydot, vxdot, vydot])"
   ]
  },
  {
   "cell_type": "markdown",
   "metadata": {},
   "source": [
    "Now we can write a driver that takes the initial conditions and integrates to a time $T$ using a constant timestep $\\tau$.\n",
    "\n",
    "Many times and ODE solver will just give you the solution at the end of integration.  But we want to make plots, so we want to store the solution along the way.  We will create a special class to hold the solution at each step."
   ]
  },
  {
   "cell_type": "code",
   "execution_count": 10,
   "metadata": {},
   "outputs": [],
   "source": [
    "class OrbitHistory:\n",
    "    \"\"\"store the time history of the orbit solution\"\"\"\n",
    "    \n",
    "    def __init__(self):\n",
    "        self.t = []\n",
    "        self.x = []\n",
    "        self.y = []\n",
    "        self.vx = []\n",
    "        self.vy = []\n",
    "        \n",
    "    def store_current_solution(self, t, Y):\n",
    "        self.t.append(t)\n",
    "        self.x.append(Y[0])\n",
    "        self.y.append(Y[1])\n",
    "        self.vx.append(Y[2])\n",
    "        self.vy.append(Y[3])\n"
   ]
  },
  {
   "cell_type": "code",
   "execution_count": 11,
   "metadata": {},
   "outputs": [],
   "source": [
    "def euler_orbit(Y0, tau, T):\n",
    "    \n",
    "    # we'll return an orbit history object\n",
    "    o = OrbitHistory()\n",
    "    \n",
    "    # storage for the new solution\n",
    "    Y = Y0.copy()\n",
    "    \n",
    "    # initialize time\n",
    "    t = 0\n",
    "    \n",
    "    # store the initial conditions\n",
    "    o.store_current_solution(t, Y0)\n",
    "    \n",
    "    # main timestep loop\n",
    "    while t < T:\n",
    "        \n",
    "        # make sure that the last step does not take us past T\n",
    "        if t + tau > T:\n",
    "            tau = T - t\n",
    "\n",
    "        # get the RHS\n",
    "        Ydot = rhs(t, Y)\n",
    "        \n",
    "        # do the Euler update\n",
    "        Y += tau * Ydot\n",
    "        t += tau\n",
    "        \n",
    "        # store the state\n",
    "        o.store_current_solution(t, Y)\n",
    "        \n",
    "    return o\n",
    "        "
   ]
  },
  {
   "cell_type": "code",
   "execution_count": 28,
   "metadata": {},
   "outputs": [],
   "source": [
    "T = 1\n",
    "x0 = 0\n",
    "y0 = 1\n",
    "vx0 = -np.sqrt(G*M_sun/y0)\n",
    "vy0 = 0\n",
    "\n",
    "Y0 = np.array([x0, y0, vx0, vy0])\n",
    "\n",
    "tau = 0.1\n",
    "\n",
    "orbit = euler_orbit(Y0, tau, 1)"
   ]
  },
  {
   "cell_type": "code",
   "execution_count": 30,
   "metadata": {},
   "outputs": [
    {
     "data": {
      "text/plain": [
       "Text(0, 0.5, 'y [AU]')"
      ]
     },
     "execution_count": 30,
     "metadata": {},
     "output_type": "execute_result"
    },
    {
     "data": {
      "image/png": "[encoded data removed]",
      "text/plain": [
       "<Figure size 432x288 with 1 Axes>"
      ]
     },
     "metadata": {
      "needs_background": "light"
     },
     "output_type": "display_data"
    }
   ],
   "source": [
    "fig = plt.figure()\n",
    "ax = fig.add_subplot(111)\n",
    "\n",
    "# draw the Sun\n",
    "ax.scatter([0], [0], marker=\"*\")\n",
    "ax.plot(orbit.x, orbit.y)\n",
    "ax.set_aspect(\"equal\")\n",
    "ax.set_xlabel(\"x [AU]\")\n",
    "ax.set_ylabel(\"y [AU]\")"
   ]
  },
  {
   "cell_type": "markdown",
   "metadata": {},
   "source": [
    "## Measuring convergence\n",
    "\n",
    "Imagine evolving for a single period and then asking how well did the integrator do.  We need some metric to determine this.  We can imagine a few different measures:\n",
    "\n",
    "1. compare the current distance to the Sun to the original distance to the Sun\n",
    "\n",
    "2. compute the distance from the current $(x, y)$ position to the starting position\n",
    "\n",
    "3. compute the total energy at the end of the integration and compare to the initial total energy.\n",
    "\n",
    "There are likely many more.  Unlike the integrals we did previously, where the natural error to compute was the difference between the numerical integral and the analytic one, here there is not a single obvious metric.  So we should pick one or more and look for convergence.  Depending on what our goal is, one metric might be more meaningful than another."
   ]
  },
  {
   "cell_type": "markdown",
   "metadata": {},
   "source": [
    "## 2nd-order Runge Kutta / Midpoint method"
   ]
  },
  {
   "cell_type": "markdown",
   "metadata": {},
   "source": [
    "## 4th-order Runge-Kutta"
   ]
  },
  {
   "cell_type": "code",
   "execution_count": null,
   "metadata": {},
   "outputs": [],
   "source": []
  },
  {
   "cell_type": "markdown",
   "metadata": {},
   "source": [
    "![4th order Runge-Kutta](rk4_final.png)"
   ]
  },
  {
   "cell_type": "markdown",
   "metadata": {},
   "source": [
    "## Timestepping"
   ]
  },
  {
   "cell_type": "code",
   "execution_count": null,
   "metadata": {},
   "outputs": [],
   "source": []
  }
 ],
 "metadata": {
  "kernelspec": {
   "display_name": "Python 3",
   "language": "python",
   "name": "python3"
  },
  "language_info": {
   "codemirror_mode": {
    "name": "ipython",
    "version": 3
   },
   "file_extension": ".py",
   "mimetype": "text/x-python",
   "name": "python",
   "nbconvert_exporter": "python",
   "pygments_lexer": "ipython3",
   "version": "3.8.7"
  }
 },
 "nbformat": 4,
 "nbformat_minor": 4
}
