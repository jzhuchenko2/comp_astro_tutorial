{
 "cells": [
  {
   "cell_type": "code",
   "execution_count": 1,
   "metadata": {},
   "outputs": [],
   "source": [
    "import numpy as np\n",
    "import matplotlib.pyplot as plt"
   ]
  },
  {
   "cell_type": "markdown",
   "metadata": {
    "tags": [
     "hide-cell"
    ]
   },
   "source": [
    "# Restriction and Prolongation"
   ]
  },
  {
   "cell_type": "markdown",
   "metadata": {},
   "source": [
    "We need a way to transfer data from the current grid to a coarser grid (*restriction*) or finer grid (*prolongation*).\n",
    "\n",
    "The procedure by which we do this depends on the type of grid we are using.  We'll continue to consider a cell-centered finite-difference / finite-volume grid."
   ]
  },
  {
   "cell_type": "markdown",
   "metadata": {},
   "source": [
    "Consider the following 2 grids:\n",
    "\n",
    "![a coarse and fine grid](fvrestrict.png)\n",
    "\n",
    "The fine grid (top) is indexed with $i$ and the coarse grid (bottom) is indexing with $j$.\n",
    "\n",
    "Note that the grids are properly nested: two fine cells fit exactly into a single coarse cell."
   ]
  },
  {
   "cell_type": "markdown",
   "metadata": {},
   "source": [
    "## Restriction"
   ]
  },
  {
   "cell_type": "markdown",
   "metadata": {},
   "source": [
    "Consider the case of bringing the data from the fine grid to the coarse grid.  Since two fine cells are contained exactly in a single coarse cell, a conservative aveaging of the fine data down to the coarse grid would be:\n",
    "\n",
    "$$\\phi^c_j = \\frac{1}{2} \\left ( \\phi^f_i + \\phi^f_{i+1} \\right )$$\n",
    "\n",
    "This is also second-order accurate at the coarse cell cell-center."
   ]
  },
  {
   "cell_type": "markdown",
   "metadata": {},
   "source": [
    "## Prolongation\n",
    "\n",
    "To initialize the two fine cells from a coarse cell, we could do simple direct injection:\n",
    "\n",
    "$$\\phi_i^f = \\phi_j^c$$\n",
    "\n",
    "$$\\phi_{i+1}^f = \\phi_j^c$$\n",
    "\n",
    "This is only first order accurate.  A second-order accurate method of initializing the fine data starts with reconstructing the coarse data as a line:\n",
    "\n",
    "$$\\phi^{\\mathrm{coarse}}(x) = m_x (x - x_j) + \\phi^c_j$$\n",
    "\n",
    "with\n",
    "\n",
    "$$m_x = \\frac{\\phi^c_{j+1} - \\phi^c_{j-1}}{2\\Delta x}$$\n",
    "\n",
    "Then we integrate this line over the two fine cells to find their values:\n",
    "\n",
    "$$\\phi^f_j = \\phi^c_i - \\frac{\\Delta x}{4} m_x$$\n",
    "\n",
    "$$\\phi^f_{j+1} = \\phi^c_i + \\frac{\\Delta x}{4} m_x$$"
   ]
  },
  {
   "cell_type": "code",
   "execution_count": null,
   "metadata": {},
   "outputs": [],
   "source": []
  }
 ],
 "metadata": {
  "kernelspec": {
   "display_name": "Python 3 (ipykernel)",
   "language": "python",
   "name": "python3"
  },
  "language_info": {
   "codemirror_mode": {
    "name": "ipython",
    "version": 3
   },
   "file_extension": ".py",
   "mimetype": "text/x-python",
   "name": "python",
   "nbconvert_exporter": "python",
   "pygments_lexer": "ipython3",
   "version": "3.9.5"
  }
 },
 "nbformat": 4,
 "nbformat_minor": 4
}
