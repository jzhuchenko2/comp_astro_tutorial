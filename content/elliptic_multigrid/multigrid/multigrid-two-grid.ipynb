{
 "cells": [
  {
   "cell_type": "code",
   "execution_count": 1,
   "metadata": {},
   "outputs": [],
   "source": [
    "import numpy as np\n",
    "import matplotlib.pyplot as plt"
   ]
  },
  {
   "cell_type": "markdown",
   "metadata": {
    "tags": [
     "hide-cell"
    ]
   },
   "source": [
    "# Two Grid Correction"
   ]
  },
  {
   "cell_type": "markdown",
   "metadata": {},
   "source": [
    "Before we do multigrid, we can understand the basic flow by using 2 grids: a fine and coarse grid.\n",
    "\n",
    "We want to solve:\n",
    "\n",
    "$$\\nabla^2 \\phi = f$$\n",
    "\n",
    "with suitable boundary conditions.  Imagine that we have a approximate solution, $\\tilde{\\phi}$, then we can define the error with respect to the true solution, $\\phi^{\\mathrm{true}}$ as:\n",
    "\n",
    "$$e = \\phi^{\\mathrm{true}} - \\tilde{\\phi}$$\n",
    "\n",
    "Our Poisson equation is linear, so we can apply the $\\nabla^2$ operator to our error:\n",
    "\n",
    "$$\\nabla^2 e = \\nabla^2 \\phi^{\\mathrm{true}} - \\nabla^2 \\tilde{\\phi} = f - \\nabla^2 \\tilde{\\phi}$$\n",
    "\n",
    "This since $\\tilde{\\phi}$ is just our approximation to $\\phi^{\\mathrm{true}}$, this is just the residual, so:\n",
    "\n",
    "$$\\nabla^2 e = r$$\n",
    "\n",
    "Notice that this is the same type of equation as our original equation.  But the boundary conditions are now homogeneous (of the same type as the original) regardless of whether they were inhomogeneous or homogeneous originally.  For example:\n",
    "\n",
    "* If the BCs were inhomogenous Dirichlet, $\\phi(a) = A$, then \n",
    "\n",
    "  $$e(a) = \\phi^{\\mathrm{true}}(a) - \\tilde{\\phi}(a) = 0$$\n",
    "  \n",
    "  since both the true solution and our approximation satisfy the same boundary conditions.\n",
    "  \n",
    "* Likewise, if the BCs were inhomogenous Neumann, $\\phi^\\prime(a) = C$, then\n",
    "\n",
    "  $$e^{\\prime}(a) = \\phi^{\\mathrm{true},\\prime}(a) - \\tilde{\\phi}^{\\prime}(a) = 0$$"
   ]
  },
  {
   "cell_type": "markdown",
   "metadata": {},
   "source": [
    "The key idea in multigrid is that long wavelength errors take longer to smooth away.  But long wavelength errors look shorter wavelength on a coarser grid.  This suggests that we smooth a bit on a fine grid to get rid of the short wavelength errors and then transfer down to a coarser grid, and smooth the error equation there, and then bring the error back to the fine grid to correct the fine grid solution.\n",
    "\n",
    "We'll use the superscript $h$ to represent the fine grid and the superscript $2h$ to represent a grid that is coarser by a factor of 2.\n",
    "\n",
    "Here's the basic flow:"
   ]
  },
  {
   "cell_type": "markdown",
   "metadata": {},
   "source": [
    "<div style=\"border: solid; padding: 10px; width: 80%; margin: 0 auto; background: #dddddd\">\n",
    "    \n",
    "* Smooth for $N_\\mathrm{smooth}$ iterations on the fine grid, solving $\\nabla^2 \\phi = f$ to get an approximation $\\tilde{\\phi}$\n",
    "\n",
    "* Compute the residual, on the fine grid:\n",
    "\n",
    "  $$r^h = f - \\nabla^2 \\tilde{\\phi}$$\n",
    "  \n",
    "* Restrict $r^h$ to the coarse grid:\n",
    "\n",
    "  $$r^{2h} \\leftarrow r^h$$\n",
    "  \n",
    "* Solve the error equation on the coarse grid:\n",
    "\n",
    "  $$\\nabla^2 e^{2h} = r^{2h}$$\n",
    "  \n",
    "* Prolong the error from the coarse grid up to the fine grid:\n",
    "\n",
    "  $$e^{2h} \\rightarrow e^{h}$$\n",
    "  \n",
    "* Correct the fine grid solution, since by the definition of $e$, $\\phi^{\\mathrm{true}} = \\tilde{\\phi} + e$\n",
    "\n",
    "  $$\\tilde{\\phi}^h \\leftarrow \\tilde{\\phi}^h + e^h$$\n",
    "  \n",
    "* This correction may have introduced some short wavelength noise (from the prolongation), so smooth $\\nabla^2 \\phi = f$ on the fine grid for $N_\\mathrm{smooth}$ iterations.\n",
    "</div>"
   ]
  },
  {
   "cell_type": "markdown",
   "metadata": {},
   "source": [
    "For now, to solve the error equation, we'll resort to simply smoothing until all of residual is below our desired tolerance.  In a little bit though, we'll see that we can just do this procedure recursively for that step."
   ]
  },
  {
   "cell_type": "markdown",
   "metadata": {},
   "source": [
    "We'll start with a grid class that has storage for the solution, righthand side, and residual, and knows how to fill boundary conditions, prolong, and restrict the data, and all of the operations we implemented previously (restriction, prolongation, computing the residual, taking the norm).\n",
    "\n",
    "We store the solution variable ($\\phi$ or $e$) as `Grid.v` in this class."
   ]
  },
  {
   "cell_type": "code",
   "execution_count": 2,
   "metadata": {},
   "outputs": [],
   "source": [
    "import grid"
   ]
  },
  {
   "cell_type": "code",
   "execution_count": 3,
   "metadata": {},
   "outputs": [
    {
     "name": "stdout",
     "output_type": "stream",
     "text": [
      "import numpy as np\n",
      "\n",
      "class Grid:\n",
      "    def __init__(self, nx, ng=1, xmin=0, xmax=1,\n",
      "                 bc_left_type=\"dirichlet\", bc_left_val=0.0,\n",
      "                 bc_right_type=\"dirichlet\", bc_right_val=0.0):\n",
      "\n",
      "        self.xmin = xmin\n",
      "        self.xmax = xmax\n",
      "        self.ng = ng\n",
      "        self.nx = nx\n",
      "\n",
      "        self.bc_left_type = bc_left_type\n",
      "        self.bc_left_val = bc_left_val\n",
      "\n",
      "        self.bc_right_type = bc_right_type\n",
      "        self.bc_right_val = bc_right_val\n",
      "\n",
      "        # python is zero-based.  Make easy intergers to know where the\n",
      "        # real data lives\n",
      "        self.ilo = ng\n",
      "        self.ihi = ng+nx-1\n",
      "\n",
      "        # physical coords -- cell-centered\n",
      "        self.dx = (xmax - xmin)/(nx)\n",
      "        self.x = xmin + (np.arange(nx+2*ng)-ng+0.5)*self.dx\n",
      "\n",
      "        # storage for the solution\n",
      "        self.v = self.scratch_array()\n",
      "        self.f = self.scratch_array()\n",
      "        self.r = self.scratch_array()\n",
      "\n",
      "    def scratch_array(self):\n",
      "        \"\"\"return a scratch array dimensioned for our grid \"\"\"\n",
      "        return np.zeros((self.nx+2*self.ng), dtype=np.float64)\n",
      "\n",
      "    def norm(self, e):\n",
      "        \"\"\"compute the L2 norm of e that lives on our grid\"\"\"\n",
      "        return np.sqrt(self.dx * np.sum(e[self.ilo:self.ihi+1]**2))\n",
      "\n",
      "    def compute_residual(self):\n",
      "        \"\"\"compute and store the residual\"\"\"\n",
      "        self.r[self.ilo:self.ihi+1] = self.f[self.ilo:self.ihi+1] - \\\n",
      "            (self.v[self.ilo+1:self.ihi+2] -\n",
      "             2 * self.v[self.ilo:self.ihi+1] +\n",
      "             self.v[self.ilo-1:self.ihi]) / self.dx**2\n",
      "\n",
      "    def residual_norm(self):\n",
      "        \"\"\"compute the residual norm\"\"\"\n",
      "        self.compute_residual()\n",
      "        return self.norm(self.r)\n",
      "\n",
      "    def source_norm(self):\n",
      "        \"\"\"compute the source norm\"\"\"\n",
      "        return self.norm(self.f)\n",
      "\n",
      "    def fill_bcs(self):\n",
      "        \"\"\"fill the boundary conditions on phi\"\"\"\n",
      "\n",
      "        # we only deal with a single ghost cell here\n",
      "\n",
      "        # left\n",
      "        if self.bc_left_type.lower() == \"dirichlet\":\n",
      "            self.v[self.ilo-1] = 2 * self.bc_left_val - self.v[self.ilo]\n",
      "        elif self.bc_left_type.lower() == \"neumann\":\n",
      "            self.v[self.ilo-1] = self.v[self.ilo] - self.dx * self.bc_left_val\n",
      "        else:\n",
      "            raise ValueError(\"invalid bc_left_type\")\n",
      "\n",
      "        # right\n",
      "        if self.bc_right_type.lower() == \"dirichlet\":\n",
      "            self.v[self.ihi+1] = 2 * self.bc_right_val - self.v[self.ihi]\n",
      "        elif self.bc_right_type.lower() == \"neumann\":\n",
      "            self.v[self.ihi+1] = self.v[self.ihi] - self.dx * self.bc_right_val\n",
      "        else:\n",
      "            raise ValueError(\"invalid bc_right_type\")\n",
      "\n",
      "    def restrict(self, comp=\"v\"):\n",
      "        \"\"\"restrict the data to a coarser (by 2x) grid\"\"\"\n",
      "\n",
      "        # create a coarse array\n",
      "        ng = self.ng\n",
      "        nc = self.nx//2\n",
      "\n",
      "        ilo_c = ng\n",
      "        ihi_c = ng + nc - 1\n",
      "\n",
      "        coarse_data = np.zeros((nc + 2*ng), dtype=np.float64)\n",
      "\n",
      "        if comp == \"v\":\n",
      "            fine_data = self.v\n",
      "        elif comp == \"f\":\n",
      "            fine_data = self.f\n",
      "        elif comp == \"r\":\n",
      "            fine_data = self.r\n",
      "        else:\n",
      "            raise ValueError(\"invalid component\")\n",
      "\n",
      "        coarse_data[ilo_c:ihi_c+1] = 0.5 * (fine_data[self.ilo:self.ihi+1:2] +\n",
      "                                            fine_data[self.ilo+1:self.ihi+1:2])\n",
      "\n",
      "        return coarse_data\n",
      "\n",
      "    def prolong(self, comp=\"v\"):\n",
      "        \"\"\"prolong the data in the current (coarse) grid to a finer (factor\n",
      "        of 2 finer) grid using linear reconstruction.\n",
      "\n",
      "        \"\"\"\n",
      "\n",
      "        if comp == \"v\":\n",
      "            coarse_data = self.v\n",
      "        elif comp == \"f\":\n",
      "            coarse_data = self.f\n",
      "        elif comp == \"r\":\n",
      "            coarse_data = self.r\n",
      "        else:\n",
      "            raise ValueError(\"invalid component\")\n",
      "\n",
      "\n",
      "        # allocate an array for the coarsely gridded data\n",
      "        ng = self.ng\n",
      "        nf = self.nx * 2\n",
      "\n",
      "        fine_data = np.zeros((nf + 2*ng), dtype=np.float64)\n",
      "\n",
      "        ilo_f = ng\n",
      "        ihi_f = ng + nf - 1\n",
      "\n",
      "        # slopes for the coarse data\n",
      "        m_x = self.scratch_array()\n",
      "        m_x[self.ilo:self.ihi+1] = 0.5 * (coarse_data[self.ilo+1:self.ihi+2] -\n",
      "                                          coarse_data[self.ilo-1:self.ihi])\n",
      "\n",
      "        # fill the '1' children\n",
      "        fine_data[ilo_f:ihi_f+1:2] = \\\n",
      "            coarse_data[self.ilo:self.ihi+1] - 0.25 * m_x[self.ilo:self.ihi+1]\n",
      "\n",
      "        # fill the '2' children\n",
      "        fine_data[ilo_f+1:ihi_f+1:2] = \\\n",
      "            coarse_data[self.ilo:self.ihi+1] + 0.25 * m_x[self.ilo:self.ihi+1]\n",
      "\n",
      "        return fine_data\n"
     ]
    }
   ],
   "source": [
    "%cat grid.py"
   ]
  },
  {
   "cell_type": "markdown",
   "metadata": {},
   "source": [
    "We also need the `relax` function we wrote previously.  Here we just paste it below:"
   ]
  },
  {
   "cell_type": "code",
   "execution_count": 13,
   "metadata": {},
   "outputs": [],
   "source": [
    "class TooManyIterations(Exception):\n",
    "    pass\n",
    "\n",
    "def relax(g, tol=1.e-8, max_iters=200000):\n",
    "    \n",
    "    iter = 0\n",
    "    fnorm = g.source_norm()\n",
    "    if fnorm == 0.0:\n",
    "        fnorm = tol\n",
    "        \n",
    "    r = g.residual_norm()\n",
    "    \n",
    "    if tol is None:\n",
    "        test = iter < max_iters\n",
    "    else:\n",
    "        test = iter < max_iters and r > tol * fnorm\n",
    "\n",
    "    g.fill_bcs()\n",
    "\n",
    "    while test:\n",
    "        g.v[g.ilo:g.ihi+1:2] = 0.5 * (-g.dx * g.dx * g.f[g.ilo:g.ihi+1:2] +\n",
    "                                        g.v[g.ilo+1:g.ihi+2:2] + g.v[g.ilo-1:g.ihi:2])\n",
    "    \n",
    "        g.fill_bcs()\n",
    "\n",
    "        g.v[g.ilo+1:g.ihi+1:2] = 0.5 * (-g.dx * g.dx * g.f[g.ilo+1:g.ihi+1:2] +\n",
    "                                          g.v[g.ilo+2:g.ihi+2:2] + g.v[g.ilo:g.ihi:2])\n",
    "        \n",
    "        g.fill_bcs()\n",
    "        \n",
    "        r = g.residual_norm()\n",
    "        \n",
    "        iter += 1\n",
    "        \n",
    "        if tol is None:\n",
    "            test = iter < max_iters\n",
    "        else:\n",
    "            test = iter < max_iters and r > tol * fnorm\n",
    "\n",
    "    if tol is not None and iter >= max_iters:\n",
    "        raise TooManyIterations(f\"too many iterations, niter = {iter}\")"
   ]
  },
  {
   "cell_type": "markdown",
   "metadata": {},
   "source": [
    "Now we can write our two-grid solver.  We'll solve the same system as before:\n",
    "\n",
    "$$\\phi^{\\prime\\prime} = \\sin(x)$$\n",
    "\n",
    "on $[0, 1]$ with homogeneous Dirichlet BCs."
   ]
  },
  {
   "cell_type": "code",
   "execution_count": 14,
   "metadata": {},
   "outputs": [],
   "source": [
    "def analytic(x):\n",
    "    return -np.sin(x) + x * np.sin(1.0)\n",
    "\n",
    "def f(x):\n",
    "    return np.sin(x)"
   ]
  },
  {
   "cell_type": "code",
   "execution_count": 16,
   "metadata": {},
   "outputs": [],
   "source": [
    "nx = 128\n",
    "n_smooth = 10\n",
    "\n",
    "# create the grids\n",
    "fine = grid.Grid(nx)\n",
    "coarse = grid.Grid(nx//2)\n",
    "\n",
    "# initialize the RHS\n",
    "fine.f[:] = f(fine.x)\n",
    "\n",
    "# smooth on the fine grid\n",
    "relax(fine, max_iters=n_smooth, tol=None)\n",
    "\n",
    "# compute the residual\n",
    "fine.compute_residual()\n",
    "\n",
    "# restrict the residual down to the coarse grid as the coarse rhs\n",
    "coarse.f[:] = fine.restrict(\"r\")\n",
    "\n",
    "# solve the coarse problem:\n",
    "relax(coarse, tol=1.e-8)\n",
    "\n",
    "# prolong the error up from the coarse grid and correct the fine grid solution\n",
    "fine.v += coarse.prolong(\"v\")\n",
    "\n",
    "# smooth on the fine grid\n",
    "relax(fine, max_iters=n_smooth, tol=None)"
   ]
  },
  {
   "cell_type": "markdown",
   "metadata": {},
   "source": [
    "Let's look at the solution:"
   ]
  },
  {
   "cell_type": "code",
   "execution_count": 20,
   "metadata": {},
   "outputs": [
    {
     "data": {
      "text/plain": [
       "<matplotlib.legend.Legend at 0x7f368e976f40>"
      ]
     },
     "execution_count": 20,
     "metadata": {},
     "output_type": "execute_result"
    },
    {
     "data": {
      "image/png": "[encoded data removed]",
      "text/plain": [
       "<Figure size 432x288 with 1 Axes>"
      ]
     },
     "metadata": {
      "needs_background": "light"
     },
     "output_type": "display_data"
    }
   ],
   "source": [
    "fig = plt.figure()\n",
    "ax = fig.add_subplot(111)\n",
    "\n",
    "ax.plot(fine.x[fine.ilo:fine.ihi+1], fine.v[fine.ilo:fine.ihi+1])\n",
    "ax.plot(fine.x[fine.ilo:fine.ihi+1], analytic(fine.x[fine.ilo:fine.ihi+1]), label=\"analytic\", ls=\":\")\n",
    "ax.legend()"
   ]
  },
  {
   "cell_type": "code",
   "execution_count": null,
   "metadata": {},
   "outputs": [],
   "source": []
  }
 ],
 "metadata": {
  "kernelspec": {
   "display_name": "Python 3 (ipykernel)",
   "language": "python",
   "name": "python3"
  },
  "language_info": {
   "codemirror_mode": {
    "name": "ipython",
    "version": 3
   },
   "file_extension": ".py",
   "mimetype": "text/x-python",
   "name": "python",
   "nbconvert_exporter": "python",
   "pygments_lexer": "ipython3",
   "version": "3.9.6"
  }
 },
 "nbformat": 4,
 "nbformat_minor": 4
}
