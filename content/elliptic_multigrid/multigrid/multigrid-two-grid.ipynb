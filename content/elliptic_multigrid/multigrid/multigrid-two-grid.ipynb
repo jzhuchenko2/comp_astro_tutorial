{
 "cells": [
  {
   "cell_type": "code",
   "execution_count": 1,
   "metadata": {},
   "outputs": [],
   "source": [
    "import numpy as np\n",
    "import matplotlib.pyplot as plt"
   ]
  },
  {
   "cell_type": "markdown",
   "metadata": {
    "tags": [
     "hide-cell"
    ]
   },
   "source": [
    "# Two Grid Correction"
   ]
  },
  {
   "cell_type": "markdown",
   "metadata": {},
   "source": [
    "Before we do multigrid, we can understand the basic flow by using 2 grids: a fine and coarse grid.\n",
    "\n",
    "We want to solve:\n",
    "\n",
    "$$\\nabla^2 \\phi = f$$\n",
    "\n",
    "with suitable boundary conditions.  Imagine that we have a approximate solution, $\\tilde{\\phi}$, then we can define the error with respect to the true solution, $\\phi^{\\mathrm{true}}$ as:\n",
    "\n",
    "$$e = \\phi^{\\mathrm{true}} - \\tilde{\\phi}$$\n",
    "\n",
    "Our Poisson equation is linear, so we can apply the $\\nabla^2$ operator to our error:\n",
    "\n",
    "$$\\nabla^2 e = \\nabla^2 \\phi^{\\mathrm{true}} - \\nabla^2 \\tilde{\\phi} = f - \\nabla^2 \\tilde{\\phi}$$\n",
    "\n",
    "This since $\\tilde{\\phi}$ is just our approximation to $\\phi^{\\mathrm{true}}$, this is just the residual, so:\n",
    "\n",
    "$$\\nabla^2 e = r$$\n",
    "\n",
    "Notice that this is the same type of equation as our original equation.  But the boundary conditions are now homogeneous (of the same type as the original) regardless of whether they were inhomogeneous or homogeneous originally.  For example:\n",
    "\n",
    "* If the BCs were inhomogenous Dirichlet, $\\phi(a) = A$, then \n",
    "\n",
    "  $$e(a) = \\phi^{\\mathrm{true}}(a) - \\tilde{\\phi}(a) = 0$$\n",
    "  \n",
    "  since both the true solution and our approximation satisfy the same boundary conditions.\n",
    "  \n",
    "* Likewise, if the BCs were inhomogenous Neumann, $\\phi^\\prime(a) = C$, then\n",
    "\n",
    "  $$e^{\\prime}(a) = \\phi^{\\mathrm{true},\\prime}(a) - \\tilde{\\phi}^{\\prime}(a) = 0$$"
   ]
  },
  {
   "cell_type": "markdown",
   "metadata": {},
   "source": [
    "The key idea in multigrid is that long wavelength errors take longer to smooth away.  But long wavelength errors look shorter wavelength on a coarser grid.  This suggests that we smooth a bit on a fine grid to get rid of the short wavelength errors and then transfer down to a coarser grid, and smooth the error equation there, and then bring the error back to the fine grid to correct the fine grid solution.\n",
    "\n",
    "We'll use the superscript $h$ to represent the fine grid and the superscript $2h$ to represent a grid that is coarser by a factor of 2.\n",
    "\n",
    "Here's the basic flow:"
   ]
  },
  {
   "cell_type": "markdown",
   "metadata": {},
   "source": [
    "<div style=\"border: solid; padding: 10px; width: 80%; margin: 0 auto; background: #dddddd\">\n",
    "    \n",
    "* Smooth for $N_\\mathrm{smooth}$ iterations on the fine grid, solving $\\nabla^2 \\phi = f$ to get an approximation $\\tilde{\\phi}$\n",
    "\n",
    "* Compute the residual, on the fine grid:\n",
    "\n",
    "  $$r^h = f - \\nabla^2 \\tilde{\\phi}$$\n",
    "  \n",
    "* Restrict $r^h$ to the coarse grid:\n",
    "\n",
    "  $$r^{2h} \\leftarrow r^h$$\n",
    "  \n",
    "* Solve the error equation on the coarse grid:\n",
    "\n",
    "  $$\\nabla^2 e^{2h} = r^{2h}$$\n",
    "  \n",
    "* Prolong the error from the coarse grid up to the fine grid:\n",
    "\n",
    "  $$e^{2h} \\rightarrow e^{h}$$\n",
    "  \n",
    "* Correct the fine grid solution, since by the definition of $e$, $\\phi^{\\mathrm{true}} = \\tilde{\\phi} + e$\n",
    "\n",
    "  $$\\tilde{\\phi}^h \\leftarrow \\tilde{\\phi}^h + e^h$$\n",
    "  \n",
    "* This correction may have introduced some short wavelength noise (from the prolongation), so smooth $\\nabla^2 \\phi = f$ on the fine grid for $N_\\mathrm{smooth}$ iterations.\n",
    "</div>"
   ]
  },
  {
   "cell_type": "markdown",
   "metadata": {},
   "source": [
    "For now, to solve the error equation, we'll resort to simply smoothing until all of residual is below our desired tolerance.  In a little bit though, we'll see that we can just do this procedure recursively for that step."
   ]
  },
  {
   "cell_type": "code",
   "execution_count": null,
   "metadata": {},
   "outputs": [],
   "source": []
  }
 ],
 "metadata": {
  "kernelspec": {
   "display_name": "Python 3 (ipykernel)",
   "language": "python",
   "name": "python3"
  },
  "language_info": {
   "codemirror_mode": {
    "name": "ipython",
    "version": 3
   },
   "file_extension": ".py",
   "mimetype": "text/x-python",
   "name": "python",
   "nbconvert_exporter": "python",
   "pygments_lexer": "ipython3",
   "version": "3.9.6"
  }
 },
 "nbformat": 4,
 "nbformat_minor": 4
}
