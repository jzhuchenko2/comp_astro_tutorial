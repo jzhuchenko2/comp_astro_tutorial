{
 "cells": [
  {
   "cell_type": "code",
   "execution_count": 8,
   "metadata": {
    "tags": [
     "hide-cell"
    ]
   },
   "outputs": [],
   "source": [
    "import numpy as np\n",
    "import matplotlib.pyplot as plt"
   ]
  },
  {
   "cell_type": "markdown",
   "metadata": {},
   "source": [
    "# Relaxation\n",
    "\n",
    "A second-order accurate discretization of the second derivative is:\n",
    "\n",
    "$$\\phi_i^{\\prime\\prime} = \\frac{\\phi_{i+1} - 2\\phi_i + \\phi_{i-1}}{\\Delta x^2}$$\n",
    "\n",
    "This is true on finite-difference and finite-volume grids (to second-order in $\\Delta x$).  \n",
    "\n",
    "We'll work in 1-d.  Our \n",
    "Poisson equation\n",
    "\n",
    "$$\\phi^{\\prime\\prime} = f$$\n",
    "\n",
    "becomes:\n",
    "\n",
    "$$\\frac{\\phi_{i+1} - 2\\phi_i + \\phi_{i-1}}{\\Delta x^2} = f_i$$\n",
    "\n"
   ]
  },
  {
   "cell_type": "markdown",
   "metadata": {},
   "source": [
    "Using this discretization for all zones i in $0, \\ldots, N-1$ results in $N$ coupled algebraic equations.\n",
    "\n",
    "We can solve for the update for a single zone:\n",
    "\n",
    "$$\\phi_i = \\frac{1}{2} ( \\phi_{i+1} + \\phi_{i-1} - \\Delta x^2 f_i ) $$\n"
   ]
  },
  {
   "cell_type": "markdown",
   "metadata": {},
   "source": [
    "We could solve this by writing it as a linear system, $Ax = b$, with $A$ a triadiagonal matrix with diagonals $1, -2, 1$ and $b$ corresponding to $f_i$.  This approach is a \"direct solve\" of the coupled system.  But this can be expensive in multi-dimensions and harder to parallelize if domain decomposition is used.\n",
    "\n",
    "Instead of directly solving the linear system, we can use relaxation&mdash;an iterative approach that converges to the solution.  Generally relaxation requires that the matrix be *diagonally dominant*, which we are just shy of, but nevertheless, relaxation works quite well for this system.  There are two popular approaches we can consider:\n",
    "\n",
    "* *Jacobi iteration* :\n",
    "  * pick an initial guess $\\phi_i^{(0)}$ for all $i$\n",
    "  * Improve the guess via relaxation:\n",
    "\n",
    "    $$\\phi_i^{(k+1)} = \\frac{1}{2} ( \\phi_{i+1}^{(k)} + \\phi_{i-1}^{(k)} - \\Delta x^2 f_i )$$\n",
    "    \n",
    "  * Assess the error, and if needed iterate\n",
    "  \n",
    "* *Gauss-Seidel (G-S) iteration* :\n",
    "\n",
    "  * pick an initial guess $\\phi_i^{(0)}$ for all $i$\n",
    "\n",
    "  * use the new data as it becomes available:\n",
    "  \n",
    "    $$\\phi_i \\leftarrow \\frac{1}{2} ( \\phi_{i+1} + \\phi_{i-1} - \\Delta x^2 f_i )$$\n",
    "  \n",
    "    Note that there are no iteration superscripts indicated here, since we are not keeping the old and new $\\phi$ separate in memory.\n",
    "    We keep only a single $\\phi$ and update it as we sweep from $i = 0, \\ldots, N-1$."
   ]
  },
  {
   "cell_type": "markdown",
   "metadata": {},
   "source": [
    "A variation on G-S iteration is red-black Gauss-Seidel (think of a checkerboard).\n",
    "\n",
    "* First update the odd points&mdash;they only depend on the values at the even points\n",
    "* Next update the even points&mdash;they only depend on the values of the odd points\n",
    "\n",
    "The advantage of this is that it makes it much easier to parallelize via domain decomposition.  We'll use this approach going forward."
   ]
  },
  {
   "cell_type": "markdown",
   "metadata": {},
   "source": [
    "## Boundary Conditions"
   ]
  },
  {
   "cell_type": "markdown",
   "metadata": {},
   "source": [
    "We need to pay special attention to the boundaries.  This depends on what type of grid we are using.\n",
    "\n",
    "For a finite difference (node-centered) grid:\n",
    "\n",
    "![finite-difference grid](fd_grid_bnd.png)\n",
    "\n",
    "we have a point exactly on each boundary, so we only need to iterate over the interior points.\n",
    "\n",
    "In contracts, for a finite-volume or cell-centered finite-difference grid:\n",
    "\n",
    "![finite-volume grid](ccfd_grid_bnd.png)\n",
    "\n",
    "we don't have data on the physical boundaries, so we will need to interpolate to the boundary."
   ]
  },
  {
   "cell_type": "markdown",
   "metadata": {},
   "source": [
    "We'll work with a cell-centered grid, with a single ghost cell (needed to set the boundary conditions).  We'll label the first interior zone as `lo` and the last interior zone as `hi`.  Imagine that the domain runs from $[a, b]$.\n",
    "\n",
    "![cell-centered finite difference grid with labels](ccfd_ghost.png)\n",
    "\n",
    "Consider the following boundary conditions:\n",
    "\n",
    "* Dirichlet: we need the value on the boundary itself to satisfy the boundary condition:\n",
    "\n",
    "  $$\\phi(a) = A$$\n",
    "  \n",
    "  A naive guess would be to set $\\phi_{\\mathrm{lo}-1} = A$, but this is only first order accurate.\n",
    "  \n",
    "  Instead we recognize that we can average across the boundary to be second-onder on the boundary:\n",
    "  \n",
    "  $$A = \\frac{\\phi_\\mathrm{lo} + \\phi_\\mathrm{lo-1}}{2}$$\n",
    "  \n",
    "  which gives the ghost cell value:\n",
    "  \n",
    "  $$\\phi_{\\mathrm{lo}-1} = 2 A - \\phi_\\mathrm{lo}$$\n",
    "  \n",
    "  \n",
    "* Neumann: we need a gradient, centered at the boundary to match the given value:\n",
    "\n",
    "  $$\\phi^\\prime(a) = C$$\n",
    "  \n",
    "  A second-order accurate discretization one the boundary is:\n",
    "  \n",
    "  $$C = \\frac{\\phi_\\mathrm{lo} - \\phi_\\mathrm{lo-1}}{\\Delta x}$$\n",
    "  \n",
    "  so we would initialize the ghost cell as:\n",
    "  \n",
    "  $$\\phi_{\\mathrm{lo}-1} = \\phi_\\mathrm{lo} -\\Delta x C$$\n",
    "  \n",
    "  \n",
    "  \n",
    "  "
   ]
  },
  {
   "cell_type": "markdown",
   "metadata": {},
   "source": [
    "## First implementation\n"
   ]
  },
  {
   "cell_type": "markdown",
   "metadata": {},
   "source": [
    "Let's start by writing a grid class that holds the solution and RHS and knows how to fill ghost cells."
   ]
  },
  {
   "cell_type": "code",
   "execution_count": 25,
   "metadata": {},
   "outputs": [],
   "source": [
    "class Grid:\n",
    "    def __init__(self, nx, ng=1, xmin=0, xmax=1,\n",
    "                 bc_left_type=\"dirichlet\", bc_left_val=0.0,\n",
    "                 bc_right_type=\"dirichlet\", bc_right_val=0.0):\n",
    "\n",
    "        self.xmin = xmin\n",
    "        self.xmax = xmax\n",
    "        self.ng = ng\n",
    "        self.nx = nx\n",
    "        \n",
    "        self.bc_left_type = bc_left_type\n",
    "        self.bc_left_val = bc_left_val\n",
    "        \n",
    "        self.bc_right_type = bc_right_type\n",
    "        self.bc_right_val = bc_right_val\n",
    "        \n",
    "        # python is zero-based.  Make easy intergers to know where the\n",
    "        # real data lives\n",
    "        self.ilo = ng\n",
    "        self.ihi = ng+nx-1\n",
    "\n",
    "        # physical coords -- cell-centered\n",
    "        self.dx = (xmax - xmin)/(nx)\n",
    "        self.x = xmin + (np.arange(nx+2*ng)-ng+0.5)*self.dx\n",
    "\n",
    "        # storage for the solution\n",
    "        self.phi = self.scratch_array()\n",
    "        self.f = self.scratch_array()\n",
    "        \n",
    "    def scratch_array(self):\n",
    "        \"\"\"return a scratch array dimensioned for our grid \"\"\"\n",
    "        return np.zeros((self.nx+2*self.ng), dtype=np.float64)\n",
    "\n",
    "    def fill_bcs(self):\n",
    "        \"\"\"fill the boundary conditions on phi\"\"\"\n",
    "        \n",
    "        # we only deal with a single ghost cell here\n",
    "        \n",
    "        # left\n",
    "        if self.bc_left_type.lower() == \"dirichlet\":\n",
    "            self.phi[self.ilo-1] = 2 * self.bc_left_val - self.phi[self.ilo]\n",
    "        elif self.bc_left_type.lower() == \"neumann\":\n",
    "            self.phi[self.ilo-1] = self.phi[self.ilo] - self.dx * self.bc_left_val\n",
    "        else:\n",
    "            raise ValueError(\"invalid bc_left_type\")\n",
    "            \n",
    "        # right\n",
    "        if self.bc_right_type.lower() == \"dirichlet\":\n",
    "            self.phi[self.ihi+1] = 2 * self.bc_right_val - self.phi[self.ihi]\n",
    "        elif self.bc_right_type.lower() == \"neumann\":\n",
    "            self.phi[self.ihi+1] = self.phi[self.ihi] - self.dx * self.bc_right_val\n",
    "        else:\n",
    "            raise ValueError(\"invalid bc_right_type\")\n",
    "        "
   ]
  },
  {
   "cell_type": "markdown",
   "metadata": {},
   "source": [
    "Next we'll write a smoother routine, that does a single pass of red-black G-S"
   ]
  },
  {
   "cell_type": "code",
   "execution_count": 41,
   "metadata": {},
   "outputs": [],
   "source": [
    "def smooth(g):\n",
    "    \"\"\"perform red-black Gauss-Seidel smoothing\"\"\"\n",
    "    \n",
    "    g.fill_bcs()\n",
    "    \n",
    "    g.phi[g.ilo:g.ihi+1:2] = 0.5 * (-g.dx * g.dx * g.f[g.ilo:g.ihi+1:2] +\n",
    "                                    g.phi[g.ilo+1:g.ihi+2:2] + g.phi[g.ilo-1:g.ihi:2])\n",
    "    \n",
    "    g.fill_bcs()\n",
    "\n",
    "    g.phi[g.ilo+1:g.ihi+1:2] = 0.5 * (-g.dx * g.dx * g.f[g.ilo+1:g.ihi+1:2] +\n",
    "                                      g.phi[g.ilo+2:g.ihi+2:2] + g.phi[g.ilo:g.ihi:2])"
   ]
  },
  {
   "cell_type": "markdown",
   "metadata": {},
   "source": [
    "Now we are ready to try this out.  Let's do the problem:\n",
    "\n",
    "$$\\phi^{\\prime\\prime} = \\sin(x)$$\n",
    "\n",
    "on $[0, 1]$ with homogeneous Dirichlet BCs.\n",
    "\n",
    "The solution is:\n",
    "\n",
    "$$\\phi(x) = -\\sin(x) + x \\sin(1)$$\n",
    "\n",
    "Let's create functions that initialize the RHS and the analytic solution."
   ]
  },
  {
   "cell_type": "code",
   "execution_count": 42,
   "metadata": {},
   "outputs": [],
   "source": [
    "def analytic(x):\n",
    "    return -np.sin(x) + x * np.sin(1.0)\n",
    "\n",
    "def f(x):\n",
    "    return np.sin(x)"
   ]
  },
  {
   "cell_type": "markdown",
   "metadata": {},
   "source": [
    "Now let's create the grid&mdash;we'll use 128 points to start.  The defaults for the grid class already set homogeneous Dirichlet BCs."
   ]
  },
  {
   "cell_type": "code",
   "execution_count": 43,
   "metadata": {},
   "outputs": [],
   "source": [
    "g = Grid(128)"
   ]
  },
  {
   "cell_type": "markdown",
   "metadata": {},
   "source": [
    "Now we need to initialize $\\phi$ and $f$.  For $\\phi$, we may as well just initialize it to $0$ (which is already done for us by the grid class), since usually we don't know what the answer is."
   ]
  },
  {
   "cell_type": "code",
   "execution_count": 44,
   "metadata": {},
   "outputs": [],
   "source": [
    "g.f[:] = f(g.x)"
   ]
  },
  {
   "cell_type": "markdown",
   "metadata": {},
   "source": [
    "Now we can do relaxation / smoothing.  We don't know how many smoothing iterations we need, and we also haven't yet discussed how to determine what the error is / when to stop.  So we'll look at the result after a fixed number of smoothing iterations."
   ]
  },
  {
   "cell_type": "code",
   "execution_count": 48,
   "metadata": {},
   "outputs": [
    {
     "data": {
      "text/plain": [
       "<matplotlib.legend.Legend at 0x7fb50cd3deb0>"
      ]
     },
     "execution_count": 48,
     "metadata": {},
     "output_type": "execute_result"
    },
    {
     "data": {
      "image/png": "[encoded data removed]",
      "text/plain": [
       "<Figure size 720x576 with 1 Axes>"
      ]
     },
     "metadata": {
      "needs_background": "light"
     },
     "output_type": "display_data"
    }
   ],
   "source": [
    "fig = plt.figure()\n",
    "fig.set_size_inches(10,8)\n",
    "ax = fig.add_subplot(111)\n",
    "\n",
    "niters = [1, 10, 100, 1000]\n",
    "\n",
    "for n in niters:\n",
    "\n",
    "    # smooth n times\n",
    "    for _ in range(n):\n",
    "        smooth(g)\n",
    "    \n",
    "    ax.plot(g.x[g.ilo:g.ihi+1], g.phi[g.ilo:g.ihi+1], label=f\"N = {n}\")\n",
    "    \n",
    "    # reset phi to 0 for the next number of iterations\n",
    "    g.phi[:] = 0.0\n",
    "\n",
    "ax.plot(g.x[g.ilo:g.ihi+1], analytic(g.x[g.ilo:g.ihi+1]), ls=\":\", color=\"0.5\", label=\"analytic\")\n",
    "\n",
    "ax.legend()"
   ]
  },
  {
   "cell_type": "markdown",
   "metadata": {},
   "source": [
    "We see that as we increase the number of smoothing iterations, we get closer to the analytic solution.  Also note that the solution appears to be respecting our boundary conditions well.\n",
    "\n",
    "However, even after 1000 smoothing iterations, we are still far from the true solution."
   ]
  },
  {
   "cell_type": "markdown",
   "metadata": {},
   "source": [
    "<div class=\"alert alert-block alert-info\">\n",
    "\n",
    "**Exercise:**\n",
    "    \n",
    "Code up Jacobi relaxation and see how it compares to G-S on this problem.\n",
    "</div>"
   ]
  }
 ],
 "metadata": {
  "kernelspec": {
   "display_name": "Python 3",
   "language": "python",
   "name": "python3"
  },
  "language_info": {
   "codemirror_mode": {
    "name": "ipython",
    "version": 3
   },
   "file_extension": ".py",
   "mimetype": "text/x-python",
   "name": "python",
   "nbconvert_exporter": "python",
   "pygments_lexer": "ipython3",
   "version": "3.9.6"
  }
 },
 "nbformat": 4,
 "nbformat_minor": 4
}
