{
 "cells": [
  {
   "cell_type": "code",
   "execution_count": 1,
   "metadata": {
    "tags": [
     "hide-cell"
    ]
   },
   "outputs": [],
   "source": [
    "import numpy as np\n",
    "import matplotlib.pyplot as plt"
   ]
  },
  {
   "cell_type": "markdown",
   "metadata": {},
   "source": [
    "# Poisson problem\n",
    "\n",
    "Consider the Poisson equation\n",
    "\n",
    "$$\\nabla^2 \\phi = f$$\n",
    "\n",
    "This is a second-order elliptic equation, and therefore requires 2 boundary conditions.\n",
    "\n",
    "There is no time-dependence in this equation.  The potential $\\phi$ responds instantaneously to the source $f$ and the boundary conditions."
   ]
  },
  {
   "cell_type": "markdown",
   "metadata": {},
   "source": [
    "Consider the one-dimensional Poisson equation:\n",
    "\n",
    "$$\\phi^{\\prime\\prime} = f$$\n",
    "\n",
    "on the domain $[0, a]$.\n",
    "\n",
    "We can supply boundary conditions as\n",
    "\n",
    "* Dirichlet: $\\phi(a) = A$\n",
    "* Neumann: $\\phi^\\prime(a) = C$\n",
    "\n",
    "or a mix of the two.  If the values are set to 0, we call the conditions homogeneous, otherwise we call them inhomogeneous."
   ]
  },
  {
   "cell_type": "markdown",
   "metadata": {},
   "source": [
    "Note: not any set of boundary conditions is allowed.\n",
    "\n",
    "Consider $f = 0$, so our Poisson equation (is the Laplace equation):\n",
    "\n",
    "$$\\phi^{\\prime\\prime} = 0$$\n",
    "\n",
    "and the solution is just\n",
    "\n",
    "$$\\phi(x) = a x + b$$\n",
    "\n",
    "if we try to enforce different inhomogeneous on each end, then we get conflicting values for the slope&mdash;this is unsolvable."
   ]
  },
  {
   "cell_type": "markdown",
   "metadata": {},
   "source": [
    "For the general case, \n",
    "\n",
    "$$\\nabla^2 \\phi = f$$\n",
    "\n",
    "we integrate over the domain\n",
    "\n",
    "$$\\int_\\Omega \\nabla^2 \\phi d\\Omega = \\int_{\\partial \\Omega} \\nabla \\phi \\cdot {\\bf n} dS = \\int_\\Omega f d\\Omega$$\n",
    "\n",
    "If we have homogeneous Neumann BCs on all sides, $\\nabla phi \\cdot {\\bf n} = 0$, then the source, $f$, must satisfy\n",
    "\n",
    "$$\\int_\\Omega f d\\Omega = 0$$\n",
    "\n",
    "The same condition will apply, if the boundary conditions are periodic."
   ]
  },
  {
   "cell_type": "markdown",
   "metadata": {},
   "source": [
    "<div class=\"alert alert-block alert-info\">\n",
    "\n",
    "**Exercise:**\n",
    "    \n",
    "For the function in the previous exercise, perform a composite integral using the trapezoid and Simpson's rule for $N = 2, 4, 8, 16, 32$.\n",
    "Compute the error with respect to the analytic solution and make a plot of the error vs. $N$ for both methods.  Do the errors follow the scaling shown in the expressions above?\n",
    "    \n",
    "</div>"
   ]
  },
  {
   "cell_type": "code",
   "execution_count": null,
   "metadata": {},
   "outputs": [],
   "source": []
  }
 ],
 "metadata": {
  "kernelspec": {
   "display_name": "Python 3",
   "language": "python",
   "name": "python3"
  },
  "language_info": {
   "codemirror_mode": {
    "name": "ipython",
    "version": 3
   },
   "file_extension": ".py",
   "mimetype": "text/x-python",
   "name": "python",
   "nbconvert_exporter": "python",
   "pygments_lexer": "ipython3",
   "version": "3.9.5"
  }
 },
 "nbformat": 4,
 "nbformat_minor": 4
}
