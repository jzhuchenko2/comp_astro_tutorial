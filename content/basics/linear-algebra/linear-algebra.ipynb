{
 "cells": [
  {
   "cell_type": "code",
   "execution_count": 1,
   "metadata": {
    "tags": [
     "hide-cell"
    ]
   },
   "outputs": [],
   "source": [
    "import numpy as np\n",
    "import matplotlib.pyplot as plt"
   ]
  },
  {
   "cell_type": "markdown",
   "metadata": {},
   "source": [
    "# Linear Algebra\n",
    "\n",
    "There are a lot of situations that we'll see lead to needing to solve a linear system of the form:\n",
    "\n",
    "$${\\bf A} {\\bf x} = {\\bf b}$$\n",
    "\n",
    "where ${\\bf A}$ is a matrix, ${\\bf b}$ is a known vector, and ${\\bf x}$ is the unknown vector we want to find.\n",
    "\n",
    "We'll start by looking at general methods, but there are lots of specialized ways to solve a linear system depending on the properties of the matrix ${\\bf A}$.\n",
    "\n",
    "Numerical linear algebra can tricky and its easy to do things wrong.  Here's a nice summary: [Seven Sins of Numerical Linear Algebra](https://nhigham.com/2022/10/11/seven-sins-of-numerical-linear-algebra/)"
   ]
  },
  {
   "cell_type": "markdown",
   "metadata": {},
   "source": [
    "## Review of Matrices\n",
    "\n",
    "Before we look at methods for solving linear systems, we'll start with reviewing some of the methods we learned in the past."
   ]
  },
  {
   "cell_type": "markdown",
   "metadata": {},
   "source": [
    "### Matrix-vector multiplication\n",
    "\n",
    "Consider multiplying matrix ${\\bf A}$ and vector ${\\bf x}$ as ${\\bf A}{\\bf x} = {\\bf b}.  Take:\n",
    "\n",
    "* ${\\bf A}$ to be an $m\\times n$ matrix\n",
    "* ${\\bf x}$ to be an $n\\times 1$ (column) vector\n",
    "* ${\\bf b}$ will be an $m\\times 1$ (column) vector\n",
    "\n",
    "The multiplication looks like:\n",
    "\n",
    "$$b_i = (A x)_i = \\sum_{j=1}^M A_{ij} x_j$$\n",
    "\n",
    "For a square matrix, the number of multiplications scales as $\\mathcal{O}(N^2)$"
   ]
  },
  {
   "cell_type": "markdown",
   "metadata": {},
   "source": [
    "### Matrix-matrix multiplication\n",
    "\n",
    "$$(AB)_{ij} = \\sum_{k=1}^N A_{ik} B_{kj}$$"
   ]
  },
  {
   "cell_type": "markdown",
   "metadata": {},
   "source": [
    "### Determinant"
   ]
  },
  {
   "cell_type": "markdown",
   "metadata": {},
   "source": [
    "### Inverse"
   ]
  },
  {
   "cell_type": "markdown",
   "metadata": {},
   "source": [
    "### Eigenvalues and eigenvectors"
   ]
  },
  {
   "cell_type": "markdown",
   "metadata": {},
   "source": [
    "### Cramer's Rule"
   ]
  },
  {
   "cell_type": "code",
   "execution_count": null,
   "metadata": {},
   "outputs": [],
   "source": []
  }
 ],
 "metadata": {
  "kernelspec": {
   "display_name": "Python 3 (ipykernel)",
   "language": "python",
   "name": "python3"
  },
  "language_info": {
   "codemirror_mode": {
    "name": "ipython",
    "version": 3
   },
   "file_extension": ".py",
   "mimetype": "text/x-python",
   "name": "python",
   "nbconvert_exporter": "python",
   "pygments_lexer": "ipython3",
   "version": "3.10.7"
  }
 },
 "nbformat": 4,
 "nbformat_minor": 4
}
