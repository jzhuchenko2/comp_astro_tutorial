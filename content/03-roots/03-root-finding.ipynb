{
 "cells": [
  {
   "cell_type": "code",
   "execution_count": 3,
   "metadata": {},
   "outputs": [],
   "source": [
    "import numpy as np\n",
    "import matplotlib.pyplot as plt"
   ]
  },
  {
   "cell_type": "markdown",
   "metadata": {},
   "source": [
    "# Root finding"
   ]
  },
  {
   "cell_type": "markdown",
   "metadata": {},
   "source": [
    "We want to find the value of $x$ such that $f(x) = 0$, for a general function $f(x)$.  This is the *root-finding* problem.\n",
    "\n",
    "There are lots of different methods for finding roots.  We'll look at 2.\n",
    "\n",
    "Let's start by trying to find the root of \n",
    "\n",
    "$$f(x) = \\frac{1}{2} x^3 + \\frac{\\pi}{3}x + 2$$\n",
    "\n"
   ]
  },
  {
   "cell_type": "code",
   "execution_count": 4,
   "metadata": {},
   "outputs": [],
   "source": [
    "def f(x):\n",
    "    return 0.5*x**3 + np.pi/3 * x + 2"
   ]
  },
  {
   "cell_type": "markdown",
   "metadata": {},
   "source": [
    "## Bisection"
   ]
  },
  {
   "cell_type": "markdown",
   "metadata": {},
   "source": [
    "Let's start by plotting the function&mdash;we already have a decision to make.  We want to pick a range where we expect there to be a root.  So we will make a somewhat generous range."
   ]
  },
  {
   "cell_type": "code",
   "execution_count": 5,
   "metadata": {},
   "outputs": [
    {
     "data": {
      "text/plain": [
       "[<matplotlib.lines.Line2D at 0x7efc7c0f0d00>]"
      ]
     },
     "execution_count": 5,
     "metadata": {},
     "output_type": "execute_result"
    },
    {
     "data": {
      "image/png": "[encoded data removed]",
      "text/plain": [
       "<Figure size 432x288 with 1 Axes>"
      ]
     },
     "metadata": {
      "needs_background": "light"
     },
     "output_type": "display_data"
    }
   ],
   "source": [
    "x = np.linspace(-3, 3, 1000)\n",
    "\n",
    "fig = plt.figure()\n",
    "ax = fig.add_subplot(111)\n",
    "\n",
    "# plot our function\n",
    "ax.plot(x, f(x))\n",
    "\n",
    "# also plot y = 0, so we can see visually where the root lies\n",
    "ax.plot(x, 0*x, linestyle=\":\", color=\"0.5\")"
   ]
  },
  {
   "cell_type": "markdown",
   "metadata": {},
   "source": [
    "Notice from this that the function crosses $y = 0$ near $x = -2$.  So just from the graph we have an approximation of the root.\n",
    "\n",
    "But also notice that to the left of the root, $f(x) < 0$, and to the right of the root, $f(x) > 0$.  \n",
    "\n",
    "So we can locate the root by looking for the region where $f(x)$ changes sign.  This is what bisection does&mdash;we pick an interval where we expect there to be a root and we narrow the interval by looking for the half-interval where $f(x)$ still changes sign."
   ]
  },
  {
   "cell_type": "markdown",
   "metadata": {},
   "source": [
    "Looking at the plot, we expect that the root lies between $[-2, -1]$&mdash;we'll call these the left and right points $x_l$ and $x_r$.\n",
    "\n",
    "We can be sure by looking at the function values at those two points and checking if it indeed changes sign."
   ]
  },
  {
   "cell_type": "code",
   "execution_count": 6,
   "metadata": {},
   "outputs": [
    {
     "name": "stdout",
     "output_type": "stream",
     "text": [
      "-4.094395102393195 0.45280244880340237\n"
     ]
    }
   ],
   "source": [
    "xl = -2\n",
    "xr = -1\n",
    "\n",
    "print(f(xl), f(xr))"
   ]
  },
  {
   "cell_type": "markdown",
   "metadata": {},
   "source": [
    "It does!.  Now we can try to narrow the range.  For the bisection method, we'll look at the point in the middle (we'll call that $x_m$):"
   ]
  },
  {
   "cell_type": "code",
   "execution_count": 7,
   "metadata": {},
   "outputs": [
    {
     "name": "stdout",
     "output_type": "stream",
     "text": [
      "-1.2582963267948966\n"
     ]
    }
   ],
   "source": [
    "xm = 0.5 * (xl + xr)\n",
    "print(f(xm))"
   ]
  },
  {
   "cell_type": "markdown",
   "metadata": {},
   "source": [
    "$f(x_m) < 0$ just like $f(x_l)$, therefore, it must be the case that that our root, $x_0 \\in [x_m, x_r]$.\n",
    "\n",
    "So we now have cut the range in half.  We can then repeat this process, each time cutting the range where the root lies in half.  Once the interval containing the root is small enough (e.g., the width is less than the error with which we want to know the root), then we stop."
   ]
  },
  {
   "cell_type": "markdown",
   "metadata": {},
   "source": [
    "Let's code this idea up"
   ]
  },
  {
   "cell_type": "code",
   "execution_count": 8,
   "metadata": {},
   "outputs": [],
   "source": [
    "def bisect(xl, xr, func, tol=1.e-8):\n",
    "    \"\"\"find the zero of func(x) in the interval [xl, xr]\"\"\"\n",
    "    \n",
    "    # first check if there is a root in the interval\n",
    "    fl = func(xl)\n",
    "    fr = func(xr)\n",
    "    \n",
    "    if fl * fr > 0:\n",
    "        print(\"no root in the interval\")\n",
    "        return None\n",
    "    \n",
    "    # now setup our iteration loop.  We will keep looping until\n",
    "    # the relative error is < tol\n",
    "    err = 1.e10\n",
    "    xm = 0.5 * (xl + xr)\n",
    "\n",
    "    while err > tol:\n",
    "        fm = func(xm)\n",
    "        \n",
    "        if fl*fm > 0:\n",
    "            # the root is in the right half of the interval\n",
    "            xl = xm\n",
    "            fl = fm\n",
    "        else:\n",
    "            # the root is in the left half of the interval\n",
    "            xr = xm\n",
    "            fr = fm\n",
    "        \n",
    "        xm = 0.5 * (xl + xr)\n",
    "        err = np.abs(xr - xl) / np.abs(xm)\n",
    "        \n",
    "    return xm"
   ]
  },
  {
   "cell_type": "markdown",
   "metadata": {},
   "source": [
    "Now we can call it by giving it a range and the function we wish to zero"
   ]
  },
  {
   "cell_type": "code",
   "execution_count": 9,
   "metadata": {},
   "outputs": [
    {
     "data": {
      "text/plain": [
       "-1.1615653000772"
      ]
     },
     "execution_count": 9,
     "metadata": {},
     "output_type": "execute_result"
    }
   ],
   "source": [
    "x0 = bisect(-2, -1, f)\n",
    "x0"
   ]
  },
  {
   "cell_type": "markdown",
   "metadata": {},
   "source": [
    "Did we get it right?  We can evaluate $f(x)$ at $x_0$:"
   ]
  },
  {
   "cell_type": "code",
   "execution_count": 10,
   "metadata": {},
   "outputs": [
    {
     "data": {
      "text/plain": [
       "-4.675163367551249e-09"
      ]
     },
     "execution_count": 10,
     "metadata": {},
     "output_type": "execute_result"
    }
   ],
   "source": [
    "f(x0)"
   ]
  },
  {
   "cell_type": "markdown",
   "metadata": {},
   "source": [
    "That's pretty close to 0!"
   ]
  },
  {
   "cell_type": "markdown",
   "metadata": {},
   "source": [
    "Bisection convergece slowly&mdash;each iteration cuts the interval in half, so a lot of iterations may be needed to find the zero to the accuracy you want."
   ]
  },
  {
   "cell_type": "markdown",
   "metadata": {},
   "source": [
    "<div class=\"alert alert-block alert-info\">\n",
    "\n",
    "**Exercise:**\n",
    "\n",
    "Consider the function \n",
    "\n",
    "$$f(x) = x^2$$\n",
    "\n",
    "What happens when you try to use bisection on this? why?\n",
    "    \n",
    "</div>"
   ]
  },
  {
   "cell_type": "markdown",
   "metadata": {},
   "source": [
    "## Newton-Raphson"
   ]
  },
  {
   "cell_type": "markdown",
   "metadata": {},
   "source": [
    "The Newton-Raphson approach will often converge faster than bisection.  Instead of starting with a bracket containing the root, you start with an initial guess for the root, $x_0$.  We can then Taylor-expand around our guess:\n",
    "\n",
    "$$f(x_0 + \\delta x) = f(x_0) + f^\\prime(x_0) \\delta x + \\mathcal{O}(\\delta x^2)$$\n",
    "\n",
    "Here, $\\delta x$ is the correction to $x_0$ that gives us our root, i.e., $f(x_0 + \\delta x) = 0$.\n",
    "\n",
    "If our initial guess is good, then $\\delta x$ is small, and we can neglect the higher-order terms in the expansion, and we have:\n",
    "\n",
    "$$f(x_0 + \\delta x) \\approx f(x_0) + f^\\prime(x_0) \\delta x = 0$$\n",
    "\n",
    "Solving for our correction, we have:\n",
    "\n",
    "$$\\delta x = -\\frac{f(x_0)}{f^\\prime(x_0)}$$\n",
    "\n",
    "We can correct our initial guess: $x_0 \\rightarrow x_0 + \\delta x$ and repeat the process until $|\\delta x| \\ll |x_0|$.\n",
    "\n",
    "One complication compared with bisection is that we need the derivative, $f^\\prime(x)$ now.  Usually we'll want to provide the analytic derivative (but if needed, we could do a difference approximation)."
   ]
  },
  {
   "cell_type": "markdown",
   "metadata": {},
   "source": [
    "We can understand Newton's method graphically as follows.  At each iteration, we have a guess for the root.  We follow the slope of the function, $f^\\prime$ from that guess to where the slope intercepts the x-axis.  The x-intercept of the slope becomes our new guess and we repeat.  \n",
    "\n",
    "For our function, starting with $x_0 = 3$, this looks like:\n",
    "\n",
    "![Newton iter 0](newton_00.png)\n",
    "\n",
    "The function evaluated at our initial guess, $f(x_0)$ is labeled `0`.  We look at the derivatve there and follow it down to the x-axis and get a new guess for the root (which we mark with a red \"x\").\n",
    "\n",
    "Then we repeat, starting with this new guess:\n",
    "\n",
    "![Newton iter 1](newton_01.png)\n",
    "\n",
    "and again:\n",
    "\n",
    "![Newton iter 2](newton_02.png)\n",
    "\n",
    "Already in this 3rd iteration our new estimate for the root is quite good."
   ]
  },
  {
   "cell_type": "markdown",
   "metadata": {},
   "source": [
    "To code this up, we need to provide the derivative of our function above"
   ]
  },
  {
   "cell_type": "code",
   "execution_count": 11,
   "metadata": {},
   "outputs": [],
   "source": [
    "def fprime(x):\n",
    "    return 1.5*x**2 + np.pi/3.0"
   ]
  },
  {
   "cell_type": "code",
   "execution_count": 12,
   "metadata": {},
   "outputs": [],
   "source": [
    "def newton(x0, func, funcprime, tol=1.e-8):\n",
    "    \"\"\"find the root of func(x) using Newton's method, taking\n",
    "    x0 as an initial guess\"\"\"\n",
    "    \n",
    "    err = 1.e10\n",
    "    \n",
    "    while err > tol:\n",
    "        dx = -func(x0) / funcprime(x0)\n",
    "        x0 += dx\n",
    "        err = np.abs(dx) / np.abs(x0)\n",
    "        \n",
    "    return x0"
   ]
  },
  {
   "cell_type": "markdown",
   "metadata": {},
   "source": [
    "Let's start with $x_0 = 3$, just like the figures above:"
   ]
  },
  {
   "cell_type": "code",
   "execution_count": 13,
   "metadata": {},
   "outputs": [
    {
     "data": {
      "text/plain": [
       "-1.1615652985548652"
      ]
     },
     "execution_count": 13,
     "metadata": {},
     "output_type": "execute_result"
    }
   ],
   "source": [
    "x0 = 3\n",
    "newton(x0, f, fprime)"
   ]
  },
  {
   "cell_type": "markdown",
   "metadata": {},
   "source": [
    "<div class=\"alert alert-block alert-info\">\n",
    "\n",
    "**Exercise:**\n",
    "\n",
    "Following up on the previous exercise.  Try finding the root of \n",
    "    \n",
    "$$f(x) = x^2$$\n",
    "    \n",
    "using Newton's method.  How many iterations are needed to reach your error?\n",
    "    \n",
    "</div>"
   ]
  },
  {
   "cell_type": "code",
   "execution_count": null,
   "metadata": {},
   "outputs": [],
   "source": []
  }
 ],
 "metadata": {
  "kernelspec": {
   "display_name": "Python 3",
   "language": "python",
   "name": "python3"
  },
  "language_info": {
   "codemirror_mode": {
    "name": "ipython",
    "version": 3
   },
   "file_extension": ".py",
   "mimetype": "text/x-python",
   "name": "python",
   "nbconvert_exporter": "python",
   "pygments_lexer": "ipython3",
   "version": "3.8.7"
  }
 },
 "nbformat": 4,
 "nbformat_minor": 4
}
